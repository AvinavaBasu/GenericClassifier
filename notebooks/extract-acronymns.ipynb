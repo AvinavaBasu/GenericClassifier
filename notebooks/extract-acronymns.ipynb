{
 "cells": [
  {
   "cell_type": "code",
   "execution_count": 1,
   "metadata": {},
   "outputs": [],
   "source": [
    "# extracted in extract-datasets.ipynb\n",
    "generic_dataset = '../output/generic_orgs_and_variants.csv'\n",
    "generic_dataset2 = '../output/specific_orgs_generic_variants.csv'\n",
    "specific_dataset = '../output/specific_orgs_and_specific_variants.csv'"
   ]
  },
  {
   "cell_type": "code",
   "execution_count": 2,
   "metadata": {},
   "outputs": [],
   "source": [
    "import sys\n",
    "sys.path.append('../generic-classifier/')"
   ]
  },
  {
   "cell_type": "code",
   "execution_count": 3,
   "metadata": {},
   "outputs": [],
   "source": [
    "# from importlib import reload\n",
    "# import classifyGenericModified\n",
    "# reload(classifyGenericModified)"
   ]
  },
  {
   "cell_type": "code",
   "execution_count": 4,
   "metadata": {},
   "outputs": [],
   "source": [
    "import pandas as pd\n",
    "from classifyGenericModified import extract_acronyms, typeDict, subjectDict, subjApproxDict, subjModDict, orgModDict"
   ]
  },
  {
   "cell_type": "code",
   "execution_count": 5,
   "metadata": {},
   "outputs": [],
   "source": [
    "paths = [generic_dataset, generic_dataset2, specific_dataset]\n",
    "all_datasets = pd.concat([pd.read_csv(p) for p in paths])"
   ]
  },
  {
   "cell_type": "markdown",
   "metadata": {},
   "source": [
    "# Extracting ambiguous acronyms (those used by two or more orgs)\n",
    "\n",
    "An acronym is considered ambigous if it is associated with two institutional IDs. Due to noise in the datasets, some of the institutions might actually be divisions of the same institutions.\n",
    "\n",
    "It's OK to include more acronyms in this list that there actually are because that would make the generic classifier more conservative and, eventually, the matcher more accurate."
   ]
  },
  {
   "cell_type": "code",
   "execution_count": 6,
   "metadata": {},
   "outputs": [],
   "source": [
    "extract_acronyms_args = [typeDict, subjectDict, subjApproxDict, subjModDict, orgModDict]"
   ]
  },
  {
   "cell_type": "code",
   "execution_count": 7,
   "metadata": {},
   "outputs": [],
   "source": [
    "all_datasets['acronyms'] = all_datasets.input.apply(extract_acronyms, args=extract_acronyms_args)"
   ]
  },
  {
   "cell_type": "code",
   "execution_count": 8,
   "metadata": {},
   "outputs": [],
   "source": [
    "filtered_dataset = all_datasets[all_datasets.acronyms.apply(len) > 0].copy()\n",
    "filtered_dataset['acronyms'] = filtered_dataset['acronyms'].apply(tuple)"
   ]
  },
  {
   "cell_type": "code",
   "execution_count": 9,
   "metadata": {},
   "outputs": [
    {
     "data": {
      "text/html": [
       "<div>\n",
       "<style scoped>\n",
       "    .dataframe tbody tr th:only-of-type {\n",
       "        vertical-align: middle;\n",
       "    }\n",
       "\n",
       "    .dataframe tbody tr th {\n",
       "        vertical-align: top;\n",
       "    }\n",
       "\n",
       "    .dataframe thead th {\n",
       "        text-align: right;\n",
       "    }\n",
       "</style>\n",
       "<table border=\"1\" class=\"dataframe\">\n",
       "  <thead>\n",
       "    <tr style=\"text-align: right;\">\n",
       "      <th></th>\n",
       "      <th>input</th>\n",
       "      <th>id</th>\n",
       "      <th>label</th>\n",
       "      <th>acronyms</th>\n",
       "    </tr>\n",
       "  </thead>\n",
       "  <tbody>\n",
       "    <tr>\n",
       "      <th>414560</th>\n",
       "      <td>Service Central d'Anatomie et de Cytologie Pat...</td>\n",
       "      <td>60002810</td>\n",
       "      <td>SPE</td>\n",
       "      <td>(CHU,)</td>\n",
       "    </tr>\n",
       "    <tr>\n",
       "      <th>1326671</th>\n",
       "      <td>KLES&amp;apos;s Institute of Dental Sciences</td>\n",
       "      <td>60108934</td>\n",
       "      <td>SPE</td>\n",
       "      <td>(KLES,)</td>\n",
       "    </tr>\n",
       "    <tr>\n",
       "      <th>1672188</th>\n",
       "      <td>Clin. ORL Hop. Croix Rousse</td>\n",
       "      <td>60010942</td>\n",
       "      <td>SPE</td>\n",
       "      <td>(ORL,)</td>\n",
       "    </tr>\n",
       "    <tr>\n",
       "      <th>1307228</th>\n",
       "      <td>National Institute of Economic and Social Rese...</td>\n",
       "      <td>60109561</td>\n",
       "      <td>SPE</td>\n",
       "      <td>(NIESR,)</td>\n",
       "    </tr>\n",
       "    <tr>\n",
       "      <th>1174656</th>\n",
       "      <td>LABEIN Technological Cent</td>\n",
       "      <td>60102749</td>\n",
       "      <td>SPE</td>\n",
       "      <td>(LABEIN,)</td>\n",
       "    </tr>\n",
       "    <tr>\n",
       "      <th>1265115</th>\n",
       "      <td>MOL Hungarian Oil and Gas Co</td>\n",
       "      <td>60100927</td>\n",
       "      <td>SPE</td>\n",
       "      <td>(MOL,)</td>\n",
       "    </tr>\n",
       "    <tr>\n",
       "      <th>1350302</th>\n",
       "      <td>Centro de Investigación Y Tecnología Agroali...</td>\n",
       "      <td>60096984</td>\n",
       "      <td>SPE</td>\n",
       "      <td>(CITA,)</td>\n",
       "    </tr>\n",
       "    <tr>\n",
       "      <th>317872</th>\n",
       "      <td>ADAS Drayton</td>\n",
       "      <td>60006769</td>\n",
       "      <td>SPE</td>\n",
       "      <td>(ADAS,)</td>\n",
       "    </tr>\n",
       "    <tr>\n",
       "      <th>1188218</th>\n",
       "      <td>IBS Center for RNA Research</td>\n",
       "      <td>60104544</td>\n",
       "      <td>SPE</td>\n",
       "      <td>(IBS, RNA)</td>\n",
       "    </tr>\n",
       "    <tr>\n",
       "      <th>992466</th>\n",
       "      <td>Fraunhofer Institut Fertigungstechnik Material...</td>\n",
       "      <td>60010500</td>\n",
       "      <td>SPE</td>\n",
       "      <td>(IFAM,)</td>\n",
       "    </tr>\n",
       "  </tbody>\n",
       "</table>\n",
       "</div>"
      ],
      "text/plain": [
       "                                                     input        id label  \\\n",
       "414560   Service Central d'Anatomie et de Cytologie Pat...  60002810   SPE   \n",
       "1326671           KLES&apos;s Institute of Dental Sciences  60108934   SPE   \n",
       "1672188                        Clin. ORL Hop. Croix Rousse  60010942   SPE   \n",
       "1307228  National Institute of Economic and Social Rese...  60109561   SPE   \n",
       "1174656                          LABEIN Technological Cent  60102749   SPE   \n",
       "1265115                       MOL Hungarian Oil and Gas Co  60100927   SPE   \n",
       "1350302  Centro de Investigación Y Tecnología Agroali...  60096984   SPE   \n",
       "317872                                        ADAS Drayton  60006769   SPE   \n",
       "1188218                        IBS Center for RNA Research  60104544   SPE   \n",
       "992466   Fraunhofer Institut Fertigungstechnik Material...  60010500   SPE   \n",
       "\n",
       "           acronyms  \n",
       "414560       (CHU,)  \n",
       "1326671     (KLES,)  \n",
       "1672188      (ORL,)  \n",
       "1307228    (NIESR,)  \n",
       "1174656   (LABEIN,)  \n",
       "1265115      (MOL,)  \n",
       "1350302     (CITA,)  \n",
       "317872      (ADAS,)  \n",
       "1188218  (IBS, RNA)  \n",
       "992466      (IFAM,)  "
      ]
     },
     "execution_count": 9,
     "metadata": {},
     "output_type": "execute_result"
    }
   ],
   "source": [
    "filtered_dataset.sample(10)"
   ]
  },
  {
   "cell_type": "code",
   "execution_count": 10,
   "metadata": {},
   "outputs": [],
   "source": [
    "acronym2doc_id = filtered_dataset.groupby('acronyms').agg(set)"
   ]
  },
  {
   "cell_type": "code",
   "execution_count": 11,
   "metadata": {},
   "outputs": [],
   "source": [
    "ambiguous_acronyms = acronym2doc_id[acronym2doc_id['id'].apply(len) >= 2]"
   ]
  },
  {
   "cell_type": "code",
   "execution_count": 12,
   "metadata": {},
   "outputs": [
    {
     "data": {
      "text/plain": [
       "6424"
      ]
     },
     "execution_count": 12,
     "metadata": {},
     "output_type": "execute_result"
    }
   ],
   "source": [
    "len(ambiguous_acronyms)"
   ]
  },
  {
   "cell_type": "markdown",
   "metadata": {},
   "source": [
    "## Eye-balling"
   ]
  },
  {
   "cell_type": "code",
   "execution_count": 13,
   "metadata": {},
   "outputs": [
    {
     "name": "stdout",
     "output_type": "stream",
     "text": [
      "('CRTI',) : {60105579, 60087261, 60109806} : {'Research Center in Industrial Tcchnologies CRTI', 'Research Centre in Industrial Technologies CRTI', 'Research Center in Industrial Technologies CRTI', 'CRTI', 'Centre pour la Recherche en Transplantation et Immunointervention (CRTI)', 'Research Center in Idustrial Technologies CRTI'} \n",
      "\n",
      "('EPC',) : {60070011, 60031828} : {'McMaster University Evidence-based Practice Center (EPC)', 'European Policy Center (EPC)'} \n",
      "\n",
      "('THOMSON',) : {60007716, 60088549, 60020519, 60048520, 60081943} : {'S.G.S. THOMSON Microelectronics', 'Laboratoire Central de Recherches THOMSON-C. S. F', 'THOMSON Deutsche Thomson Brandt GmbH', 'THOMSON Telecom Belgium', 'S.G.S.-THOMSON Microelectronics', 'THOMSON'} \n",
      "\n",
      "('CS1C',) : {60010769, 60029205, 60068643, 60021421} : {'Institut de Ciències de la Terra Jaume Almera (CS1C)', 'Institute de Acuicultura de Torre de la Sal (CS1C)', 'Instituto de la Grasa (CS1C)', 'C.I.D. (CS1C)'} \n",
      "\n",
      "('ULA',) : {60002439, 60052106, 60016081, 60062234, 60093275, 60005247} : {'Universidadde los Andes (ULA)', 'ULA.', 'Universidad de Los Andes (ULA', 'ULA(United Launch Alliance', 'Universidad de Los Andes (ULA)', 'Facultad deIngeniería de la ULA', 'ULA Business Development', 'Universidad de los Andes (ULA)', 'Fac de Ingenieria - ULA', 'Harbor-ULA Medical Center', 'Facultad de Ingeniería de la ULA', 'Cat. Fisiopatol. ULA', 'ULA Sch. Med.', 'Univ. los Andes (ULA) Sch. of Med.', 'United Launch Alliance (ULA)', 'Universidad de los Andes. (ULA-Mérida', 'Universidad de los Andes (ULA', 'ULA', 'University of Los Andes (ULA)', 'University of The Andes (ULA)', 'Los Andes University (ULA)'} \n",
      "\n",
      "('SRS',) : {60002721, 60012257, 60033035, 60106196, 60004762} : {'Natl. Dairy Research Institute (SRS)', 'Vel Multitech SRS Engineering college', 'SRS Daresbury Lab', 'SRS Daresbury Laboratory', 'Vel Multitech SRS Engineering College', 'Veltech Multitech SRS Engineering College', 'SRS Technologies', 'SRS of National Dairy Research Institute', 'Daresbury SRS Laboratory', 'ManTech SRS Technologies', 'Veltech Multi Tech SRS Engineering College'} \n",
      "\n",
      "('APERAM',) : {60116731, 60116732} : {'APERAM Alloys Rescal', 'APERAM South America-Centro de Pesquisa', 'APERAM Customer Team Auto', 'APERAM RandD', 'APERAM Stainless Steel Research Centre', 'APERAM Stainless', 'APERAM R and D', 'APERAM Isbergues Research and Development', 'APERAM', 'GM APERAM I-R and D', 'APERAM South America - Dept of Research'} \n",
      "\n",
      "('AVRDC',) : {60095352, 60095351} : {'The Asian Vegetable Research & Development Centre (AVRDC)', 'Asian Vegetable Research and Development Center (AVRDC)', 'Asian Veg. R and D Center (AVRDC)', 'Asian Vegetable Research and Development Centre (AVRDC)', 'Asian Vegt. Res./Dev. Center AVRDC', 'AVRDC - the World Vegetable Center', 'Asian Vegetable Research and Development Center (AVRDC) Shanhua', 'The Asian Vegetable Research and Development Center (AVRDC)', 'AVRDC-The World Vegetable Center', 'Asian Vegetable Research & Development Center (AVRDC)', 'Asian Vegetable Research and Development Centre (AVRDC', 'AVRDC-the World Vegetable Center', 'AVRDC', 'AVRDC - The World Vegetable Center'} \n",
      "\n",
      "('USDA', 'ARS', 'SAA') : {60103625, 60001989, 60103678} : {'USDA-ARS/SAA', 'USDA-ARS-SAA'} \n",
      "\n",
      "('IHF',) : {60074830, 60115295} : {'IHF Inst. for Hormone/Fertility Res.', 'IHF Inst. Horm. Fertil. Res. U.', 'Institute for High Frequency Technology (IHF)', 'IHF Institut', 'IHF Inst. Hormon-/Fortpfl. Forsch.', 'Institute of High Frequency Technology (IHF)', 'Institut für Hormon- und Fortpflanzungsforschung (IHF)', 'IHF Inst. for Horm. and Fertil. Res.', 'IHF Institute for Hormone and Fertility Research', 'IHF Institute Hormone and Fertility', 'IHF Institut für Hormon- und Fortpflanzungsforschung', 'IHF Inst. Horm. Fertil. Res. Univ.', 'IHF', 'Institute for Hormone and Fertility Research (IHF)', 'IHF Inst. for Horm./Fertil. Research'} \n",
      "\n"
     ]
    }
   ],
   "source": [
    "def _print_row(row):\n",
    "    print(row['acronyms'], ':', row['id'], ':', row['input'], '\\n')\n",
    "    \n",
    "_ = ambiguous_acronyms.sample(10).reset_index().apply(_print_row, axis=1)"
   ]
  },
  {
   "cell_type": "markdown",
   "metadata": {},
   "source": [
    "# Extract generic acronyms\n",
    "\n",
    "These are acronyms associated with a generic org."
   ]
  },
  {
   "cell_type": "code",
   "execution_count": 14,
   "metadata": {},
   "outputs": [],
   "source": [
    "generics = pd.read_csv(generic_dataset)"
   ]
  },
  {
   "cell_type": "code",
   "execution_count": 15,
   "metadata": {},
   "outputs": [],
   "source": [
    "generics['acronyms'] = generics.input.apply(extract_acronyms, args=extract_acronyms_args)"
   ]
  },
  {
   "cell_type": "code",
   "execution_count": 16,
   "metadata": {},
   "outputs": [],
   "source": [
    "filtered_generics = generics[generics.acronyms.apply(len) > 0]"
   ]
  },
  {
   "cell_type": "code",
   "execution_count": 17,
   "metadata": {},
   "outputs": [
    {
     "data": {
      "text/plain": [
       "334"
      ]
     },
     "execution_count": 17,
     "metadata": {},
     "output_type": "execute_result"
    }
   ],
   "source": [
    "len(filtered_generics)"
   ]
  },
  {
   "cell_type": "code",
   "execution_count": 18,
   "metadata": {},
   "outputs": [
    {
     "data": {
      "text/html": [
       "<div>\n",
       "<style scoped>\n",
       "    .dataframe tbody tr th:only-of-type {\n",
       "        vertical-align: middle;\n",
       "    }\n",
       "\n",
       "    .dataframe tbody tr th {\n",
       "        vertical-align: top;\n",
       "    }\n",
       "\n",
       "    .dataframe thead th {\n",
       "        text-align: right;\n",
       "    }\n",
       "</style>\n",
       "<table border=\"1\" class=\"dataframe\">\n",
       "  <thead>\n",
       "    <tr style=\"text-align: right;\">\n",
       "      <th></th>\n",
       "      <th>input</th>\n",
       "      <th>id</th>\n",
       "      <th>label</th>\n",
       "      <th>acronyms</th>\n",
       "    </tr>\n",
       "  </thead>\n",
       "  <tbody>\n",
       "    <tr>\n",
       "      <th>10979</th>\n",
       "      <td>Department of Botany MRC-166</td>\n",
       "      <td>60001291</td>\n",
       "      <td>GEN</td>\n",
       "      <td>[MRC]</td>\n",
       "    </tr>\n",
       "    <tr>\n",
       "      <th>10710</th>\n",
       "      <td>Department of Chemistry (BCC582)</td>\n",
       "      <td>60031084</td>\n",
       "      <td>GEN</td>\n",
       "      <td>[BCC582]</td>\n",
       "    </tr>\n",
       "    <tr>\n",
       "      <th>14135</th>\n",
       "      <td>Department of Surgery MDC16</td>\n",
       "      <td>60015245</td>\n",
       "      <td>GEN</td>\n",
       "      <td>[MDC16]</td>\n",
       "    </tr>\n",
       "    <tr>\n",
       "      <th>18126</th>\n",
       "      <td>Department of Immunology IMM-23</td>\n",
       "      <td>60022232</td>\n",
       "      <td>GEN</td>\n",
       "      <td>[IMM]</td>\n",
       "    </tr>\n",
       "    <tr>\n",
       "      <th>16072</th>\n",
       "      <td>Department of Electrical Engineering (DEE)</td>\n",
       "      <td>60009736</td>\n",
       "      <td>GEN</td>\n",
       "      <td>[DEE]</td>\n",
       "    </tr>\n",
       "    <tr>\n",
       "      <th>13188</th>\n",
       "      <td>ECE Department</td>\n",
       "      <td>60033206</td>\n",
       "      <td>GEN</td>\n",
       "      <td>[ECE]</td>\n",
       "    </tr>\n",
       "    <tr>\n",
       "      <th>5646</th>\n",
       "      <td>Orthopaedic Department (RKU)</td>\n",
       "      <td>60019361</td>\n",
       "      <td>GEN</td>\n",
       "      <td>[RKU]</td>\n",
       "    </tr>\n",
       "    <tr>\n",
       "      <th>5647</th>\n",
       "      <td>Orthopaedic Department (RKU)</td>\n",
       "      <td>60019361</td>\n",
       "      <td>GEN</td>\n",
       "      <td>[RKU]</td>\n",
       "    </tr>\n",
       "    <tr>\n",
       "      <th>12260</th>\n",
       "      <td>Departamento Cirugía II-ORL</td>\n",
       "      <td>60023169</td>\n",
       "      <td>GEN</td>\n",
       "      <td>[ORL]</td>\n",
       "    </tr>\n",
       "    <tr>\n",
       "      <th>14062</th>\n",
       "      <td>Department of Surgery II (ORL)</td>\n",
       "      <td>60015245</td>\n",
       "      <td>GEN</td>\n",
       "      <td>[ORL]</td>\n",
       "    </tr>\n",
       "  </tbody>\n",
       "</table>\n",
       "</div>"
      ],
      "text/plain": [
       "                                            input        id label  acronyms\n",
       "10979                Department of Botany MRC-166  60001291   GEN     [MRC]\n",
       "10710            Department of Chemistry (BCC582)  60031084   GEN  [BCC582]\n",
       "14135                 Department of Surgery MDC16  60015245   GEN   [MDC16]\n",
       "18126             Department of Immunology IMM-23  60022232   GEN     [IMM]\n",
       "16072  Department of Electrical Engineering (DEE)  60009736   GEN     [DEE]\n",
       "13188                              ECE Department  60033206   GEN     [ECE]\n",
       "5646                 Orthopaedic Department (RKU)  60019361   GEN     [RKU]\n",
       "5647                 Orthopaedic Department (RKU)  60019361   GEN     [RKU]\n",
       "12260                Departamento Cirugía II-ORL  60023169   GEN     [ORL]\n",
       "14062              Department of Surgery II (ORL)  60015245   GEN     [ORL]"
      ]
     },
     "execution_count": 18,
     "metadata": {},
     "output_type": "execute_result"
    }
   ],
   "source": [
    "filtered_generics.sample(10)"
   ]
  },
  {
   "cell_type": "markdown",
   "metadata": {},
   "source": [
    "# Writing"
   ]
  },
  {
   "cell_type": "code",
   "execution_count": 19,
   "metadata": {},
   "outputs": [],
   "source": [
    "acronym_blacklist = pd.concat([filtered_generics, filtered_dataset], sort=False)\n",
    "acronym_blacklist['acronyms'] = acronym_blacklist['acronyms'].apply(lambda x: ' '.join(x))"
   ]
  },
  {
   "cell_type": "code",
   "execution_count": 22,
   "metadata": {},
   "outputs": [],
   "source": [
    "with open('dicts/acronym_whitelist.txt', 'w') as f:\n",
    "    for a in sorted(acronym_blacklist['acronyms'].drop_duplicates()):\n",
    "        f.write(a)\n",
    "        f.write('\\n')"
   ]
  },
  {
   "cell_type": "code",
   "execution_count": null,
   "metadata": {},
   "outputs": [],
   "source": []
  }
 ],
 "metadata": {
  "kernelspec": {
   "display_name": "Python [conda env:generic-classifier] *",
   "language": "python",
   "name": "conda-env-generic-classifier-py"
  },
  "language_info": {
   "codemirror_mode": {
    "name": "ipython",
    "version": 3
   },
   "file_extension": ".py",
   "mimetype": "text/x-python",
   "name": "python",
   "nbconvert_exporter": "python",
   "pygments_lexer": "ipython3",
   "version": "3.6.9"
  }
 },
 "nbformat": 4,
 "nbformat_minor": 2
}