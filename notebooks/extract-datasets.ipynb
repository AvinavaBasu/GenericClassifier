{
 "cells": [
  {
   "cell_type": "code",
   "execution_count": 1,
   "metadata": {},
   "outputs": [],
   "source": [
    "raw_generic_dataset = '../../datasets/generic_orgs_and_variants.json'\n",
    "raw_generic_dataset2 = '../../datasets/specific_orgs_generic_variants.json'\n",
    "raw_specific_dataset = '../../datasets/specific_orgs_and_specific_variants.json'\n",
    "ipr_dataset = '../../datasets/ipr_20191030_names.csv'"
   ]
  },
  {
   "cell_type": "code",
   "execution_count": 2,
   "metadata": {},
   "outputs": [],
   "source": [
    "import sys\n",
    "sys.path.append('../generic-classifier/')\n"
   ]
  },
  {
   "cell_type": "code",
   "execution_count": 3,
   "metadata": {},
   "outputs": [],
   "source": [
    "import json\n",
    "import pandas as pd\n",
    "from sklearn.model_selection import train_test_split"
   ]
  },
  {
   "cell_type": "markdown",
   "metadata": {},
   "source": [
    "# Utility functions"
   ]
  },
  {
   "cell_type": "code",
   "execution_count": 11,
   "metadata": {},
   "outputs": [
    {
     "name": "stdout",
     "output_type": "stream",
     "text": [
      "{\r\n",
      "  \"responseHeader\":{\r\n",
      "    \"status\":0,\r\n",
      "    \"QTime\":1,\r\n",
      "    \"params\":{\r\n",
      "      \"q\":\"{!parent which=\\\"contentType:org\\\"}address.country:xd\",\r\n",
      "      \"fl\":\"*,[child parentFilter=\\\"contentType:org\\\" childFilter=\\\"contentType:variant AND variant.name:*\\\" limit=10000]\",\r\n",
      "      \"rows\":\"2000\"}},\r\n",
      "  \"response\":{\"numFound\":1926,\"start\":0,\"docs\":[\r\n",
      "      {\r\n",
      "        \"id\":\"60018049\",\r\n",
      "        \"contentType\":\"org\",\r\n",
      "        \"name\":\"Department of Critical Care Medicine\",\r\n",
      "        \"normalizedName\":\"department of critical care medicine\",\r\n",
      "        \"primary\":false,\r\n",
      "        \"scope\":\"unknown\",\r\n",
      "        \"type\":[\"ddep\"],\r\n",
      "        \"standAlone\":false,\r\n",
      "        \"main\":true,\r\n",
      "        \"generic\":false,\r\n",
      "        \"val\":\"unv\",\r\n",
      "        \"_version_\":1639813966023622656},\r\n",
      "      {\r\n",
      "        \"id\":\"60016180\",\r\n",
      "        \"contentType\":\"org\",\r\n"
     ]
    }
   ],
   "source": [
    "!head -n 25 $raw_generic_dataset"
   ]
  },
  {
   "cell_type": "code",
   "execution_count": 6,
   "metadata": {},
   "outputs": [],
   "source": [
    "def _read_child_docs(row):\n",
    "    if row['_childDocuments_'] != float('nan'):\n",
    "        df = pd.DataFrame(row['_childDocuments_'])\n",
    "        df['id'] = row['id']\n",
    "        return df\n",
    "\n",
    "def read_dataset_with_variants(path):\n",
    "    with open(path) as f:\n",
    "        ds = json.load(f)\n",
    "        df = pd.DataFrame(ds['response']['docs'])\n",
    "        df = df.rename(columns={'name': 'input'})\n",
    "        df['name_type'] = 'name'\n",
    "        child_docs = pd.concat((_read_child_docs(row) for _, row in \n",
    "                                df.dropna(subset=['_childDocuments_']).iterrows()), sort=False)\n",
    "        child_docs = child_docs.rename(columns={'variant.name': 'input'})\n",
    "        child_docs['name_type'] = 'variant'\n",
    "        df = pd.concat([df, child_docs], sort=False)\n",
    "        return df[['input', 'id', 'name_type']]\n",
    "    \n",
    "def read_dataset(path):\n",
    "    with open(path) as f:\n",
    "        ds = json.load(f)\n",
    "        df = pd.DataFrame(ds['response']['docs'])\n",
    "        df = df.rename(columns={'variant.name': 'input'})\n",
    "        df['id'] = df['id'].str.replace('^(\\d+)-.+$', r'\\1')\n",
    "        return df[['input', 'id']]"
   ]
  },
  {
   "cell_type": "markdown",
   "metadata": {},
   "source": [
    "# Reading data in"
   ]
  },
  {
   "cell_type": "code",
   "execution_count": 7,
   "metadata": {},
   "outputs": [
    {
     "name": "stdout",
     "output_type": "stream",
     "text": [
      "CPU times: user 2.97 s, sys: 139 ms, total: 3.11 s\n",
      "Wall time: 3.13 s\n"
     ]
    }
   ],
   "source": [
    "%%time\n",
    "generics = read_dataset_with_variants(raw_generic_dataset)\n",
    "generics['label'] = 'GEN'\n",
    "generics_in_specific = read_dataset(raw_generic_dataset2)\n",
    "generics_in_specific['label'] = 'GEN'"
   ]
  },
  {
   "cell_type": "code",
   "execution_count": 14,
   "metadata": {},
   "outputs": [
    {
     "data": {
      "text/html": [
       "<div>\n",
       "<style scoped>\n",
       "    .dataframe tbody tr th:only-of-type {\n",
       "        vertical-align: middle;\n",
       "    }\n",
       "\n",
       "    .dataframe tbody tr th {\n",
       "        vertical-align: top;\n",
       "    }\n",
       "\n",
       "    .dataframe thead th {\n",
       "        text-align: right;\n",
       "    }\n",
       "</style>\n",
       "<table border=\"1\" class=\"dataframe\">\n",
       "  <thead>\n",
       "    <tr style=\"text-align: right;\">\n",
       "      <th></th>\n",
       "      <th>input</th>\n",
       "      <th>id</th>\n",
       "      <th>label</th>\n",
       "    </tr>\n",
       "  </thead>\n",
       "  <tbody>\n",
       "    <tr>\n",
       "      <th>493</th>\n",
       "      <td>B6 Department of Medicine</td>\n",
       "      <td>60015766</td>\n",
       "      <td>GEN</td>\n",
       "    </tr>\n",
       "    <tr>\n",
       "      <th>1</th>\n",
       "      <td>Faculty of Science and Technology</td>\n",
       "      <td>60069272</td>\n",
       "      <td>GEN</td>\n",
       "    </tr>\n",
       "    <tr>\n",
       "      <th>52</th>\n",
       "      <td>Dépt. de Mathématiques</td>\n",
       "      <td>60005657</td>\n",
       "      <td>GEN</td>\n",
       "    </tr>\n",
       "    <tr>\n",
       "      <th>25</th>\n",
       "      <td>Dep. Human Genet.</td>\n",
       "      <td>60006093</td>\n",
       "      <td>GEN</td>\n",
       "    </tr>\n",
       "    <tr>\n",
       "      <th>275</th>\n",
       "      <td>Department of Pathology (HSC-4N67)</td>\n",
       "      <td>60014898</td>\n",
       "      <td>GEN</td>\n",
       "    </tr>\n",
       "    <tr>\n",
       "      <th>68</th>\n",
       "      <td>Dept Cell &amp; Molec.Biol.</td>\n",
       "      <td>60004041</td>\n",
       "      <td>GEN</td>\n",
       "    </tr>\n",
       "    <tr>\n",
       "      <th>329</th>\n",
       "      <td>Pathol. Dept.</td>\n",
       "      <td>60014898</td>\n",
       "      <td>GEN</td>\n",
       "    </tr>\n",
       "    <tr>\n",
       "      <th>1</th>\n",
       "      <td>Dept. of Mech. Eng.</td>\n",
       "      <td>60007744</td>\n",
       "      <td>GEN</td>\n",
       "    </tr>\n",
       "    <tr>\n",
       "      <th>622</th>\n",
       "      <td>Department of Medicine (111W)</td>\n",
       "      <td>60015766</td>\n",
       "      <td>GEN</td>\n",
       "    </tr>\n",
       "    <tr>\n",
       "      <th>36</th>\n",
       "      <td>Dipartimento di Biologia Cellulare</td>\n",
       "      <td>60021002</td>\n",
       "      <td>GEN</td>\n",
       "    </tr>\n",
       "  </tbody>\n",
       "</table>\n",
       "</div>"
      ],
      "text/plain": [
       "                                  input        id label\n",
       "493           B6 Department of Medicine  60015766   GEN\n",
       "1     Faculty of Science and Technology  60069272   GEN\n",
       "52             Dépt. de Mathématiques  60005657   GEN\n",
       "25                    Dep. Human Genet.  60006093   GEN\n",
       "275  Department of Pathology (HSC-4N67)  60014898   GEN\n",
       "68              Dept Cell & Molec.Biol.  60004041   GEN\n",
       "329                       Pathol. Dept.  60014898   GEN\n",
       "1                   Dept. of Mech. Eng.  60007744   GEN\n",
       "622       Department of Medicine (111W)  60015766   GEN\n",
       "36   Dipartimento di Biologia Cellulare  60021002   GEN"
      ]
     },
     "execution_count": 14,
     "metadata": {},
     "output_type": "execute_result"
    }
   ],
   "source": [
    "generics.sample(10)"
   ]
  },
  {
   "cell_type": "code",
   "execution_count": 20,
   "metadata": {},
   "outputs": [
    {
     "name": "stdout",
     "output_type": "stream",
     "text": [
      "CPU times: user 5min 53s, sys: 26.9 s, total: 6min 20s\n",
      "Wall time: 6min 24s\n"
     ]
    }
   ],
   "source": [
    "%%time\n",
    "specifics = read_dataset_with_variants(raw_specific_dataset)\n",
    "specifics['label'] = 'SPE'"
   ]
  },
  {
   "cell_type": "code",
   "execution_count": 21,
   "metadata": {},
   "outputs": [
    {
     "data": {
      "text/html": [
       "<div>\n",
       "<style scoped>\n",
       "    .dataframe tbody tr th:only-of-type {\n",
       "        vertical-align: middle;\n",
       "    }\n",
       "\n",
       "    .dataframe tbody tr th {\n",
       "        vertical-align: top;\n",
       "    }\n",
       "\n",
       "    .dataframe thead th {\n",
       "        text-align: right;\n",
       "    }\n",
       "</style>\n",
       "<table border=\"1\" class=\"dataframe\">\n",
       "  <thead>\n",
       "    <tr style=\"text-align: right;\">\n",
       "      <th></th>\n",
       "      <th>input</th>\n",
       "      <th>id</th>\n",
       "      <th>name_type</th>\n",
       "      <th>label</th>\n",
       "    </tr>\n",
       "  </thead>\n",
       "  <tbody>\n",
       "    <tr>\n",
       "      <th>18750</th>\n",
       "      <td>Sandton Medi-Clinic</td>\n",
       "      <td>60014365</td>\n",
       "      <td>name</td>\n",
       "      <td>SPE</td>\n",
       "    </tr>\n",
       "    <tr>\n",
       "      <th>41985</th>\n",
       "      <td>Birjand University of Medical Sciences, Infect...</td>\n",
       "      <td>60115049</td>\n",
       "      <td>name</td>\n",
       "      <td>SPE</td>\n",
       "    </tr>\n",
       "    <tr>\n",
       "      <th>22649</th>\n",
       "      <td>Geological Survey of Canada Sidney</td>\n",
       "      <td>60024757</td>\n",
       "      <td>name</td>\n",
       "      <td>SPE</td>\n",
       "    </tr>\n",
       "    <tr>\n",
       "      <th>58081</th>\n",
       "      <td>University of Zurich, Sociological Institute</td>\n",
       "      <td>60070528</td>\n",
       "      <td>name</td>\n",
       "      <td>SPE</td>\n",
       "    </tr>\n",
       "    <tr>\n",
       "      <th>17795</th>\n",
       "      <td>Human-centered Design Organization</td>\n",
       "      <td>60091851</td>\n",
       "      <td>name</td>\n",
       "      <td>SPE</td>\n",
       "    </tr>\n",
       "    <tr>\n",
       "      <th>53018</th>\n",
       "      <td>E.K. Fedorov Institute of Applied Geophysics</td>\n",
       "      <td>60069624</td>\n",
       "      <td>name</td>\n",
       "      <td>SPE</td>\n",
       "    </tr>\n",
       "    <tr>\n",
       "      <th>15929</th>\n",
       "      <td>Mcwest Corporation</td>\n",
       "      <td>60109355</td>\n",
       "      <td>name</td>\n",
       "      <td>SPE</td>\n",
       "    </tr>\n",
       "    <tr>\n",
       "      <th>81256</th>\n",
       "      <td>Department of Heat and Gas Supply and Ventilation</td>\n",
       "      <td>60120965</td>\n",
       "      <td>name</td>\n",
       "      <td>SPE</td>\n",
       "    </tr>\n",
       "    <tr>\n",
       "      <th>7411</th>\n",
       "      <td>Hungarian Institute for Building Science</td>\n",
       "      <td>60068475</td>\n",
       "      <td>name</td>\n",
       "      <td>SPE</td>\n",
       "    </tr>\n",
       "    <tr>\n",
       "      <th>6518</th>\n",
       "      <td>Reproductive Toxicology Center - DC</td>\n",
       "      <td>60025362</td>\n",
       "      <td>name</td>\n",
       "      <td>SPE</td>\n",
       "    </tr>\n",
       "  </tbody>\n",
       "</table>\n",
       "</div>"
      ],
      "text/plain": [
       "                                                   input        id name_type  \\\n",
       "18750                                Sandton Medi-Clinic  60014365      name   \n",
       "41985  Birjand University of Medical Sciences, Infect...  60115049      name   \n",
       "22649                 Geological Survey of Canada Sidney  60024757      name   \n",
       "58081       University of Zurich, Sociological Institute  60070528      name   \n",
       "17795                 Human-centered Design Organization  60091851      name   \n",
       "53018       E.K. Fedorov Institute of Applied Geophysics  60069624      name   \n",
       "15929                                 Mcwest Corporation  60109355      name   \n",
       "81256  Department of Heat and Gas Supply and Ventilation  60120965      name   \n",
       "7411            Hungarian Institute for Building Science  60068475      name   \n",
       "6518                 Reproductive Toxicology Center - DC  60025362      name   \n",
       "\n",
       "      label  \n",
       "18750   SPE  \n",
       "41985   SPE  \n",
       "22649   SPE  \n",
       "58081   SPE  \n",
       "17795   SPE  \n",
       "53018   SPE  \n",
       "15929   SPE  \n",
       "81256   SPE  \n",
       "7411    SPE  \n",
       "6518    SPE  "
      ]
     },
     "execution_count": 21,
     "metadata": {},
     "output_type": "execute_result"
    }
   ],
   "source": [
    "specifics[specifics['name_type'] == 'name'].sample(10)"
   ]
  },
  {
   "cell_type": "code",
   "execution_count": 25,
   "metadata": {},
   "outputs": [
    {
     "data": {
      "text/html": [
       "<div>\n",
       "<style scoped>\n",
       "    .dataframe tbody tr th:only-of-type {\n",
       "        vertical-align: middle;\n",
       "    }\n",
       "\n",
       "    .dataframe tbody tr th {\n",
       "        vertical-align: top;\n",
       "    }\n",
       "\n",
       "    .dataframe thead th {\n",
       "        text-align: right;\n",
       "    }\n",
       "</style>\n",
       "<table border=\"1\" class=\"dataframe\">\n",
       "  <thead>\n",
       "    <tr style=\"text-align: right;\">\n",
       "      <th></th>\n",
       "      <th>input</th>\n",
       "      <th>id</th>\n",
       "      <th>name_type</th>\n",
       "      <th>label</th>\n",
       "    </tr>\n",
       "  </thead>\n",
       "  <tbody>\n",
       "    <tr>\n",
       "      <th>32</th>\n",
       "      <td>Canada Research Chair in IT in Healthcare</td>\n",
       "      <td>60088929</td>\n",
       "      <td>variant</td>\n",
       "      <td>SPE</td>\n",
       "    </tr>\n",
       "    <tr>\n",
       "      <th>599</th>\n",
       "      <td>Universität Bonn</td>\n",
       "      <td>60007493</td>\n",
       "      <td>variant</td>\n",
       "      <td>SPE</td>\n",
       "    </tr>\n",
       "    <tr>\n",
       "      <th>2</th>\n",
       "      <td>University of Azad</td>\n",
       "      <td>60089171</td>\n",
       "      <td>variant</td>\n",
       "      <td>SPE</td>\n",
       "    </tr>\n",
       "    <tr>\n",
       "      <th>58</th>\n",
       "      <td>Samung Electronics Yongin</td>\n",
       "      <td>60003780</td>\n",
       "      <td>variant</td>\n",
       "      <td>SPE</td>\n",
       "    </tr>\n",
       "    <tr>\n",
       "      <th>17</th>\n",
       "      <td>Moudsley Hospital</td>\n",
       "      <td>60032249</td>\n",
       "      <td>variant</td>\n",
       "      <td>SPE</td>\n",
       "    </tr>\n",
       "    <tr>\n",
       "      <th>152</th>\n",
       "      <td>Academy of Sciences of the Latvian S.S.R</td>\n",
       "      <td>60069098</td>\n",
       "      <td>variant</td>\n",
       "      <td>SPE</td>\n",
       "    </tr>\n",
       "    <tr>\n",
       "      <th>22</th>\n",
       "      <td>Inst. Univ. Euroéen de la Mer</td>\n",
       "      <td>60026314</td>\n",
       "      <td>variant</td>\n",
       "      <td>SPE</td>\n",
       "    </tr>\n",
       "    <tr>\n",
       "      <th>172</th>\n",
       "      <td>Slovak Acad. Sci.</td>\n",
       "      <td>60010330</td>\n",
       "      <td>variant</td>\n",
       "      <td>SPE</td>\n",
       "    </tr>\n",
       "    <tr>\n",
       "      <th>53</th>\n",
       "      <td>Federal Research Institute of Nutrition and Bi...</td>\n",
       "      <td>60116207</td>\n",
       "      <td>variant</td>\n",
       "      <td>SPE</td>\n",
       "    </tr>\n",
       "    <tr>\n",
       "      <th>7</th>\n",
       "      <td>Enviro-Chemie GmbH Wasser- und Abwassertechnik</td>\n",
       "      <td>60074166</td>\n",
       "      <td>variant</td>\n",
       "      <td>SPE</td>\n",
       "    </tr>\n",
       "  </tbody>\n",
       "</table>\n",
       "</div>"
      ],
      "text/plain": [
       "                                                 input        id name_type  \\\n",
       "32           Canada Research Chair in IT in Healthcare  60088929   variant   \n",
       "599                                   Universität Bonn  60007493   variant   \n",
       "2                                   University of Azad  60089171   variant   \n",
       "58                           Samung Electronics Yongin  60003780   variant   \n",
       "17                                   Moudsley Hospital  60032249   variant   \n",
       "152           Academy of Sciences of the Latvian S.S.R  60069098   variant   \n",
       "22                      Inst. Univ. Euroéen de la Mer  60026314   variant   \n",
       "172                                  Slovak Acad. Sci.  60010330   variant   \n",
       "53   Federal Research Institute of Nutrition and Bi...  60116207   variant   \n",
       "7       Enviro-Chemie GmbH Wasser- und Abwassertechnik  60074166   variant   \n",
       "\n",
       "    label  \n",
       "32    SPE  \n",
       "599   SPE  \n",
       "2     SPE  \n",
       "58    SPE  \n",
       "17    SPE  \n",
       "152   SPE  \n",
       "22    SPE  \n",
       "172   SPE  \n",
       "53    SPE  \n",
       "7     SPE  "
      ]
     },
     "execution_count": 25,
     "metadata": {},
     "output_type": "execute_result"
    }
   ],
   "source": [
    "specifics[specifics['name_type'] == 'variant'].sample(10)"
   ]
  },
  {
   "cell_type": "code",
   "execution_count": 11,
   "metadata": {},
   "outputs": [],
   "source": [
    "specifics_from_ipr = pd.read_csv(ipr_dataset).fillna({'numdocs': 1}).rename(columns={'name': 'input'})"
   ]
  },
  {
   "cell_type": "code",
   "execution_count": 12,
   "metadata": {},
   "outputs": [
    {
     "data": {
      "text/html": [
       "<div>\n",
       "<style scoped>\n",
       "    .dataframe tbody tr th:only-of-type {\n",
       "        vertical-align: middle;\n",
       "    }\n",
       "\n",
       "    .dataframe tbody tr th {\n",
       "        vertical-align: top;\n",
       "    }\n",
       "\n",
       "    .dataframe thead th {\n",
       "        text-align: right;\n",
       "    }\n",
       "</style>\n",
       "<table border=\"1\" class=\"dataframe\">\n",
       "  <thead>\n",
       "    <tr style=\"text-align: right;\">\n",
       "      <th></th>\n",
       "      <th>input</th>\n",
       "      <th>numdocs</th>\n",
       "    </tr>\n",
       "  </thead>\n",
       "  <tbody>\n",
       "    <tr>\n",
       "      <th>0</th>\n",
       "      <td>Guizhou Minzu University</td>\n",
       "      <td>8.0</td>\n",
       "    </tr>\n",
       "    <tr>\n",
       "      <th>1</th>\n",
       "      <td>Showa General Hospital</td>\n",
       "      <td>20.0</td>\n",
       "    </tr>\n",
       "    <tr>\n",
       "      <th>2</th>\n",
       "      <td>National Taipeiuniversity Of Technology</td>\n",
       "      <td>2.0</td>\n",
       "    </tr>\n",
       "    <tr>\n",
       "      <th>3</th>\n",
       "      <td>Ministry Of Science Technology</td>\n",
       "      <td>1.0</td>\n",
       "    </tr>\n",
       "    <tr>\n",
       "      <th>4</th>\n",
       "      <td>At The University Of Colorado Health Sciences ...</td>\n",
       "      <td>4.0</td>\n",
       "    </tr>\n",
       "  </tbody>\n",
       "</table>\n",
       "</div>"
      ],
      "text/plain": [
       "                                               input  numdocs\n",
       "0                           Guizhou Minzu University      8.0\n",
       "1                             Showa General Hospital     20.0\n",
       "2            National Taipeiuniversity Of Technology      2.0\n",
       "3                     Ministry Of Science Technology      1.0\n",
       "4  At The University Of Colorado Health Sciences ...      4.0"
      ]
     },
     "execution_count": 12,
     "metadata": {},
     "output_type": "execute_result"
    }
   ],
   "source": [
    "specifics_from_ipr.head()"
   ]
  },
  {
   "cell_type": "code",
   "execution_count": 13,
   "metadata": {},
   "outputs": [],
   "source": [
    "specifics_from_ipr['input'] = specifics_from_ipr['input'].astype(str)\n",
    "specifics_from_ipr['label'] = 'SPE'"
   ]
  },
  {
   "cell_type": "code",
   "execution_count": 47,
   "metadata": {},
   "outputs": [
    {
     "data": {
      "text/html": [
       "<div>\n",
       "<style scoped>\n",
       "    .dataframe tbody tr th:only-of-type {\n",
       "        vertical-align: middle;\n",
       "    }\n",
       "\n",
       "    .dataframe tbody tr th {\n",
       "        vertical-align: top;\n",
       "    }\n",
       "\n",
       "    .dataframe thead th {\n",
       "        text-align: right;\n",
       "    }\n",
       "</style>\n",
       "<table border=\"1\" class=\"dataframe\">\n",
       "  <thead>\n",
       "    <tr style=\"text-align: right;\">\n",
       "      <th></th>\n",
       "      <th>input</th>\n",
       "      <th>numdocs</th>\n",
       "      <th>label</th>\n",
       "    </tr>\n",
       "  </thead>\n",
       "  <tbody>\n",
       "    <tr>\n",
       "      <th>1019416</th>\n",
       "      <td>Houston Orthopaedic Surgery And Sports Medicine</td>\n",
       "      <td>2.0</td>\n",
       "      <td>SPE</td>\n",
       "    </tr>\n",
       "    <tr>\n",
       "      <th>3349548</th>\n",
       "      <td>Polytechnic School Of Porto</td>\n",
       "      <td>1.0</td>\n",
       "      <td>SPE</td>\n",
       "    </tr>\n",
       "    <tr>\n",
       "      <th>238738</th>\n",
       "      <td>Instanes Consulting Engineers</td>\n",
       "      <td>1.0</td>\n",
       "      <td>SPE</td>\n",
       "    </tr>\n",
       "    <tr>\n",
       "      <th>2202675</th>\n",
       "      <td>Paducah Veterinary Clinic</td>\n",
       "      <td>1.0</td>\n",
       "      <td>SPE</td>\n",
       "    </tr>\n",
       "    <tr>\n",
       "      <th>3638473</th>\n",
       "      <td>Danish Seed Savers</td>\n",
       "      <td>1.0</td>\n",
       "      <td>SPE</td>\n",
       "    </tr>\n",
       "    <tr>\n",
       "      <th>4371103</th>\n",
       "      <td>Design Enablement Team</td>\n",
       "      <td>5.0</td>\n",
       "      <td>SPE</td>\n",
       "    </tr>\n",
       "    <tr>\n",
       "      <th>6112302</th>\n",
       "      <td>Mljet Health Centre</td>\n",
       "      <td>1.0</td>\n",
       "      <td>SPE</td>\n",
       "    </tr>\n",
       "    <tr>\n",
       "      <th>1794835</th>\n",
       "      <td>Laboratoire d'anatomopathologie Zohour</td>\n",
       "      <td>1.0</td>\n",
       "      <td>SPE</td>\n",
       "    </tr>\n",
       "    <tr>\n",
       "      <th>2586898</th>\n",
       "      <td>Université de Hearst</td>\n",
       "      <td>1.0</td>\n",
       "      <td>SPE</td>\n",
       "    </tr>\n",
       "    <tr>\n",
       "      <th>4726706</th>\n",
       "      <td>Divisione Chirurgia Generale e Servizio Chirur...</td>\n",
       "      <td>1.0</td>\n",
       "      <td>SPE</td>\n",
       "    </tr>\n",
       "  </tbody>\n",
       "</table>\n",
       "</div>"
      ],
      "text/plain": [
       "                                                     input  numdocs label\n",
       "1019416    Houston Orthopaedic Surgery And Sports Medicine      2.0   SPE\n",
       "3349548                        Polytechnic School Of Porto      1.0   SPE\n",
       "238738                       Instanes Consulting Engineers      1.0   SPE\n",
       "2202675                          Paducah Veterinary Clinic      1.0   SPE\n",
       "3638473                                 Danish Seed Savers      1.0   SPE\n",
       "4371103                             Design Enablement Team      5.0   SPE\n",
       "6112302                                Mljet Health Centre      1.0   SPE\n",
       "1794835             Laboratoire d'anatomopathologie Zohour      1.0   SPE\n",
       "2586898                               Université de Hearst      1.0   SPE\n",
       "4726706  Divisione Chirurgia Generale e Servizio Chirur...      1.0   SPE"
      ]
     },
     "execution_count": 47,
     "metadata": {},
     "output_type": "execute_result"
    }
   ],
   "source": [
    "specifics_from_ipr.sample(10)"
   ]
  },
  {
   "cell_type": "code",
   "execution_count": 75,
   "metadata": {},
   "outputs": [
    {
     "data": {
      "text/html": [
       "<div>\n",
       "<style scoped>\n",
       "    .dataframe tbody tr th:only-of-type {\n",
       "        vertical-align: middle;\n",
       "    }\n",
       "\n",
       "    .dataframe tbody tr th {\n",
       "        vertical-align: top;\n",
       "    }\n",
       "\n",
       "    .dataframe thead th {\n",
       "        text-align: right;\n",
       "    }\n",
       "</style>\n",
       "<table border=\"1\" class=\"dataframe\">\n",
       "  <thead>\n",
       "    <tr style=\"text-align: right;\">\n",
       "      <th></th>\n",
       "      <th>input</th>\n",
       "      <th>numdocs</th>\n",
       "      <th>label</th>\n",
       "    </tr>\n",
       "  </thead>\n",
       "  <tbody>\n",
       "    <tr>\n",
       "      <th>5161967</th>\n",
       "      <td>Cnrs</td>\n",
       "      <td>110100.0</td>\n",
       "      <td>SPE</td>\n",
       "    </tr>\n",
       "    <tr>\n",
       "      <th>3466847</th>\n",
       "      <td>Ieee</td>\n",
       "      <td>63177.0</td>\n",
       "      <td>SPE</td>\n",
       "    </tr>\n",
       "    <tr>\n",
       "      <th>4909710</th>\n",
       "      <td>Cern</td>\n",
       "      <td>51073.0</td>\n",
       "      <td>SPE</td>\n",
       "    </tr>\n",
       "    <tr>\n",
       "      <th>3140632</th>\n",
       "      <td>Cnr</td>\n",
       "      <td>35270.0</td>\n",
       "      <td>SPE</td>\n",
       "    </tr>\n",
       "    <tr>\n",
       "      <th>1631136</th>\n",
       "      <td>Ucla</td>\n",
       "      <td>32028.0</td>\n",
       "      <td>SPE</td>\n",
       "    </tr>\n",
       "    <tr>\n",
       "      <th>1946387</th>\n",
       "      <td>Inserm</td>\n",
       "      <td>30850.0</td>\n",
       "      <td>SPE</td>\n",
       "    </tr>\n",
       "    <tr>\n",
       "      <th>578886</th>\n",
       "      <td>Mit</td>\n",
       "      <td>27933.0</td>\n",
       "      <td>SPE</td>\n",
       "    </tr>\n",
       "    <tr>\n",
       "      <th>4857670</th>\n",
       "      <td>Csiro</td>\n",
       "      <td>27469.0</td>\n",
       "      <td>SPE</td>\n",
       "    </tr>\n",
       "    <tr>\n",
       "      <th>232130</th>\n",
       "      <td>Kaist</td>\n",
       "      <td>26003.0</td>\n",
       "      <td>SPE</td>\n",
       "    </tr>\n",
       "    <tr>\n",
       "      <th>4985740</th>\n",
       "      <td>Riken</td>\n",
       "      <td>25138.0</td>\n",
       "      <td>SPE</td>\n",
       "    </tr>\n",
       "    <tr>\n",
       "      <th>2515164</th>\n",
       "      <td>Rigshospitalet</td>\n",
       "      <td>25086.0</td>\n",
       "      <td>SPE</td>\n",
       "    </tr>\n",
       "    <tr>\n",
       "      <th>2345979</th>\n",
       "      <td>Usda-ars</td>\n",
       "      <td>24107.0</td>\n",
       "      <td>SPE</td>\n",
       "    </tr>\n",
       "    <tr>\n",
       "      <th>2552708</th>\n",
       "      <td>Unam</td>\n",
       "      <td>21365.0</td>\n",
       "      <td>SPE</td>\n",
       "    </tr>\n",
       "    <tr>\n",
       "      <th>2372600</th>\n",
       "      <td>Technion</td>\n",
       "      <td>20701.0</td>\n",
       "      <td>SPE</td>\n",
       "    </tr>\n",
       "    <tr>\n",
       "      <th>281333</th>\n",
       "      <td>Pfizer</td>\n",
       "      <td>19282.0</td>\n",
       "      <td>SPE</td>\n",
       "    </tr>\n",
       "    <tr>\n",
       "      <th>5722359</th>\n",
       "      <td>Imec</td>\n",
       "      <td>15557.0</td>\n",
       "      <td>SPE</td>\n",
       "    </tr>\n",
       "    <tr>\n",
       "      <th>2482589</th>\n",
       "      <td>Cea</td>\n",
       "      <td>14153.0</td>\n",
       "      <td>SPE</td>\n",
       "    </tr>\n",
       "    <tr>\n",
       "      <th>1060049</th>\n",
       "      <td>Umist</td>\n",
       "      <td>14010.0</td>\n",
       "      <td>SPE</td>\n",
       "    </tr>\n",
       "    <tr>\n",
       "      <th>1909391</th>\n",
       "      <td>Conicet</td>\n",
       "      <td>13773.0</td>\n",
       "      <td>SPE</td>\n",
       "    </tr>\n",
       "    <tr>\n",
       "      <th>2899605</th>\n",
       "      <td>Nih</td>\n",
       "      <td>12369.0</td>\n",
       "      <td>SPE</td>\n",
       "    </tr>\n",
       "  </tbody>\n",
       "</table>\n",
       "</div>"
      ],
      "text/plain": [
       "                  input   numdocs label\n",
       "5161967            Cnrs  110100.0   SPE\n",
       "3466847            Ieee   63177.0   SPE\n",
       "4909710            Cern   51073.0   SPE\n",
       "3140632             Cnr   35270.0   SPE\n",
       "1631136            Ucla   32028.0   SPE\n",
       "1946387          Inserm   30850.0   SPE\n",
       "578886              Mit   27933.0   SPE\n",
       "4857670           Csiro   27469.0   SPE\n",
       "232130            Kaist   26003.0   SPE\n",
       "4985740           Riken   25138.0   SPE\n",
       "2515164  Rigshospitalet   25086.0   SPE\n",
       "2345979        Usda-ars   24107.0   SPE\n",
       "2552708            Unam   21365.0   SPE\n",
       "2372600        Technion   20701.0   SPE\n",
       "281333           Pfizer   19282.0   SPE\n",
       "5722359            Imec   15557.0   SPE\n",
       "2482589             Cea   14153.0   SPE\n",
       "1060049           Umist   14010.0   SPE\n",
       "1909391         Conicet   13773.0   SPE\n",
       "2899605             Nih   12369.0   SPE"
      ]
     },
     "execution_count": 75,
     "metadata": {},
     "output_type": "execute_result"
    }
   ],
   "source": [
    "single_word_org_strings = specifics_from_ipr[specifics_from_ipr.input.str.split().apply(len) == 1]\n",
    "single_word_org_strings.sort_values('numdocs', ascending=False).iloc[:20])"
   ]
  },
  {
   "cell_type": "markdown",
   "metadata": {},
   "source": [
    "# Stats"
   ]
  },
  {
   "cell_type": "code",
   "execution_count": 17,
   "metadata": {},
   "outputs": [
    {
     "data": {
      "text/plain": [
       "26903"
      ]
     },
     "execution_count": 17,
     "metadata": {},
     "output_type": "execute_result"
    }
   ],
   "source": [
    "len(generics)"
   ]
  },
  {
   "cell_type": "code",
   "execution_count": 18,
   "metadata": {},
   "outputs": [
    {
     "data": {
      "text/plain": [
       "19898"
      ]
     },
     "execution_count": 18,
     "metadata": {},
     "output_type": "execute_result"
    }
   ],
   "source": [
    "len(generics_in_specific)"
   ]
  },
  {
   "cell_type": "code",
   "execution_count": 19,
   "metadata": {},
   "outputs": [
    {
     "data": {
      "text/plain": [
       "2059623"
      ]
     },
     "execution_count": 19,
     "metadata": {},
     "output_type": "execute_result"
    }
   ],
   "source": [
    "len(specifics)"
   ]
  },
  {
   "cell_type": "code",
   "execution_count": 31,
   "metadata": {},
   "outputs": [
    {
     "data": {
      "text/plain": [
       "6319720"
      ]
     },
     "execution_count": 31,
     "metadata": {},
     "output_type": "execute_result"
    }
   ],
   "source": [
    "len(specifics_from_ipr)"
   ]
  },
  {
   "cell_type": "markdown",
   "metadata": {},
   "source": [
    "# Writing to files\n",
    "\n",
    "... so that we don't have to do this again"
   ]
  },
  {
   "cell_type": "code",
   "execution_count": 13,
   "metadata": {},
   "outputs": [],
   "source": [
    "!mkdir ../output"
   ]
  },
  {
   "cell_type": "code",
   "execution_count": 14,
   "metadata": {},
   "outputs": [],
   "source": [
    "generic_dataset = '../output/generic_orgs_and_variants.csv'\n",
    "generic_dataset2 = '../output/specific_orgs_generic_variants.csv'\n",
    "specific_dataset = '../output/specific_orgs_and_specific_variants.csv'"
   ]
  },
  {
   "cell_type": "code",
   "execution_count": 15,
   "metadata": {},
   "outputs": [
    {
     "name": "stdout",
     "output_type": "stream",
     "text": [
      "CPU times: user 4.53 s, sys: 313 ms, total: 4.84 s\n",
      "Wall time: 4.88 s\n"
     ]
    }
   ],
   "source": [
    "%%time\n",
    "generics.to_csv(generic_dataset, index=False)\n",
    "generics_in_specific.to_csv(generic_dataset2, index=False)\n",
    "specifics.to_csv(specific_dataset, index=False)"
   ]
  },
  {
   "cell_type": "markdown",
   "metadata": {},
   "source": [
    "## Adding counts to generic orgs"
   ]
  },
  {
   "cell_type": "markdown",
   "metadata": {},
   "source": [
    "Generic orgs come without any indication of their prevalence in the data. This makes it hard to tune models to more common org strings. To this end, I joined generic org strings to counts in an ANI table. The processing was done on DataBricks to avoid downloading a large amount of data: https://elsevier.cloud.databricks.com/#notebook/2157896/command/2157897\n",
    "\n",
    "The result is stored in `../../datasets/mle_linked_generic_orgs.csv`."
   ]
  },
  {
   "cell_type": "markdown",
   "metadata": {},
   "source": [
    "## Joined dataset\n",
    "\n",
    "At first, I used org strings extracted from `specific_orgs_and_specific_variants.json` but it turns out to be not clean enough. Although only a small portion of it turns out to be generic, the sheer amount means that there are as many, or more, incorrectly labeled specifics as there are true generics, which means when we evaluate, the precision is going to be terrible.\n",
    "\n",
    "Therefore, I decided to use extraction from Scopus IPR instead and extract less specific org strings."
   ]
  },
  {
   "cell_type": "code",
   "execution_count": 4,
   "metadata": {},
   "outputs": [],
   "source": [
    "training_set_path = '../output/dataset-200k-noisy.train.csv'\n",
    "test_set_path = '../output/dataset-200k-noisy.test.csv'"
   ]
  },
  {
   "cell_type": "code",
   "execution_count": 57,
   "metadata": {},
   "outputs": [],
   "source": [
    "# I select the more frequent specifics because they're less likely to be an error\n",
    "specifics_from_ipr_small = specifics_from_ipr.sort_values('numdocs', ascending=False).iloc[:150000]\n",
    "generic_orgs_with_count = pd.read_csv('../../datasets/mle_linked_generic_orgs.csv').rename(columns={'count': 'numdocs'})\n",
    "joined = pd.concat([generic_orgs_with_count, specifics_from_ipr_small], sort=False)"
   ]
  },
  {
   "cell_type": "code",
   "execution_count": 66,
   "metadata": {},
   "outputs": [
    {
     "data": {
      "text/html": [
       "<div>\n",
       "<style scoped>\n",
       "    .dataframe tbody tr th:only-of-type {\n",
       "        vertical-align: middle;\n",
       "    }\n",
       "\n",
       "    .dataframe tbody tr th {\n",
       "        vertical-align: top;\n",
       "    }\n",
       "\n",
       "    .dataframe thead th {\n",
       "        text-align: right;\n",
       "    }\n",
       "</style>\n",
       "<table border=\"1\" class=\"dataframe\">\n",
       "  <thead>\n",
       "    <tr style=\"text-align: right;\">\n",
       "      <th></th>\n",
       "      <th>input</th>\n",
       "      <th>id</th>\n",
       "      <th>label</th>\n",
       "      <th>numdocs</th>\n",
       "    </tr>\n",
       "  </thead>\n",
       "  <tbody>\n",
       "    <tr>\n",
       "      <th>1677503</th>\n",
       "      <td>Uka Tarsadia University</td>\n",
       "      <td>NaN</td>\n",
       "      <td>SPE</td>\n",
       "      <td>194.0</td>\n",
       "    </tr>\n",
       "    <tr>\n",
       "      <th>1431571</th>\n",
       "      <td>Indraprastha Institute Of Information Technolo...</td>\n",
       "      <td>NaN</td>\n",
       "      <td>SPE</td>\n",
       "      <td>43.0</td>\n",
       "    </tr>\n",
       "    <tr>\n",
       "      <th>4663895</th>\n",
       "      <td>National Academy Of Sciences</td>\n",
       "      <td>NaN</td>\n",
       "      <td>SPE</td>\n",
       "      <td>250.0</td>\n",
       "    </tr>\n",
       "  </tbody>\n",
       "</table>\n",
       "</div>"
      ],
      "text/plain": [
       "                                                     input  id label  numdocs\n",
       "1677503                            Uka Tarsadia University NaN   SPE    194.0\n",
       "1431571  Indraprastha Institute Of Information Technolo... NaN   SPE     43.0\n",
       "4663895                       National Academy Of Sciences NaN   SPE    250.0"
      ]
     },
     "execution_count": 66,
     "metadata": {},
     "output_type": "execute_result"
    }
   ],
   "source": [
    "joined.sample(3)"
   ]
  },
  {
   "cell_type": "code",
   "execution_count": 67,
   "metadata": {},
   "outputs": [],
   "source": [
    "train, test = train_test_split(joined, test_size=0.5, stratify=joined.label)"
   ]
  },
  {
   "cell_type": "code",
   "execution_count": 68,
   "metadata": {},
   "outputs": [
    {
     "data": {
      "text/plain": [
       "SPE    75000\n",
       "GEN    15147\n",
       "Name: label, dtype: int64"
      ]
     },
     "execution_count": 68,
     "metadata": {},
     "output_type": "execute_result"
    }
   ],
   "source": [
    "train.label.value_counts()"
   ]
  },
  {
   "cell_type": "code",
   "execution_count": 69,
   "metadata": {},
   "outputs": [
    {
     "data": {
      "text/plain": [
       "SPE    75000\n",
       "GEN    15148\n",
       "Name: label, dtype: int64"
      ]
     },
     "execution_count": 69,
     "metadata": {},
     "output_type": "execute_result"
    }
   ],
   "source": [
    "test.label.value_counts()"
   ]
  },
  {
   "cell_type": "code",
   "execution_count": 72,
   "metadata": {},
   "outputs": [
    {
     "data": {
      "text/html": [
       "<div>\n",
       "<style scoped>\n",
       "    .dataframe tbody tr th:only-of-type {\n",
       "        vertical-align: middle;\n",
       "    }\n",
       "\n",
       "    .dataframe tbody tr th {\n",
       "        vertical-align: top;\n",
       "    }\n",
       "\n",
       "    .dataframe thead th {\n",
       "        text-align: right;\n",
       "    }\n",
       "</style>\n",
       "<table border=\"1\" class=\"dataframe\">\n",
       "  <thead>\n",
       "    <tr style=\"text-align: right;\">\n",
       "      <th></th>\n",
       "      <th>input</th>\n",
       "      <th>id</th>\n",
       "      <th>label</th>\n",
       "      <th>numdocs</th>\n",
       "    </tr>\n",
       "  </thead>\n",
       "  <tbody>\n",
       "    <tr>\n",
       "      <th>3746580</th>\n",
       "      <td>Information And Communications Univ.</td>\n",
       "      <td>NaN</td>\n",
       "      <td>SPE</td>\n",
       "      <td>93.0</td>\n",
       "    </tr>\n",
       "    <tr>\n",
       "      <th>7130</th>\n",
       "      <td>Systems Engineering Department</td>\n",
       "      <td>60007222.0</td>\n",
       "      <td>GEN</td>\n",
       "      <td>1098.0</td>\n",
       "    </tr>\n",
       "    <tr>\n",
       "      <th>3587007</th>\n",
       "      <td>Egis Pharmaceuticals Ltd</td>\n",
       "      <td>NaN</td>\n",
       "      <td>SPE</td>\n",
       "      <td>40.0</td>\n",
       "    </tr>\n",
       "    <tr>\n",
       "      <th>3137932</th>\n",
       "      <td>Instituto De Atención Pediátrica</td>\n",
       "      <td>NaN</td>\n",
       "      <td>SPE</td>\n",
       "      <td>55.0</td>\n",
       "    </tr>\n",
       "    <tr>\n",
       "      <th>3570742</th>\n",
       "      <td>National Research Center (nrc)</td>\n",
       "      <td>NaN</td>\n",
       "      <td>SPE</td>\n",
       "      <td>305.0</td>\n",
       "    </tr>\n",
       "    <tr>\n",
       "      <th>22519</th>\n",
       "      <td>School of Infonnation Science and Engineering</td>\n",
       "      <td>60118697.0</td>\n",
       "      <td>GEN</td>\n",
       "      <td>10.0</td>\n",
       "    </tr>\n",
       "    <tr>\n",
       "      <th>3609912</th>\n",
       "      <td>Instytutu Włókiennictwa</td>\n",
       "      <td>NaN</td>\n",
       "      <td>SPE</td>\n",
       "      <td>52.0</td>\n",
       "    </tr>\n",
       "    <tr>\n",
       "      <th>2382028</th>\n",
       "      <td>Klinikum Schwabing</td>\n",
       "      <td>NaN</td>\n",
       "      <td>SPE</td>\n",
       "      <td>200.0</td>\n",
       "    </tr>\n",
       "    <tr>\n",
       "      <th>3993</th>\n",
       "      <td>Abteilung Gynakologie</td>\n",
       "      <td>60019107.0</td>\n",
       "      <td>GEN</td>\n",
       "      <td>3.0</td>\n",
       "    </tr>\n",
       "    <tr>\n",
       "      <th>2409078</th>\n",
       "      <td>Edhec</td>\n",
       "      <td>NaN</td>\n",
       "      <td>SPE</td>\n",
       "      <td>69.0</td>\n",
       "    </tr>\n",
       "  </tbody>\n",
       "</table>\n",
       "</div>"
      ],
      "text/plain": [
       "                                                 input          id label  \\\n",
       "3746580           Information And Communications Univ.         NaN   SPE   \n",
       "7130                    Systems Engineering Department  60007222.0   GEN   \n",
       "3587007                       Egis Pharmaceuticals Ltd         NaN   SPE   \n",
       "3137932               Instituto De Atención Pediátrica         NaN   SPE   \n",
       "3570742                 National Research Center (nrc)         NaN   SPE   \n",
       "22519    School of Infonnation Science and Engineering  60118697.0   GEN   \n",
       "3609912                        Instytutu Włókiennictwa         NaN   SPE   \n",
       "2382028                             Klinikum Schwabing         NaN   SPE   \n",
       "3993                             Abteilung Gynakologie  60019107.0   GEN   \n",
       "2409078                                          Edhec         NaN   SPE   \n",
       "\n",
       "         numdocs  \n",
       "3746580     93.0  \n",
       "7130      1098.0  \n",
       "3587007     40.0  \n",
       "3137932     55.0  \n",
       "3570742    305.0  \n",
       "22519       10.0  \n",
       "3609912     52.0  \n",
       "2382028    200.0  \n",
       "3993         3.0  \n",
       "2409078     69.0  "
      ]
     },
     "execution_count": 72,
     "metadata": {},
     "output_type": "execute_result"
    }
   ],
   "source": [
    "train.sample(10)"
   ]
  },
  {
   "cell_type": "code",
   "execution_count": 71,
   "metadata": {},
   "outputs": [],
   "source": [
    "train.to_csv(training_set_path, index=False)\n",
    "test.to_csv(test_set_path, index=False)"
   ]
  },
  {
   "cell_type": "markdown",
   "metadata": {},
   "source": [
    "## Stats"
   ]
  },
  {
   "cell_type": "code",
   "execution_count": 73,
   "metadata": {},
   "outputs": [
    {
     "name": "stdout",
     "output_type": "stream",
     "text": [
      "3.7M\t../output/dataset-200k-noisy.test.csv\r\n",
      "3.7M\t../output/dataset-200k-noisy.train.csv\r\n",
      " 41M\t../output/dataset-2M-noisy.test.csv\r\n",
      " 41M\t../output/dataset-2M-noisy.train.csv\r\n",
      "1.1M\t../output/generic_orgs_and_variants.csv\r\n",
      " 99M\t../output/specific_orgs_and_specific_variants.csv\r\n",
      "888K\t../output/specific_orgs_generic_variants.csv\r\n"
     ]
    }
   ],
   "source": [
    "!du -sh ../output/*.csv"
   ]
  },
  {
   "cell_type": "code",
   "execution_count": null,
   "metadata": {},
   "outputs": [],
   "source": []
  }
 ],
 "metadata": {
  "kernelspec": {
   "display_name": "Python [conda env:generic-classifier] *",
   "language": "python",
   "name": "conda-env-generic-classifier-py"
  },
  "language_info": {
   "codemirror_mode": {
    "name": "ipython",
    "version": 3
   },
   "file_extension": ".py",
   "mimetype": "text/x-python",
   "name": "python",
   "nbconvert_exporter": "python",
   "pygments_lexer": "ipython3",
   "version": "3.6.9"
  }
 },
 "nbformat": 4,
 "nbformat_minor": 2
}
