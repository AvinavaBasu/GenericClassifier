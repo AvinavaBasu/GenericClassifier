{
 "cells": [
  {
   "cell_type": "code",
   "execution_count": 4,
   "metadata": {},
   "outputs": [],
   "source": [
    "train_ds_path = 'output/dataset-200k-noisy.train.csv'\n",
    "test_ds_path = 'output/dataset-200k-noisy.test.csv'\n",
    "abbreviation_mapping_path = 'dicts/mle_abbreviation_mapping_from_ani_20190925.csv'"
   ]
  },
  {
   "cell_type": "code",
   "execution_count": 5,
   "metadata": {},
   "outputs": [],
   "source": [
    "import sys\n",
    "sys.path.append('.')"
   ]
  },
  {
   "cell_type": "code",
   "execution_count": 6,
   "metadata": {},
   "outputs": [],
   "source": [
    "import os\n",
    "if os.getcwd().endswith('/notebooks'):\n",
    "    os.chdir(os.path.join(os.getcwd(), '..'))"
   ]
  },
  {
   "cell_type": "code",
   "execution_count": 7,
   "metadata": {},
   "outputs": [],
   "source": [
    "import pandas as pd\n",
    "from sklearn.base import TransformerMixin\n",
    "from sklearn.model_selection import train_test_split\n",
    "from collections import Counter, defaultdict, OrderedDict\n",
    "from sklearn.metrics import precision_recall_fscore_support\n",
    "from sklearn.preprocessing import KBinsDiscretizer, OneHotEncoder, LabelEncoder\n",
    "from sklearn.feature_extraction.text import CountVectorizer, TfidfTransformer\n",
    "from sklearn.datasets import dump_svmlight_file\n",
    "from classifyGenericModified import ExperimentalClassifier, ExperimentalHybridClassifier, normalizeName\n",
    "from tqdm import tqdm\n",
    "import numpy as np\n",
    "from sklearn.pipeline import Pipeline, FeatureUnion, make_pipeline\n",
    "from sklearn.svm import SVC, LinearSVC\n",
    "from sklearn.kernel_approximation import Nystroem\n",
    "import itertools\n",
    "import re\n",
    "import joblib\n",
    "from model import *"
   ]
  },
  {
   "cell_type": "code",
   "execution_count": 8,
   "metadata": {},
   "outputs": [],
   "source": [
    "# import classifyGenericModified\n",
    "# import importlib\n",
    "# importlib.reload(classifyGenericModified)\n",
    "# from classifyGenericModified import ExperimentalClassifier, ExperimentalHybridClassifier, normalizeName"
   ]
  },
  {
   "cell_type": "code",
   "execution_count": 9,
   "metadata": {},
   "outputs": [],
   "source": [
    "train_ds = pd.read_csv(train_ds_path)\n",
    "test_ds = pd.read_csv(test_ds_path)"
   ]
  },
  {
   "cell_type": "code",
   "execution_count": 10,
   "metadata": {},
   "outputs": [
    {
     "data": {
      "text/html": [
       "<div>\n",
       "<style scoped>\n",
       "    .dataframe tbody tr th:only-of-type {\n",
       "        vertical-align: middle;\n",
       "    }\n",
       "\n",
       "    .dataframe tbody tr th {\n",
       "        vertical-align: top;\n",
       "    }\n",
       "\n",
       "    .dataframe thead th {\n",
       "        text-align: right;\n",
       "    }\n",
       "</style>\n",
       "<table border=\"1\" class=\"dataframe\">\n",
       "  <thead>\n",
       "    <tr style=\"text-align: right;\">\n",
       "      <th></th>\n",
       "      <th>input</th>\n",
       "      <th>id</th>\n",
       "      <th>label</th>\n",
       "      <th>numdocs</th>\n",
       "    </tr>\n",
       "  </thead>\n",
       "  <tbody>\n",
       "    <tr>\n",
       "      <th>12435</th>\n",
       "      <td>Chemical Engineering and Analytical Science</td>\n",
       "      <td>60099298.0</td>\n",
       "      <td>GEN</td>\n",
       "      <td>17.0</td>\n",
       "    </tr>\n",
       "    <tr>\n",
       "      <th>14705</th>\n",
       "      <td>Hopital Bichat-claude Bernard</td>\n",
       "      <td>NaN</td>\n",
       "      <td>SPE</td>\n",
       "      <td>516.0</td>\n",
       "    </tr>\n",
       "    <tr>\n",
       "      <th>12802</th>\n",
       "      <td>Division Of Cardiology</td>\n",
       "      <td>NaN</td>\n",
       "      <td>SPE</td>\n",
       "      <td>92.0</td>\n",
       "    </tr>\n",
       "  </tbody>\n",
       "</table>\n",
       "</div>"
      ],
      "text/plain": [
       "                                             input          id label  numdocs\n",
       "12435  Chemical Engineering and Analytical Science  60099298.0   GEN     17.0\n",
       "14705                Hopital Bichat-claude Bernard         NaN   SPE    516.0\n",
       "12802                       Division Of Cardiology         NaN   SPE     92.0"
      ]
     },
     "execution_count": 10,
     "metadata": {},
     "output_type": "execute_result"
    }
   ],
   "source": [
    "train_ds.sample(3)"
   ]
  },
  {
   "cell_type": "code",
   "execution_count": 11,
   "metadata": {},
   "outputs": [
    {
     "data": {
      "text/plain": [
       "SPE    75000\n",
       "GEN    15147\n",
       "Name: label, dtype: int64"
      ]
     },
     "execution_count": 11,
     "metadata": {},
     "output_type": "execute_result"
    }
   ],
   "source": [
    "train_ds.label.value_counts()"
   ]
  },
  {
   "cell_type": "code",
   "execution_count": 12,
   "metadata": {},
   "outputs": [],
   "source": [
    "class_weight = {'SPE': 1, 'GEN': 15}"
   ]
  },
  {
   "cell_type": "markdown",
   "metadata": {},
   "source": [
    "# Word frequency"
   ]
  },
  {
   "cell_type": "code",
   "execution_count": 13,
   "metadata": {},
   "outputs": [],
   "source": [
    "tokens = Counter()\n",
    "for s, c in zip(train_ds.input, train_ds.numdocs):\n",
    "    for t in s.split():\n",
    "        # tried adding c instead of 1 but it promotes popular university so much that\n",
    "        # names frequently pop up in the most common words\n",
    "        tokens[t.lower()] += 1"
   ]
  },
  {
   "cell_type": "code",
   "execution_count": 14,
   "metadata": {},
   "outputs": [],
   "source": [
    "tokens_ordered = [t for t, _ in tokens.most_common()]"
   ]
  },
  {
   "cell_type": "code",
   "execution_count": 15,
   "metadata": {},
   "outputs": [],
   "source": [
    "tokens_group1 = set(tokens_ordered[:1000])\n",
    "tokens_group2 = set(tokens_ordered[1000:10000])\n",
    "tokens_group3 = set(tokens_ordered[10000:])"
   ]
  },
  {
   "cell_type": "code",
   "execution_count": 16,
   "metadata": {},
   "outputs": [
    {
     "data": {
      "text/plain": [
       "['of',\n",
       " 'university',\n",
       " 'and',\n",
       " 'institute',\n",
       " 'hospital',\n",
       " 'de',\n",
       " 'research',\n",
       " 'department',\n",
       " 'center',\n",
       " 'for']"
      ]
     },
     "execution_count": 16,
     "metadata": {},
     "output_type": "execute_result"
    }
   ],
   "source": [
    "tokens_ordered[:10]"
   ]
  },
  {
   "cell_type": "code",
   "execution_count": 17,
   "metadata": {},
   "outputs": [
    {
     "data": {
      "text/plain": [
       "['agency',\n",
       " 'mathematics',\n",
       " 'università',\n",
       " 'services',\n",
       " 'life',\n",
       " 'surg.',\n",
       " 'en',\n",
       " 'station',\n",
       " 'heart',\n",
       " 'a',\n",
       " 'veterans',\n",
       " 'army',\n",
       " 'plant',\n",
       " 'ras',\n",
       " 'physical',\n",
       " 'coll.',\n",
       " 'hospitalier',\n",
       " 'unit',\n",
       " 'fisica',\n",
       " 'association']"
      ]
     },
     "execution_count": 17,
     "metadata": {},
     "output_type": "execute_result"
    }
   ],
   "source": [
    "tokens_ordered[200:220] # more frequent tokens are more likely to be common words"
   ]
  },
  {
   "cell_type": "code",
   "execution_count": 18,
   "metadata": {},
   "outputs": [
    {
     "data": {
      "text/plain": [
       "['klinischer',\n",
       " 'csu',\n",
       " 'xingtai',\n",
       " 'setsunan',\n",
       " 'ambientale',\n",
       " 'det',\n",
       " 'strangeways',\n",
       " 'stockport',\n",
       " 'torrecárdenas',\n",
       " 'stn.']"
      ]
     },
     "execution_count": 18,
     "metadata": {},
     "output_type": "execute_result"
    }
   ],
   "source": [
    "tokens_ordered[10000:10010] # less frequent tokens are more likely to be names"
   ]
  },
  {
   "cell_type": "markdown",
   "metadata": {},
   "source": [
    "# Feature extraction"
   ]
  },
  {
   "cell_type": "code",
   "execution_count": 19,
   "metadata": {},
   "outputs": [],
   "source": [
    "def classifyOrg(rule_classifier, ml_classifier, df):\n",
    "    df['prediction'] = ml_classifier.predict(df.input)\n",
    "    def override_prediction(row):\n",
    "        org, norm, norm_no_sw = rule_classifier.preprocess(row['input'])\n",
    "        if norm_no_sw in rule_classifier.whiteList:\n",
    "            return \"GEN\"\n",
    "        if norm_no_sw in rule_classifier.blackList:\n",
    "            return \"SPE\"\n",
    "        return row['prediction']\n",
    "    df['prediction'] = df.apply(override_prediction, axis=1)"
   ]
  },
  {
   "cell_type": "code",
   "execution_count": 20,
   "metadata": {},
   "outputs": [
    {
     "name": "stdout",
     "output_type": "stream",
     "text": [
      "Loading dictionary...\n"
     ]
    },
    {
     "name": "stderr",
     "output_type": "stream",
     "text": [
      "generating approximate dict: 100%|██████████| 50434/50434 [00:32<00:00, 1546.14it/s]\n"
     ]
    },
    {
     "name": "stdout",
     "output_type": "stream",
     "text": [
      "Loading dictionary done in 34.05 sec.\n"
     ]
    }
   ],
   "source": [
    "rule_based_classifier = ExperimentalClassifier('rule', use_multilingual_dicts=True, use_zipcode_us_rule=True)"
   ]
  },
  {
   "cell_type": "code",
   "execution_count": 21,
   "metadata": {},
   "outputs": [],
   "source": [
    "with open('dicts/topLevelTypes.txt') as f:\n",
    "    top_level_types = f.read().lower().strip().split()"
   ]
  },
  {
   "cell_type": "code",
   "execution_count": 22,
   "metadata": {},
   "outputs": [],
   "source": [
    "top_level_words = itertools.chain(rule_based_classifier.cn, rule_based_classifier.univ,\n",
    "                                  rule_based_classifier.companyTypes, top_level_types)\n",
    "top_level_word_map = {\n",
    "    w: '^top' for w in top_level_words\n",
    "}"
   ]
  },
  {
   "cell_type": "code",
   "execution_count": 23,
   "metadata": {},
   "outputs": [],
   "source": [
    "word_lists = [ # later lists have precedence\n",
    "    ('^L', rule_based_classifier.allLoc),\n",
    "    ('^sbE', rule_based_classifier.expandedSubjectDict),\n",
    "    ('^S', rule_based_classifier.subjectDict),\n",
    "    ('^cS', rule_based_classifier.commonSubjectsDict),\n",
    "    ('^sb', rule_based_classifier.subjModDict),\n",
    "    ('^mO', rule_based_classifier.orgModDict),\n",
    "    ('^cn', rule_based_classifier.cn),\n",
    "    ('^univ', rule_based_classifier.univ),\n",
    "    ('^cnS', rule_based_classifier.companySuffixes),\n",
    "    ('^cnT', rule_based_classifier.companyTypes),\n",
    "    ('^T', rule_based_classifier.typeDict),\n",
    "    ('^e', rule_based_classifier.wordEndingsDict),\n",
    "    ('^sw', rule_based_classifier.sw),\n",
    "    ('^lf', tokens_group3),\n",
    "    ('^and', 'and|&|y|und|e|og|i|και|ja|et|és|en|ból|ve'.split('|')),\n",
    "    ('^of', 'of|de|des|der|di|fur|fr|for|für|voor|in|zu|és'.split('|')),\n",
    "    ('^in', 'in|a|op|zu'.split('|')),\n",
    "    ('^lat', 'I|II|III|IV|V|VI|VII|VIII|IX|X|XI|XII|XIII|XIV|XV|XVI|XVII|XVIII|XIX|XX'.split('|')),\n",
    "]"
   ]
  },
  {
   "cell_type": "code",
   "execution_count": 24,
   "metadata": {
    "scrolled": true
   },
   "outputs": [
    {
     "name": "stderr",
     "output_type": "stream",
     "text": [
      "100%|██████████| 72276/72276 [00:00<00:00, 1073012.59it/s]\n",
      "100%|██████████| 15072/15072 [00:00<00:00, 1484897.70it/s]\n",
      "100%|██████████| 50434/50434 [00:00<00:00, 911940.44it/s]\n",
      "100%|██████████| 236/236 [00:00<00:00, 146125.74it/s]\n",
      "100%|██████████| 3077/3077 [00:00<00:00, 627961.92it/s]\n",
      "100%|██████████| 112/112 [00:00<00:00, 102950.26it/s]\n",
      "100%|██████████| 542/542 [00:00<00:00, 531769.07it/s]\n",
      "100%|██████████| 36/36 [00:00<00:00, 102300.10it/s]\n",
      "100%|██████████| 99/99 [00:00<00:00, 151601.35it/s]\n",
      "100%|██████████| 95/95 [00:00<00:00, 93865.46it/s]\n",
      "100%|██████████| 569/569 [00:00<00:00, 625244.69it/s]\n",
      "100%|██████████| 154/154 [00:00<00:00, 181847.64it/s]\n",
      "100%|██████████| 1911/1911 [00:00<00:00, 859735.59it/s]\n",
      "100%|██████████| 27474/27474 [00:00<00:00, 1013200.29it/s]\n",
      "100%|██████████| 14/14 [00:00<00:00, 75379.02it/s]\n",
      "100%|██████████| 13/13 [00:00<00:00, 26051.58it/s]\n",
      "100%|██████████| 4/4 [00:00<00:00, 9010.32it/s]\n",
      "100%|██████████| 20/20 [00:00<00:00, 20815.40it/s]\n"
     ]
    }
   ],
   "source": [
    "word2tag = {}\n",
    "for name, word_list in word_lists:\n",
    "    # word lists from ExperimentalClassifier are preprocessed already, \n",
    "    # strings were lower-cased and there are no duplicates\n",
    "    for w in tqdm(word_list, position=0, leave=True):\n",
    "        if w:\n",
    "            # ideally, each word occurs in only one list\n",
    "            # in reality, it's commonly that they occur in many lists\n",
    "            word2tag[w] = name"
   ]
  },
  {
   "cell_type": "code",
   "execution_count": 25,
   "metadata": {},
   "outputs": [
    {
     "data": {
      "text/plain": [
       "[('^L', 72276),\n",
       " ('^sbE', 15072),\n",
       " ('^S', 50434),\n",
       " ('^cS', 236),\n",
       " ('^sb', 3077),\n",
       " ('^mO', 112),\n",
       " ('^cn', 542),\n",
       " ('^univ', 36),\n",
       " ('^cnS', 99),\n",
       " ('^cnT', 95),\n",
       " ('^T', 569),\n",
       " ('^e', 154),\n",
       " ('^sw', 1911),\n",
       " ('^lf', 27474),\n",
       " ('^and', 14),\n",
       " ('^of', 13),\n",
       " ('^in', 4),\n",
       " ('^lat', 20)]"
      ]
     },
     "execution_count": 25,
     "metadata": {},
     "output_type": "execute_result"
    }
   ],
   "source": [
    "[(name, len(wl)) for name, wl in word_lists]"
   ]
  },
  {
   "cell_type": "code",
   "execution_count": 26,
   "metadata": {},
   "outputs": [
    {
     "data": {
      "text/plain": [
       "150015"
      ]
     },
     "execution_count": 26,
     "metadata": {},
     "output_type": "execute_result"
    }
   ],
   "source": [
    "len(word2tag)"
   ]
  },
  {
   "cell_type": "code",
   "execution_count": 34,
   "metadata": {},
   "outputs": [],
   "source": [
    "def build_pipeline():\n",
    "    rule_encoder = OneHotEncoder(handle_unknown='ignore')\n",
    "    freq_number_vectorizer_func = lambda: CountVectorizer(analyzer=identity_analyzer, max_features=20, binary=True)\n",
    "    ngram_pattern_vectorizer = CountVectorizer(analyzer=identity_analyzer, ngram_range=(2,5), min_df=10, binary=True)\n",
    "    joined_pattern_vectorizer = CountVectorizer(analyzer=identity_analyzer, min_df=20, binary=True)\n",
    "    ngram_pattern_vectorizer2 = CountVectorizer(analyzer=identity_analyzer, ngram_range=(2,5), min_df=10, binary=True)\n",
    "    joined_pattern_vectorizer2 = CountVectorizer(analyzer=identity_analyzer, min_df=20, binary=True)\n",
    "    discretizer = KBinsDiscretizer(n_bins=5, encode='onehot', strategy='quantile')\n",
    "    feature_extractor = make_pipeline(\n",
    "        TokenTranslator(abbreviation_mapping_path),\n",
    "        FeatureUnion([\n",
    "            ('freq-char-len', make_pipeline(CharLenFeature(), freq_number_vectorizer_func())),\n",
    "            ('freq-word-len', make_pipeline(WordLenFeature(), freq_number_vectorizer_func())),\n",
    "            ('freq-min-word-freq', make_pipeline(WordFrequencyFeatures(tokens, stats=['min']), freq_number_vectorizer_func())),\n",
    "            ('freq-max-word-freq', make_pipeline(WordFrequencyFeatures(tokens, stats=['max']), freq_number_vectorizer_func())),\n",
    "            ('numerical-discretized', make_pipeline(\n",
    "                FeatureUnion([\n",
    "                    ('char_len', CharLenFeature()),\n",
    "                    ('word_len', WordLenFeature()),\n",
    "                    ('freq_upper', FreqCapitalsFeature()),\n",
    "                    ('freq_all_caps', FreqAllCapsFeature()),\n",
    "                    ('word_freq', WordFrequencyFeatures(tokens)),\n",
    "                ]),\n",
    "                discretizer,\n",
    "            )),\n",
    "            ('word_list', make_pipeline(\n",
    "                # didn't use num_top_freq_words because I don't want to override \"^top\" tags\n",
    "                WordListTagger(word2tag, 0, default_tag='^nf'),\n",
    "                FeatureUnion([\n",
    "                    ('joined', make_pipeline(StringConcat(), joined_pattern_vectorizer)),\n",
    "                    ('n-grams', ngram_pattern_vectorizer)\n",
    "                ])\n",
    "            )),\n",
    "            ('word_list_top_freq', make_pipeline(\n",
    "                WordListTagger(word2tag, 100, default_tag='^nf'),\n",
    "                FeatureUnion([\n",
    "                    ('joined', make_pipeline(StringConcat(), joined_pattern_vectorizer2)),\n",
    "                    ('n-grams', ngram_pattern_vectorizer2)\n",
    "                ])\n",
    "            )),\n",
    "            ('top_level_word', make_pipeline( # check for words such as \"university\", \"institution\", \"ltd.\"\n",
    "                WordListTagger(top_level_word_map, 1000, default_tag='other'),\n",
    "                CountVectorizer(analyzer=identity_analyzer, ngram_range=(1,3), binary=True)\n",
    "            )),\n",
    "            ('rule', make_pipeline( \n",
    "                # ignore the last one (default rule) because it just emit 'GEN' for everything\n",
    "                RuleFeatures(rule_based_classifier), \n",
    "                rule_encoder\n",
    "            ))\n",
    "        ]),\n",
    "        TfidfTransformer(norm=None), # so that feature vectors are more meaningful (for debugging)\n",
    "    )\n",
    "    pipeline = Pipeline([\n",
    "        ('feature_extractor', feature_extractor),\n",
    "        ('polynomial_approx', Nystroem(kernel='poly', degree=2)),\n",
    "        ('classifier', LinearSVC(class_weight=class_weight))\n",
    "    ])\n",
    "    return pipeline, feature_extractor"
   ]
  },
  {
   "cell_type": "code",
   "execution_count": 35,
   "metadata": {},
   "outputs": [
    {
     "name": "stdout",
     "output_type": "stream",
     "text": [
      "CPU times: user 81.3 ms, sys: 3.85 ms, total: 85.1 ms\n",
      "Wall time: 83.2 ms\n"
     ]
    }
   ],
   "source": [
    "%%time\n",
    "_, train_sample = train_test_split(train_ds, test_size=0.1, stratify=train_ds.label)\n",
    "train_sample = train_sample.copy()"
   ]
  },
  {
   "cell_type": "code",
   "execution_count": 36,
   "metadata": {
    "scrolled": false
   },
   "outputs": [
    {
     "name": "stderr",
     "output_type": "stream",
     "text": [
      "//anaconda2/envs/generic-classifier/lib/python3.6/site-packages/sklearn/preprocessing/_discretization.py:193: UserWarning: Bins whose width are too small (i.e., <= 1e-8) in feature 3 are removed. Consider decreasing the number of bins.\n",
      "  'decreasing the number of bins.' % jj)\n",
      "//anaconda2/envs/generic-classifier/lib/python3.6/site-packages/sklearn/preprocessing/_discretization.py:193: UserWarning: Bins whose width are too small (i.e., <= 1e-8) in feature 4 are removed. Consider decreasing the number of bins.\n",
      "  'decreasing the number of bins.' % jj)\n",
      "//anaconda2/envs/generic-classifier/lib/python3.6/site-packages/sklearn/preprocessing/_discretization.py:193: UserWarning: Bins whose width are too small (i.e., <= 1e-8) in feature 5 are removed. Consider decreasing the number of bins.\n",
      "  'decreasing the number of bins.' % jj)\n"
     ]
    },
    {
     "name": "stdout",
     "output_type": "stream",
     "text": [
      "CPU times: user 15.5 s, sys: 262 ms, total: 15.8 s\n",
      "Wall time: 14.7 s\n"
     ]
    },
    {
     "data": {
      "text/plain": [
       "Pipeline(memory=None,\n",
       "         steps=[('feature_extractor',\n",
       "                 Pipeline(memory=None,\n",
       "                          steps=[('tokentranslator',\n",
       "                                  <model.TokenTranslator object at 0x125e1ea20>),\n",
       "                                 ('featureunion',\n",
       "                                  FeatureUnion(n_jobs=None,\n",
       "                                               transformer_list=[('freq-char-len',\n",
       "                                                                  Pipeline(memory=None,\n",
       "                                                                           steps=[('charlenfeature',\n",
       "                                                                                   <model.CharLenFeature object at 0x125e1ea90>),\n",
       "                                                                                  ('countvectorizer',\n",
       "                                                                                   CountVectorizer(analyzer=<...\n",
       "                ('polynomial_approx',\n",
       "                 Nystroem(coef0=None, degree=2, gamma=None, kernel='poly',\n",
       "                          kernel_params=None, n_components=100,\n",
       "                          random_state=None)),\n",
       "                ('classifier',\n",
       "                 LinearSVC(C=1.0, class_weight={'GEN': 15, 'SPE': 1}, dual=True,\n",
       "                           fit_intercept=True, intercept_scaling=1,\n",
       "                           loss='squared_hinge', max_iter=1000,\n",
       "                           multi_class='ovr', penalty='l2', random_state=None,\n",
       "                           tol=0.0001, verbose=0))],\n",
       "         verbose=False)"
      ]
     },
     "execution_count": 36,
     "metadata": {},
     "output_type": "execute_result"
    }
   ],
   "source": [
    "%%time\n",
    "# train_sample = train_ds\n",
    "pipeline, feature_extractor = build_pipeline()\n",
    "pipeline.fit(train_sample.input, y=train_sample.label, classifier__sample_weight=train_sample.numdocs)"
   ]
  },
  {
   "cell_type": "code",
   "execution_count": 37,
   "metadata": {},
   "outputs": [],
   "source": [
    "_, test_sample = train_test_split(test_ds, test_size=0.1, stratify=test_ds.label)\n",
    "test_sample = test_sample.copy()\n",
    "# test_sample = test_ds"
   ]
  },
  {
   "cell_type": "code",
   "execution_count": 38,
   "metadata": {},
   "outputs": [
    {
     "name": "stdout",
     "output_type": "stream",
     "text": [
      "CPU times: user 8.09 s, sys: 78.4 ms, total: 8.17 s\n",
      "Wall time: 7.35 s\n"
     ]
    }
   ],
   "source": [
    "%%time\n",
    "classifyOrg(rule_based_classifier, pipeline, test_sample)"
   ]
  },
  {
   "cell_type": "code",
   "execution_count": 39,
   "metadata": {},
   "outputs": [
    {
     "data": {
      "text/html": [
       "<div>\n",
       "<style scoped>\n",
       "    .dataframe tbody tr th:only-of-type {\n",
       "        vertical-align: middle;\n",
       "    }\n",
       "\n",
       "    .dataframe tbody tr th {\n",
       "        vertical-align: top;\n",
       "    }\n",
       "\n",
       "    .dataframe thead th {\n",
       "        text-align: right;\n",
       "    }\n",
       "</style>\n",
       "<table border=\"1\" class=\"dataframe\">\n",
       "  <thead>\n",
       "    <tr style=\"text-align: right;\">\n",
       "      <th></th>\n",
       "      <th>input</th>\n",
       "      <th>id</th>\n",
       "      <th>label</th>\n",
       "      <th>numdocs</th>\n",
       "      <th>prediction</th>\n",
       "    </tr>\n",
       "  </thead>\n",
       "  <tbody>\n",
       "    <tr>\n",
       "      <th>20990</th>\n",
       "      <td>Inst. Natl. Des Telecom.</td>\n",
       "      <td>NaN</td>\n",
       "      <td>SPE</td>\n",
       "      <td>112.0</td>\n",
       "      <td>GEN</td>\n",
       "    </tr>\n",
       "    <tr>\n",
       "      <th>18288</th>\n",
       "      <td>Universidade Federal De Santa Maria - Ufsm</td>\n",
       "      <td>NaN</td>\n",
       "      <td>SPE</td>\n",
       "      <td>677.0</td>\n",
       "      <td>SPE</td>\n",
       "    </tr>\n",
       "    <tr>\n",
       "      <th>27265</th>\n",
       "      <td>Yashima General Hospital</td>\n",
       "      <td>NaN</td>\n",
       "      <td>SPE</td>\n",
       "      <td>42.0</td>\n",
       "      <td>SPE</td>\n",
       "    </tr>\n",
       "    <tr>\n",
       "      <th>36998</th>\n",
       "      <td>Department of Oral Medicine and Pathology</td>\n",
       "      <td>60073765.0</td>\n",
       "      <td>GEN</td>\n",
       "      <td>528.0</td>\n",
       "      <td>GEN</td>\n",
       "    </tr>\n",
       "    <tr>\n",
       "      <th>50561</th>\n",
       "      <td>Academy Of Sciences Of The Estonian Ssr</td>\n",
       "      <td>NaN</td>\n",
       "      <td>SPE</td>\n",
       "      <td>138.0</td>\n",
       "      <td>SPE</td>\n",
       "    </tr>\n",
       "    <tr>\n",
       "      <th>...</th>\n",
       "      <td>...</td>\n",
       "      <td>...</td>\n",
       "      <td>...</td>\n",
       "      <td>...</td>\n",
       "      <td>...</td>\n",
       "    </tr>\n",
       "    <tr>\n",
       "      <th>86028</th>\n",
       "      <td>Drury University</td>\n",
       "      <td>NaN</td>\n",
       "      <td>SPE</td>\n",
       "      <td>292.0</td>\n",
       "      <td>SPE</td>\n",
       "    </tr>\n",
       "    <tr>\n",
       "      <th>59305</th>\n",
       "      <td>Pacific Medical Center</td>\n",
       "      <td>NaN</td>\n",
       "      <td>SPE</td>\n",
       "      <td>132.0</td>\n",
       "      <td>SPE</td>\n",
       "    </tr>\n",
       "    <tr>\n",
       "      <th>11253</th>\n",
       "      <td>A. A. Bogomoletz Institute Of Physiology</td>\n",
       "      <td>NaN</td>\n",
       "      <td>SPE</td>\n",
       "      <td>92.0</td>\n",
       "      <td>SPE</td>\n",
       "    </tr>\n",
       "    <tr>\n",
       "      <th>37646</th>\n",
       "      <td>Departamento de Química Orgánica e Inorgáni...</td>\n",
       "      <td>60031266.0</td>\n",
       "      <td>GEN</td>\n",
       "      <td>1.0</td>\n",
       "      <td>SPE</td>\n",
       "    </tr>\n",
       "    <tr>\n",
       "      <th>62816</th>\n",
       "      <td>Research Centre for Leadership Studies</td>\n",
       "      <td>60117784.0</td>\n",
       "      <td>GEN</td>\n",
       "      <td>5.0</td>\n",
       "      <td>GEN</td>\n",
       "    </tr>\n",
       "  </tbody>\n",
       "</table>\n",
       "<p>9015 rows × 5 columns</p>\n",
       "</div>"
      ],
      "text/plain": [
       "                                                   input          id label  \\\n",
       "20990                           Inst. Natl. Des Telecom.         NaN   SPE   \n",
       "18288         Universidade Federal De Santa Maria - Ufsm         NaN   SPE   \n",
       "27265                           Yashima General Hospital         NaN   SPE   \n",
       "36998          Department of Oral Medicine and Pathology  60073765.0   GEN   \n",
       "50561            Academy Of Sciences Of The Estonian Ssr         NaN   SPE   \n",
       "...                                                  ...         ...   ...   \n",
       "86028                                   Drury University         NaN   SPE   \n",
       "59305                             Pacific Medical Center         NaN   SPE   \n",
       "11253           A. A. Bogomoletz Institute Of Physiology         NaN   SPE   \n",
       "37646  Departamento de Química Orgánica e Inorgáni...  60031266.0   GEN   \n",
       "62816             Research Centre for Leadership Studies  60117784.0   GEN   \n",
       "\n",
       "       numdocs prediction  \n",
       "20990    112.0        GEN  \n",
       "18288    677.0        SPE  \n",
       "27265     42.0        SPE  \n",
       "36998    528.0        GEN  \n",
       "50561    138.0        SPE  \n",
       "...        ...        ...  \n",
       "86028    292.0        SPE  \n",
       "59305    132.0        SPE  \n",
       "11253     92.0        SPE  \n",
       "37646      1.0        SPE  \n",
       "62816      5.0        GEN  \n",
       "\n",
       "[9015 rows x 5 columns]"
      ]
     },
     "execution_count": 39,
     "metadata": {},
     "output_type": "execute_result"
    }
   ],
   "source": [
    "test_sample"
   ]
  },
  {
   "cell_type": "code",
   "execution_count": 40,
   "metadata": {},
   "outputs": [
    {
     "data": {
      "text/plain": [
       "0.8544647809206878"
      ]
     },
     "execution_count": 40,
     "metadata": {},
     "output_type": "execute_result"
    }
   ],
   "source": [
    "(test_sample['label'] == test_sample['prediction']).mean()"
   ]
  },
  {
   "cell_type": "code",
   "execution_count": 41,
   "metadata": {},
   "outputs": [
    {
     "data": {
      "text/plain": [
       "2619"
      ]
     },
     "execution_count": 41,
     "metadata": {},
     "output_type": "execute_result"
    }
   ],
   "source": [
    "(test_sample['prediction'] == 'GEN').sum()"
   ]
  },
  {
   "cell_type": "code",
   "execution_count": 42,
   "metadata": {},
   "outputs": [
    {
     "data": {
      "text/plain": [
       "9015"
      ]
     },
     "execution_count": 42,
     "metadata": {},
     "output_type": "execute_result"
    }
   ],
   "source": [
    "len(test_sample)"
   ]
  },
  {
   "cell_type": "code",
   "execution_count": 43,
   "metadata": {},
   "outputs": [
    {
     "data": {
      "text/plain": [
       "(array([0.53875525]), array([0.93135314]), array([0.68263183]), array([1515]))"
      ]
     },
     "execution_count": 43,
     "metadata": {},
     "output_type": "execute_result"
    }
   ],
   "source": [
    "precision_recall_fscore_support(test_sample.label, test_sample.prediction, labels=['GEN'])"
   ]
  },
  {
   "cell_type": "code",
   "execution_count": 44,
   "metadata": {},
   "outputs": [
    {
     "data": {
      "text/plain": [
       "(array([0.8765384]),\n",
       " array([0.97835137]),\n",
       " array([0.92465068]),\n",
       " array([2543764.]))"
      ]
     },
     "execution_count": 44,
     "metadata": {},
     "output_type": "execute_result"
    }
   ],
   "source": [
    "precision_recall_fscore_support(test_sample.label, test_sample.prediction, sample_weight=test_sample.numdocs, labels=['GEN'])"
   ]
  },
  {
   "cell_type": "markdown",
   "metadata": {},
   "source": [
    "## Examining transformations"
   ]
  },
  {
   "cell_type": "markdown",
   "metadata": {},
   "source": [
    "### Abbreviation resolution"
   ]
  },
  {
   "cell_type": "code",
   "execution_count": null,
   "metadata": {},
   "outputs": [],
   "source": [
    "abbreviation_solver = make_pipeline(\n",
    "    WordSplitter(),\n",
    "    TokenTranslator(abbreviation_mapping_path)\n",
    ")"
   ]
  },
  {
   "cell_type": "code",
   "execution_count": null,
   "metadata": {},
   "outputs": [],
   "source": [
    "train_ds['input_abbr_solved'] = abbreviation_solver.transform(train_ds.input)"
   ]
  },
  {
   "cell_type": "code",
   "execution_count": null,
   "metadata": {},
   "outputs": [],
   "source": [
    "train_ds[train_ds.input.str.match(r'\\b(\\w{2,}\\.){2,}')][['input', 'input_abbr_solved']].sample(5)"
   ]
  },
  {
   "cell_type": "code",
   "execution_count": 113,
   "metadata": {},
   "outputs": [
    {
     "data": {
      "text/html": [
       "<div>\n",
       "<style scoped>\n",
       "    .dataframe tbody tr th:only-of-type {\n",
       "        vertical-align: middle;\n",
       "    }\n",
       "\n",
       "    .dataframe tbody tr th {\n",
       "        vertical-align: top;\n",
       "    }\n",
       "\n",
       "    .dataframe thead th {\n",
       "        text-align: right;\n",
       "    }\n",
       "</style>\n",
       "<table border=\"1\" class=\"dataframe\">\n",
       "  <thead>\n",
       "    <tr style=\"text-align: right;\">\n",
       "      <th></th>\n",
       "      <th>input</th>\n",
       "      <th>input_abbr_solved</th>\n",
       "    </tr>\n",
       "  </thead>\n",
       "  <tbody>\n",
       "    <tr>\n",
       "      <th>28531</th>\n",
       "      <td>Anatomy/Cellular Biology Dept.</td>\n",
       "      <td>Anatomy Cellular Biology department</td>\n",
       "    </tr>\n",
       "    <tr>\n",
       "      <th>48597</th>\n",
       "      <td>Electrical/Electronic Engg. School</td>\n",
       "      <td>Electrical Electronic Engg. School</td>\n",
       "    </tr>\n",
       "    <tr>\n",
       "      <th>8455</th>\n",
       "      <td>Reconstructive/Plastic Surgery Dept.</td>\n",
       "      <td>Reconstructive Plastic Surgery department</td>\n",
       "    </tr>\n",
       "    <tr>\n",
       "      <th>63787</th>\n",
       "      <td>Laas/cnrs</td>\n",
       "      <td>Laas cnrs</td>\n",
       "    </tr>\n",
       "    <tr>\n",
       "      <th>33851</th>\n",
       "      <td>Noaa/nesdis/center For Satellite Applications ...</td>\n",
       "      <td>Noaa nesdis center For Satellite Applications ...</td>\n",
       "    </tr>\n",
       "  </tbody>\n",
       "</table>\n",
       "</div>"
      ],
      "text/plain": [
       "                                                   input  \\\n",
       "28531                     Anatomy/Cellular Biology Dept.   \n",
       "48597                 Electrical/Electronic Engg. School   \n",
       "8455                Reconstructive/Plastic Surgery Dept.   \n",
       "63787                                          Laas/cnrs   \n",
       "33851  Noaa/nesdis/center For Satellite Applications ...   \n",
       "\n",
       "                                       input_abbr_solved  \n",
       "28531                Anatomy Cellular Biology department  \n",
       "48597                 Electrical Electronic Engg. School  \n",
       "8455           Reconstructive Plastic Surgery department  \n",
       "63787                                          Laas cnrs  \n",
       "33851  Noaa nesdis center For Satellite Applications ...  "
      ]
     },
     "execution_count": 113,
     "metadata": {},
     "output_type": "execute_result"
    }
   ],
   "source": [
    "train_ds[train_ds.input.str.match(r'\\b\\w{3,}\\.?(/\\w{3,}\\.?)+')][['input', 'input_abbr_solved']].sample(5)"
   ]
  },
  {
   "cell_type": "code",
   "execution_count": 114,
   "metadata": {
    "scrolled": false
   },
   "outputs": [
    {
     "data": {
      "text/html": [
       "<div>\n",
       "<style scoped>\n",
       "    .dataframe tbody tr th:only-of-type {\n",
       "        vertical-align: middle;\n",
       "    }\n",
       "\n",
       "    .dataframe tbody tr th {\n",
       "        vertical-align: top;\n",
       "    }\n",
       "\n",
       "    .dataframe thead th {\n",
       "        text-align: right;\n",
       "    }\n",
       "</style>\n",
       "<table border=\"1\" class=\"dataframe\">\n",
       "  <thead>\n",
       "    <tr style=\"text-align: right;\">\n",
       "      <th></th>\n",
       "      <th>input</th>\n",
       "      <th>input_abbr_solved</th>\n",
       "    </tr>\n",
       "  </thead>\n",
       "  <tbody>\n",
       "    <tr>\n",
       "      <th>44368</th>\n",
       "      <td>Univ. Paris Sud</td>\n",
       "      <td>university Paris Sud</td>\n",
       "    </tr>\n",
       "    <tr>\n",
       "      <th>1610</th>\n",
       "      <td>Univ. Hosp.</td>\n",
       "      <td>university hospital</td>\n",
       "    </tr>\n",
       "    <tr>\n",
       "      <th>50410</th>\n",
       "      <td>Div. Clin. Immunol. and Rheumatology</td>\n",
       "      <td>division clinical immunology and Rheumatology</td>\n",
       "    </tr>\n",
       "    <tr>\n",
       "      <th>60432</th>\n",
       "      <td>Sts. Cyril And Methodius University</td>\n",
       "      <td>Sts. Cyril And Methodius University</td>\n",
       "    </tr>\n",
       "    <tr>\n",
       "      <th>20732</th>\n",
       "      <td>S. Carlo Hospital</td>\n",
       "      <td>S. Carlo Hospital</td>\n",
       "    </tr>\n",
       "    <tr>\n",
       "      <th>12053</th>\n",
       "      <td>Inst. Genet. Select. Industr. Microorgan.</td>\n",
       "      <td>institute genetics selective industrial microo...</td>\n",
       "    </tr>\n",
       "    <tr>\n",
       "      <th>71982</th>\n",
       "      <td>Dept. Surg. IV</td>\n",
       "      <td>department surgery IV</td>\n",
       "    </tr>\n",
       "    <tr>\n",
       "      <th>21504</th>\n",
       "      <td>Inst. Pitan.</td>\n",
       "      <td>institute Pitan.</td>\n",
       "    </tr>\n",
       "    <tr>\n",
       "      <th>49021</th>\n",
       "      <td>St. Joseph's Medical Center</td>\n",
       "      <td>St. Joseph's Medical Center</td>\n",
       "    </tr>\n",
       "    <tr>\n",
       "      <th>39535</th>\n",
       "      <td>Univ. Of Arkansas</td>\n",
       "      <td>university Of Arkansas</td>\n",
       "    </tr>\n",
       "    <tr>\n",
       "      <th>39907</th>\n",
       "      <td>Dept. de Bioquim.i Biol. Molecular</td>\n",
       "      <td>department de Bioquim.i biology Molecular</td>\n",
       "    </tr>\n",
       "    <tr>\n",
       "      <th>61194</th>\n",
       "      <td>Univ. Studi</td>\n",
       "      <td>university Studi</td>\n",
       "    </tr>\n",
       "    <tr>\n",
       "      <th>57012</th>\n",
       "      <td>Univ. Of North Texas Hlth. Sci. Ctr.</td>\n",
       "      <td>university Of North Texas Hlth. science ctra</td>\n",
       "    </tr>\n",
       "    <tr>\n",
       "      <th>73641</th>\n",
       "      <td>Dept. de Gynecologie et Obstetrique</td>\n",
       "      <td>department de Gynecologie et Obstetrique</td>\n",
       "    </tr>\n",
       "    <tr>\n",
       "      <th>54299</th>\n",
       "      <td>Univ. Nigeria</td>\n",
       "      <td>university Nigeria</td>\n",
       "    </tr>\n",
       "    <tr>\n",
       "      <th>52032</th>\n",
       "      <td>Depts. Physiol. Biochem.</td>\n",
       "      <td>department physiology biochemistry</td>\n",
       "    </tr>\n",
       "    <tr>\n",
       "      <th>68027</th>\n",
       "      <td>Abt. Kinder-Jugendpsychiat.</td>\n",
       "      <td>abteilung Kinder-Jugendpsychiat.</td>\n",
       "    </tr>\n",
       "    <tr>\n",
       "      <th>67436</th>\n",
       "      <td>Child. Hosp.</td>\n",
       "      <td>children hospital</td>\n",
       "    </tr>\n",
       "    <tr>\n",
       "      <th>61597</th>\n",
       "      <td>Hosp. Gregorio Marañón</td>\n",
       "      <td>hospital Gregorio Marañón</td>\n",
       "    </tr>\n",
       "    <tr>\n",
       "      <th>32025</th>\n",
       "      <td>Dept. of Biomedical Engineering/Wb-3</td>\n",
       "      <td>department of Biomedical Engineering/Wb-3</td>\n",
       "    </tr>\n",
       "    <tr>\n",
       "      <th>40872</th>\n",
       "      <td>Med. Univ. Klin.</td>\n",
       "      <td>medicine university klinik</td>\n",
       "    </tr>\n",
       "    <tr>\n",
       "      <th>90143</th>\n",
       "      <td>Dip. Informatica</td>\n",
       "      <td>dipartimento Informatica</td>\n",
       "    </tr>\n",
       "    <tr>\n",
       "      <th>14405</th>\n",
       "      <td>Dept. Surg. 1</td>\n",
       "      <td>department surgery 1</td>\n",
       "    </tr>\n",
       "    <tr>\n",
       "      <th>6849</th>\n",
       "      <td>Univ. Of Massachusetts Med. School</td>\n",
       "      <td>university Of Massachusetts medicine School</td>\n",
       "    </tr>\n",
       "    <tr>\n",
       "      <th>22531</th>\n",
       "      <td>Clin. Neurol. I</td>\n",
       "      <td>clinical neurology I</td>\n",
       "    </tr>\n",
       "    <tr>\n",
       "      <th>57878</th>\n",
       "      <td>L. Spallanzani National Institute For Infectio...</td>\n",
       "      <td>L. Spallanzani National Institute For Infectio...</td>\n",
       "    </tr>\n",
       "    <tr>\n",
       "      <th>62283</th>\n",
       "      <td>Dept. of Medicine E</td>\n",
       "      <td>department of Medicine E</td>\n",
       "    </tr>\n",
       "    <tr>\n",
       "      <th>87319</th>\n",
       "      <td>St. Vincent's Institute Of Medical Research</td>\n",
       "      <td>St. Vincent's Institute Of Medical Research</td>\n",
       "    </tr>\n",
       "    <tr>\n",
       "      <th>69818</th>\n",
       "      <td>Natl. Academy Of Science Of Ukraine</td>\n",
       "      <td>Natl. Academy Of Science Of Ukraine</td>\n",
       "    </tr>\n",
       "    <tr>\n",
       "      <th>71184</th>\n",
       "      <td>Inst. For Physics Of Microstructures</td>\n",
       "      <td>institute For Physics Of Microstructures</td>\n",
       "    </tr>\n",
       "    <tr>\n",
       "      <th>75045</th>\n",
       "      <td>Dept. of Molec. Biology and Biochem.</td>\n",
       "      <td>department of molecular Biology and biochemistry</td>\n",
       "    </tr>\n",
       "    <tr>\n",
       "      <th>60897</th>\n",
       "      <td>Inst. Fur Oberflachenmodifizierung</td>\n",
       "      <td>institute Fur Oberflachenmodifizierung</td>\n",
       "    </tr>\n",
       "    <tr>\n",
       "      <th>75459</th>\n",
       "      <td>Dept. of Infect. Diseases Research</td>\n",
       "      <td>department of infectious Diseases Research</td>\n",
       "    </tr>\n",
       "    <tr>\n",
       "      <th>32825</th>\n",
       "      <td>Dept. of Phys. Med.and Rehab.</td>\n",
       "      <td>department of physics Med.and rehabilitation</td>\n",
       "    </tr>\n",
       "    <tr>\n",
       "      <th>62781</th>\n",
       "      <td>N. E. Bauman Moscow State Technical University</td>\n",
       "      <td>N. E. Bauman Moscow State Technical University</td>\n",
       "    </tr>\n",
       "    <tr>\n",
       "      <th>44757</th>\n",
       "      <td>Inst. Of Mat. Res. And Engineering</td>\n",
       "      <td>institute Of materials research And Engineering</td>\n",
       "    </tr>\n",
       "    <tr>\n",
       "      <th>17844</th>\n",
       "      <td>Ctr. Rech. Petrographiques G.</td>\n",
       "      <td>ctra recherche Petrographiques G.</td>\n",
       "    </tr>\n",
       "    <tr>\n",
       "      <th>20299</th>\n",
       "      <td>Univ. Sheffield</td>\n",
       "      <td>university Sheffield</td>\n",
       "    </tr>\n",
       "    <tr>\n",
       "      <th>57960</th>\n",
       "      <td>N. Copernicus Astronomical Center</td>\n",
       "      <td>N. Copernicus Astronomical Center</td>\n",
       "    </tr>\n",
       "    <tr>\n",
       "      <th>53948</th>\n",
       "      <td>Dept. ofImmunology</td>\n",
       "      <td>department ofImmunology</td>\n",
       "    </tr>\n",
       "    <tr>\n",
       "      <th>84783</th>\n",
       "      <td>Dept. Med. VIII</td>\n",
       "      <td>department medicine VIII</td>\n",
       "    </tr>\n",
       "    <tr>\n",
       "      <th>86571</th>\n",
       "      <td>Nephrol. Abt.</td>\n",
       "      <td>nephrology abteilung</td>\n",
       "    </tr>\n",
       "    <tr>\n",
       "      <th>51743</th>\n",
       "      <td>Dep. de Biotecnologia</td>\n",
       "      <td>department de Biotecnologia</td>\n",
       "    </tr>\n",
       "    <tr>\n",
       "      <th>45147</th>\n",
       "      <td>N. N. Semenov Institute Of Chemical Physics, R...</td>\n",
       "      <td>N. N. Semenov Institute Of Chemical Physics, R...</td>\n",
       "    </tr>\n",
       "    <tr>\n",
       "      <th>38764</th>\n",
       "      <td>Univ. Singapore City</td>\n",
       "      <td>university Singapore City</td>\n",
       "    </tr>\n",
       "    <tr>\n",
       "      <th>31845</th>\n",
       "      <td>Dr. Zekai Tahir Burak Women's Hospital</td>\n",
       "      <td>Dr. Zekai Tahir Burak Women's Hospital</td>\n",
       "    </tr>\n",
       "    <tr>\n",
       "      <th>6974</th>\n",
       "      <td>Univ. Federal De Itajubá</td>\n",
       "      <td>university Federal De Itajubá</td>\n",
       "    </tr>\n",
       "    <tr>\n",
       "      <th>68475</th>\n",
       "      <td>Univ. Of Pittsburgh Medical Center</td>\n",
       "      <td>university Of Pittsburgh Medical Center</td>\n",
       "    </tr>\n",
       "    <tr>\n",
       "      <th>80550</th>\n",
       "      <td>Dep. Intern. Med.</td>\n",
       "      <td>department internal medicine</td>\n",
       "    </tr>\n",
       "    <tr>\n",
       "      <th>28697</th>\n",
       "      <td>Lab. Voor Kristallografie En Studie Van De Vas...</td>\n",
       "      <td>laboratory Voor Kristallografie En Studie Van ...</td>\n",
       "    </tr>\n",
       "  </tbody>\n",
       "</table>\n",
       "</div>"
      ],
      "text/plain": [
       "                                                   input  \\\n",
       "44368                                    Univ. Paris Sud   \n",
       "1610                                         Univ. Hosp.   \n",
       "50410               Div. Clin. Immunol. and Rheumatology   \n",
       "60432                Sts. Cyril And Methodius University   \n",
       "20732                                  S. Carlo Hospital   \n",
       "12053          Inst. Genet. Select. Industr. Microorgan.   \n",
       "71982                                     Dept. Surg. IV   \n",
       "21504                                       Inst. Pitan.   \n",
       "49021                        St. Joseph's Medical Center   \n",
       "39535                                  Univ. Of Arkansas   \n",
       "39907                 Dept. de Bioquim.i Biol. Molecular   \n",
       "61194                                        Univ. Studi   \n",
       "57012               Univ. Of North Texas Hlth. Sci. Ctr.   \n",
       "73641                Dept. de Gynecologie et Obstetrique   \n",
       "54299                                      Univ. Nigeria   \n",
       "52032                           Depts. Physiol. Biochem.   \n",
       "68027                        Abt. Kinder-Jugendpsychiat.   \n",
       "67436                                       Child. Hosp.   \n",
       "61597                             Hosp. Gregorio Marañón   \n",
       "32025               Dept. of Biomedical Engineering/Wb-3   \n",
       "40872                                   Med. Univ. Klin.   \n",
       "90143                                   Dip. Informatica   \n",
       "14405                                      Dept. Surg. 1   \n",
       "6849                  Univ. Of Massachusetts Med. School   \n",
       "22531                                    Clin. Neurol. I   \n",
       "57878  L. Spallanzani National Institute For Infectio...   \n",
       "62283                                Dept. of Medicine E   \n",
       "87319        St. Vincent's Institute Of Medical Research   \n",
       "69818                Natl. Academy Of Science Of Ukraine   \n",
       "71184               Inst. For Physics Of Microstructures   \n",
       "75045               Dept. of Molec. Biology and Biochem.   \n",
       "60897                 Inst. Fur Oberflachenmodifizierung   \n",
       "75459                 Dept. of Infect. Diseases Research   \n",
       "32825                      Dept. of Phys. Med.and Rehab.   \n",
       "62781     N. E. Bauman Moscow State Technical University   \n",
       "44757                 Inst. Of Mat. Res. And Engineering   \n",
       "17844                      Ctr. Rech. Petrographiques G.   \n",
       "20299                                    Univ. Sheffield   \n",
       "57960                  N. Copernicus Astronomical Center   \n",
       "53948                                 Dept. ofImmunology   \n",
       "84783                                    Dept. Med. VIII   \n",
       "86571                                      Nephrol. Abt.   \n",
       "51743                              Dep. de Biotecnologia   \n",
       "45147  N. N. Semenov Institute Of Chemical Physics, R...   \n",
       "38764                               Univ. Singapore City   \n",
       "31845             Dr. Zekai Tahir Burak Women's Hospital   \n",
       "6974                            Univ. Federal De Itajubá   \n",
       "68475                 Univ. Of Pittsburgh Medical Center   \n",
       "80550                                  Dep. Intern. Med.   \n",
       "28697  Lab. Voor Kristallografie En Studie Van De Vas...   \n",
       "\n",
       "                                       input_abbr_solved  \n",
       "44368                               university Paris Sud  \n",
       "1610                                 university hospital  \n",
       "50410      division clinical immunology and Rheumatology  \n",
       "60432                Sts. Cyril And Methodius University  \n",
       "20732                                  S. Carlo Hospital  \n",
       "12053  institute genetics selective industrial microo...  \n",
       "71982                              department surgery IV  \n",
       "21504                                   institute Pitan.  \n",
       "49021                        St. Joseph's Medical Center  \n",
       "39535                             university Of Arkansas  \n",
       "39907          department de Bioquim.i biology Molecular  \n",
       "61194                                   university Studi  \n",
       "57012       university Of North Texas Hlth. science ctra  \n",
       "73641           department de Gynecologie et Obstetrique  \n",
       "54299                                 university Nigeria  \n",
       "52032                 department physiology biochemistry  \n",
       "68027                   abteilung Kinder-Jugendpsychiat.  \n",
       "67436                                  children hospital  \n",
       "61597                          hospital Gregorio Marañón  \n",
       "32025          department of Biomedical Engineering/Wb-3  \n",
       "40872                         medicine university klinik  \n",
       "90143                           dipartimento Informatica  \n",
       "14405                               department surgery 1  \n",
       "6849         university Of Massachusetts medicine School  \n",
       "22531                               clinical neurology I  \n",
       "57878  L. Spallanzani National Institute For Infectio...  \n",
       "62283                           department of Medicine E  \n",
       "87319        St. Vincent's Institute Of Medical Research  \n",
       "69818                Natl. Academy Of Science Of Ukraine  \n",
       "71184           institute For Physics Of Microstructures  \n",
       "75045   department of molecular Biology and biochemistry  \n",
       "60897             institute Fur Oberflachenmodifizierung  \n",
       "75459         department of infectious Diseases Research  \n",
       "32825       department of physics Med.and rehabilitation  \n",
       "62781     N. E. Bauman Moscow State Technical University  \n",
       "44757    institute Of materials research And Engineering  \n",
       "17844                  ctra recherche Petrographiques G.  \n",
       "20299                               university Sheffield  \n",
       "57960                  N. Copernicus Astronomical Center  \n",
       "53948                            department ofImmunology  \n",
       "84783                           department medicine VIII  \n",
       "86571                               nephrology abteilung  \n",
       "51743                        department de Biotecnologia  \n",
       "45147  N. N. Semenov Institute Of Chemical Physics, R...  \n",
       "38764                          university Singapore City  \n",
       "31845             Dr. Zekai Tahir Burak Women's Hospital  \n",
       "6974                       university Federal De Itajubá  \n",
       "68475            university Of Pittsburgh Medical Center  \n",
       "80550                       department internal medicine  \n",
       "28697  laboratory Voor Kristallografie En Studie Van ...  "
      ]
     },
     "execution_count": 114,
     "metadata": {},
     "output_type": "execute_result"
    }
   ],
   "source": [
    "train_ds[train_ds.input.str.match(r'\\b\\w+\\.\\s')][['input', 'input_abbr_solved']].sample(50)"
   ]
  },
  {
   "cell_type": "markdown",
   "metadata": {},
   "source": [
    "### Pattern tagging"
   ]
  },
  {
   "cell_type": "code",
   "execution_count": 115,
   "metadata": {},
   "outputs": [],
   "source": [
    "pattern_tagger = make_pipeline(\n",
    "    WordSplitter(),\n",
    "    TokenTranslator(abbreviation_mapping_path),\n",
    "    WordListTagger(word2tag, 0, default_tag='^nf'),\n",
    ")\n",
    "pattern_tagger2 = make_pipeline(\n",
    "    WordSplitter(),\n",
    "    TokenTranslator('dicts/mle_abbreviation_mapping_from_ani_20190925.csv'),\n",
    "    WordListTagger(word2tag, 100, default_tag='^nf'),\n",
    ")"
   ]
  },
  {
   "cell_type": "code",
   "execution_count": 116,
   "metadata": {},
   "outputs": [],
   "source": [
    "train_sample['input_tagged'] = pattern_tagger.fit_transform(train_sample.input)\n",
    "train_sample['input_tagged2'] = pattern_tagger2.fit_transform(train_sample.input)"
   ]
  },
  {
   "cell_type": "code",
   "execution_count": 117,
   "metadata": {},
   "outputs": [
    {
     "data": {
      "text/plain": [
       "0.8347199112590128"
      ]
     },
     "execution_count": 117,
     "metadata": {},
     "output_type": "execute_result"
    }
   ],
   "source": [
    "(train_sample['input_tagged'] != train_sample['input_tagged2']).mean()"
   ]
  },
  {
   "cell_type": "code",
   "execution_count": 118,
   "metadata": {},
   "outputs": [
    {
     "data": {
      "text/html": [
       "<div>\n",
       "<style scoped>\n",
       "    .dataframe tbody tr th:only-of-type {\n",
       "        vertical-align: middle;\n",
       "    }\n",
       "\n",
       "    .dataframe tbody tr th {\n",
       "        vertical-align: top;\n",
       "    }\n",
       "\n",
       "    .dataframe thead th {\n",
       "        text-align: right;\n",
       "    }\n",
       "</style>\n",
       "<table border=\"1\" class=\"dataframe\">\n",
       "  <thead>\n",
       "    <tr style=\"text-align: right;\">\n",
       "      <th></th>\n",
       "      <th>input</th>\n",
       "      <th>input_tagged</th>\n",
       "      <th>input_tagged2</th>\n",
       "    </tr>\n",
       "  </thead>\n",
       "  <tbody>\n",
       "    <tr>\n",
       "      <th>28652</th>\n",
       "      <td>Cesi</td>\n",
       "      <td>[^nf]</td>\n",
       "      <td>[^nf]</td>\n",
       "    </tr>\n",
       "    <tr>\n",
       "      <th>3568</th>\n",
       "      <td>Universidad Autónoma De San Luis Potosí</td>\n",
       "      <td>[^T, ^nf, ^of, ^S, ^nf]</td>\n",
       "      <td>[universidad, ^nf, de, san, ^nf]</td>\n",
       "    </tr>\n",
       "    <tr>\n",
       "      <th>58361</th>\n",
       "      <td>Heymans Institute Of Pharmacology</td>\n",
       "      <td>[^lf, ^T, ^of, ^S]</td>\n",
       "      <td>[^lf, institute, of, ^S]</td>\n",
       "    </tr>\n",
       "    <tr>\n",
       "      <th>68372</th>\n",
       "      <td>Fraunhofer-institut Für Fertigungstechnik Und ...</td>\n",
       "      <td>[^nf, ^of, ^lf, ^and, ^S, ^nf]</td>\n",
       "      <td>[^nf, für, ^lf, und, ^S, ^nf]</td>\n",
       "    </tr>\n",
       "    <tr>\n",
       "      <th>38341</th>\n",
       "      <td>Department of BiomedicalScience</td>\n",
       "      <td>[^T, ^of, ^lf]</td>\n",
       "      <td>[department, of, ^lf]</td>\n",
       "    </tr>\n",
       "    <tr>\n",
       "      <th>38474</th>\n",
       "      <td>Voronezhskij Gu</td>\n",
       "      <td>[^lf, ^nf]</td>\n",
       "      <td>[^lf, ^nf]</td>\n",
       "    </tr>\n",
       "    <tr>\n",
       "      <th>53064</th>\n",
       "      <td>Dr. Harisingh Gour University, Sagar</td>\n",
       "      <td>[^nf, ^L]</td>\n",
       "      <td>[^nf, ^L]</td>\n",
       "    </tr>\n",
       "    <tr>\n",
       "      <th>3992</th>\n",
       "      <td>San Diego Va Healthcare System</td>\n",
       "      <td>[^S, ^nf, ^S, ^cnS, ^sb]</td>\n",
       "      <td>[san, ^nf, ^S, ^cnS, ^sb]</td>\n",
       "    </tr>\n",
       "    <tr>\n",
       "      <th>56185</th>\n",
       "      <td>Ernst-moritz-arndt-universitat</td>\n",
       "      <td>[^lf]</td>\n",
       "      <td>[^lf]</td>\n",
       "    </tr>\n",
       "    <tr>\n",
       "      <th>86929</th>\n",
       "      <td>International Space Science Institute-beijing</td>\n",
       "      <td>[^sb, ^cS, ^lf]</td>\n",
       "      <td>[international, ^sb, science, ^lf]</td>\n",
       "    </tr>\n",
       "    <tr>\n",
       "      <th>83685</th>\n",
       "      <td>University Hospital</td>\n",
       "      <td>[^univ, ^T]</td>\n",
       "      <td>[university, hospital]</td>\n",
       "    </tr>\n",
       "    <tr>\n",
       "      <th>73876</th>\n",
       "      <td>Dept. of Gynecologic Oncology</td>\n",
       "      <td>[^T, ^of, ^sb]</td>\n",
       "      <td>[department, of, ^sb]</td>\n",
       "    </tr>\n",
       "    <tr>\n",
       "      <th>6883</th>\n",
       "      <td>Shahid Beheshti University Of Medical Sciences</td>\n",
       "      <td>[^nf, ^univ, ^of, ^sb, ^S]</td>\n",
       "      <td>[^nf, university, of, medical, sciences]</td>\n",
       "    </tr>\n",
       "    <tr>\n",
       "      <th>19214</th>\n",
       "      <td>Juntendo University School Medicine</td>\n",
       "      <td>[^nf, ^univ, ^T, ^cS]</td>\n",
       "      <td>[^nf, university, school, medicine]</td>\n",
       "    </tr>\n",
       "    <tr>\n",
       "      <th>1827</th>\n",
       "      <td>Service De Biostatistique</td>\n",
       "      <td>[^T, ^of, ^lf]</td>\n",
       "      <td>[service, de, ^lf]</td>\n",
       "    </tr>\n",
       "    <tr>\n",
       "      <th>13823</th>\n",
       "      <td>Department of Women’s and Gender Studies</td>\n",
       "      <td>[^T, ^of, ^nf, ^and, ^S, ^cS]</td>\n",
       "      <td>[department, of, ^nf, and, ^S, studies]</td>\n",
       "    </tr>\n",
       "    <tr>\n",
       "      <th>79492</th>\n",
       "      <td>Kvsr Siddhartha College Of Pharmaceutical Scie...</td>\n",
       "      <td>[^lf, ^nf, ^T, ^of, ^sb, ^S]</td>\n",
       "      <td>[^lf, ^nf, college, of, pharmaceutical, sciences]</td>\n",
       "    </tr>\n",
       "    <tr>\n",
       "      <th>34259</th>\n",
       "      <td>Saint Vincent Hospital</td>\n",
       "      <td>[^nf, ^L, ^T]</td>\n",
       "      <td>[^nf, ^L, hospital]</td>\n",
       "    </tr>\n",
       "    <tr>\n",
       "      <th>23514</th>\n",
       "      <td>Ralph H. Johnson Vet. Aff. Med. Ctr.</td>\n",
       "      <td>[^L, ^nf, ^L, ^sb, ^nf, ^cS, ^nf]</td>\n",
       "      <td>[^L, ^nf, ^L, veterinary, affiliated, medicine...</td>\n",
       "    </tr>\n",
       "    <tr>\n",
       "      <th>86710</th>\n",
       "      <td>Station De Recherches Sur La Nutrition Des Her...</td>\n",
       "      <td>[^S, ^of, ^S, ^sw, ^sb, ^of, ^nf]</td>\n",
       "      <td>[^S, de, ^S, ^sw, la, ^sb, des, ^nf]</td>\n",
       "    </tr>\n",
       "    <tr>\n",
       "      <th>24358</th>\n",
       "      <td>L'institut National Des Sciences Appliquées De...</td>\n",
       "      <td>[^nf, ^S, ^of, ^S, ^nf, ^of, ^nf]</td>\n",
       "      <td>[^nf, national, des, sciences, ^nf, de, ^nf]</td>\n",
       "    </tr>\n",
       "    <tr>\n",
       "      <th>54285</th>\n",
       "      <td>International Prevention Research Institute</td>\n",
       "      <td>[^sb, ^cnS, ^T]</td>\n",
       "      <td>[international, ^sb, research, institute]</td>\n",
       "    </tr>\n",
       "    <tr>\n",
       "      <th>7819</th>\n",
       "      <td>Aselsan Research Center</td>\n",
       "      <td>[^nf, ^cnS, ^T]</td>\n",
       "      <td>[^nf, research, center]</td>\n",
       "    </tr>\n",
       "    <tr>\n",
       "      <th>89703</th>\n",
       "      <td>Cleveland Museum Of Natural History</td>\n",
       "      <td>[^L, ^nf, ^of, ^sb, ^cS]</td>\n",
       "      <td>[^L, ^nf, of, ^sb, ^cS]</td>\n",
       "    </tr>\n",
       "    <tr>\n",
       "      <th>75651</th>\n",
       "      <td>Natl. Mus. Mar. Biol. And Aquarium</td>\n",
       "      <td>[^nf, ^sb, ^cS, ^and, ^nf]</td>\n",
       "      <td>[natl., ^nf, ^sb, biology, and, ^nf]</td>\n",
       "    </tr>\n",
       "    <tr>\n",
       "      <th>30028</th>\n",
       "      <td>Beijing Key Laboratory Of Translational Medici...</td>\n",
       "      <td>[^L, ^nf, ^T, ^of, ^sb, ^cS, ^of, ^lf, ^S]</td>\n",
       "      <td>[^L, ^nf, laboratory, of, ^sb, medicine, for, ...</td>\n",
       "    </tr>\n",
       "    <tr>\n",
       "      <th>17838</th>\n",
       "      <td>Patientslikeme</td>\n",
       "      <td>[^lf]</td>\n",
       "      <td>[^lf]</td>\n",
       "    </tr>\n",
       "    <tr>\n",
       "      <th>1718</th>\n",
       "      <td>Foundation For Research And Technology - Hella...</td>\n",
       "      <td>[^T, ^of, ^cnS, ^and, ^cS, ^nf, ^L, ^nf]</td>\n",
       "      <td>[foundation, for, research, and, technology, -...</td>\n",
       "    </tr>\n",
       "    <tr>\n",
       "      <th>17908</th>\n",
       "      <td>Umr-cnrs 8520</td>\n",
       "      <td>[^nf]</td>\n",
       "      <td>[^nf]</td>\n",
       "    </tr>\n",
       "    <tr>\n",
       "      <th>23339</th>\n",
       "      <td>Istituto Europeo Di Oncologia</td>\n",
       "      <td>[^T, ^lf, ^of, ^sb]</td>\n",
       "      <td>[^T, ^lf, di, ^sb]</td>\n",
       "    </tr>\n",
       "    <tr>\n",
       "      <th>10936</th>\n",
       "      <td>C/o Esrf</td>\n",
       "      <td>[^nf, ^lf]</td>\n",
       "      <td>[^nf, ^lf]</td>\n",
       "    </tr>\n",
       "    <tr>\n",
       "      <th>87504</th>\n",
       "      <td>Chungyu Institute Of Technology</td>\n",
       "      <td>[^lf, ^T, ^of, ^cS]</td>\n",
       "      <td>[^lf, institute, of, technology]</td>\n",
       "    </tr>\n",
       "    <tr>\n",
       "      <th>63503</th>\n",
       "      <td>Ames Laboratory-usdoe</td>\n",
       "      <td>[^nf, ^lf]</td>\n",
       "      <td>[^nf, ^lf]</td>\n",
       "    </tr>\n",
       "    <tr>\n",
       "      <th>76541</th>\n",
       "      <td>Royal Surrey County Hospital</td>\n",
       "      <td>[^S, ^L, ^T]</td>\n",
       "      <td>[royal, ^L, hospital]</td>\n",
       "    </tr>\n",
       "    <tr>\n",
       "      <th>31317</th>\n",
       "      <td>Ankara Nuclear Research And Training Center</td>\n",
       "      <td>[^L, ^sb, ^cnS, ^and, ^nf, ^T]</td>\n",
       "      <td>[^L, ^sb, research, and, ^nf, center]</td>\n",
       "    </tr>\n",
       "    <tr>\n",
       "      <th>89547</th>\n",
       "      <td>Total S.a.</td>\n",
       "      <td>[^S, ^nf]</td>\n",
       "      <td>[^S, ^nf]</td>\n",
       "    </tr>\n",
       "    <tr>\n",
       "      <th>61527</th>\n",
       "      <td>Japan Fine Ceramics Center</td>\n",
       "      <td>[^L, ^nf, ^S, ^T]</td>\n",
       "      <td>[^L, ^nf, ^S, center]</td>\n",
       "    </tr>\n",
       "    <tr>\n",
       "      <th>33184</th>\n",
       "      <td>Chu De Sherbrooke</td>\n",
       "      <td>[^nf, ^of, ^L]</td>\n",
       "      <td>[^nf, de, ^L]</td>\n",
       "    </tr>\n",
       "    <tr>\n",
       "      <th>27036</th>\n",
       "      <td>Natl. Inst. Neurol. Disorders/stroke</td>\n",
       "      <td>[^nf, ^T, ^S, ^sb]</td>\n",
       "      <td>[natl., institute, ^S, ^sb]</td>\n",
       "    </tr>\n",
       "    <tr>\n",
       "      <th>26084</th>\n",
       "      <td>Hopital Saint-jacques</td>\n",
       "      <td>[^nf]</td>\n",
       "      <td>[^nf]</td>\n",
       "    </tr>\n",
       "    <tr>\n",
       "      <th>11858</th>\n",
       "      <td>Centro Hospitalar De Lisboa Ocidental</td>\n",
       "      <td>[^T, ^nf, ^of, ^L, ^lf]</td>\n",
       "      <td>[centro, ^nf, de, ^L, ^lf]</td>\n",
       "    </tr>\n",
       "    <tr>\n",
       "      <th>31600</th>\n",
       "      <td>Department ofPharmacology and Toxicology</td>\n",
       "      <td>[^T, ^S, ^and, ^S]</td>\n",
       "      <td>[department, ^S, and, ^S]</td>\n",
       "    </tr>\n",
       "    <tr>\n",
       "      <th>7924</th>\n",
       "      <td>Cleveland Veterans Affairs Medical Center</td>\n",
       "      <td>[^L, ^sb, ^cS, ^sb, ^T]</td>\n",
       "      <td>[^L, ^sb, ^cS, medical, center]</td>\n",
       "    </tr>\n",
       "    <tr>\n",
       "      <th>27254</th>\n",
       "      <td>Jinan University School Of Medicine</td>\n",
       "      <td>[^L, ^univ, ^T, ^of, ^cS]</td>\n",
       "      <td>[^L, university, school, of, medicine]</td>\n",
       "    </tr>\n",
       "    <tr>\n",
       "      <th>85122</th>\n",
       "      <td>International Institute Of Tropical Agriculture</td>\n",
       "      <td>[^sb, ^T, ^of, ^sb, ^S]</td>\n",
       "      <td>[international, institute, of, ^sb, agriculture]</td>\n",
       "    </tr>\n",
       "    <tr>\n",
       "      <th>75296</th>\n",
       "      <td>Instituto De Plásticos Y Caucho</td>\n",
       "      <td>[^T, ^of, ^lf, ^and, ^lf]</td>\n",
       "      <td>[instituto, de, ^lf, ^and, ^lf]</td>\n",
       "    </tr>\n",
       "    <tr>\n",
       "      <th>53863</th>\n",
       "      <td>Pakistan Inst. Nucl. Sci. Technol.</td>\n",
       "      <td>[^L, ^T, ^sb, ^cS]</td>\n",
       "      <td>[^L, institute, ^sb, science, technology]</td>\n",
       "    </tr>\n",
       "    <tr>\n",
       "      <th>61708</th>\n",
       "      <td>Departnrent of Medicine</td>\n",
       "      <td>[^lf, ^of, ^cS]</td>\n",
       "      <td>[^lf, of, medicine]</td>\n",
       "    </tr>\n",
       "    <tr>\n",
       "      <th>61177</th>\n",
       "      <td>Instituto De Olhos Renato Ambrósio</td>\n",
       "      <td>[^T, ^of, ^lf]</td>\n",
       "      <td>[instituto, de, ^lf]</td>\n",
       "    </tr>\n",
       "    <tr>\n",
       "      <th>58414</th>\n",
       "      <td>Swed. Environ. Protection Agency</td>\n",
       "      <td>[^nf, ^sb, ^S, ^nf]</td>\n",
       "      <td>[^nf, environmental, ^S, ^nf]</td>\n",
       "    </tr>\n",
       "  </tbody>\n",
       "</table>\n",
       "</div>"
      ],
      "text/plain": [
       "                                                   input  \\\n",
       "28652                                               Cesi   \n",
       "3568             Universidad Autónoma De San Luis Potosí   \n",
       "58361                  Heymans Institute Of Pharmacology   \n",
       "68372  Fraunhofer-institut Für Fertigungstechnik Und ...   \n",
       "38341                    Department of BiomedicalScience   \n",
       "38474                                    Voronezhskij Gu   \n",
       "53064               Dr. Harisingh Gour University, Sagar   \n",
       "3992                      San Diego Va Healthcare System   \n",
       "56185                     Ernst-moritz-arndt-universitat   \n",
       "86929      International Space Science Institute-beijing   \n",
       "83685                                University Hospital   \n",
       "73876                      Dept. of Gynecologic Oncology   \n",
       "6883      Shahid Beheshti University Of Medical Sciences   \n",
       "19214                Juntendo University School Medicine   \n",
       "1827                           Service De Biostatistique   \n",
       "13823           Department of Women’s and Gender Studies   \n",
       "79492  Kvsr Siddhartha College Of Pharmaceutical Scie...   \n",
       "34259                             Saint Vincent Hospital   \n",
       "23514               Ralph H. Johnson Vet. Aff. Med. Ctr.   \n",
       "86710  Station De Recherches Sur La Nutrition Des Her...   \n",
       "24358  L'institut National Des Sciences Appliquées De...   \n",
       "54285        International Prevention Research Institute   \n",
       "7819                             Aselsan Research Center   \n",
       "89703                Cleveland Museum Of Natural History   \n",
       "75651                 Natl. Mus. Mar. Biol. And Aquarium   \n",
       "30028  Beijing Key Laboratory Of Translational Medici...   \n",
       "17838                                     Patientslikeme   \n",
       "1718   Foundation For Research And Technology - Hella...   \n",
       "17908                                      Umr-cnrs 8520   \n",
       "23339                      Istituto Europeo Di Oncologia   \n",
       "10936                                           C/o Esrf   \n",
       "87504                    Chungyu Institute Of Technology   \n",
       "63503                              Ames Laboratory-usdoe   \n",
       "76541                       Royal Surrey County Hospital   \n",
       "31317        Ankara Nuclear Research And Training Center   \n",
       "89547                                         Total S.a.   \n",
       "61527                         Japan Fine Ceramics Center   \n",
       "33184                                  Chu De Sherbrooke   \n",
       "27036               Natl. Inst. Neurol. Disorders/stroke   \n",
       "26084                              Hopital Saint-jacques   \n",
       "11858              Centro Hospitalar De Lisboa Ocidental   \n",
       "31600           Department ofPharmacology and Toxicology   \n",
       "7924           Cleveland Veterans Affairs Medical Center   \n",
       "27254                Jinan University School Of Medicine   \n",
       "85122    International Institute Of Tropical Agriculture   \n",
       "75296                    Instituto De Plásticos Y Caucho   \n",
       "53863                 Pakistan Inst. Nucl. Sci. Technol.   \n",
       "61708                            Departnrent of Medicine   \n",
       "61177                 Instituto De Olhos Renato Ambrósio   \n",
       "58414                   Swed. Environ. Protection Agency   \n",
       "\n",
       "                                     input_tagged  \\\n",
       "28652                                       [^nf]   \n",
       "3568                      [^T, ^nf, ^of, ^S, ^nf]   \n",
       "58361                          [^lf, ^T, ^of, ^S]   \n",
       "68372              [^nf, ^of, ^lf, ^and, ^S, ^nf]   \n",
       "38341                              [^T, ^of, ^lf]   \n",
       "38474                                  [^lf, ^nf]   \n",
       "53064                                   [^nf, ^L]   \n",
       "3992                     [^S, ^nf, ^S, ^cnS, ^sb]   \n",
       "56185                                       [^lf]   \n",
       "86929                             [^sb, ^cS, ^lf]   \n",
       "83685                                 [^univ, ^T]   \n",
       "73876                              [^T, ^of, ^sb]   \n",
       "6883                   [^nf, ^univ, ^of, ^sb, ^S]   \n",
       "19214                       [^nf, ^univ, ^T, ^cS]   \n",
       "1827                               [^T, ^of, ^lf]   \n",
       "13823               [^T, ^of, ^nf, ^and, ^S, ^cS]   \n",
       "79492                [^lf, ^nf, ^T, ^of, ^sb, ^S]   \n",
       "34259                               [^nf, ^L, ^T]   \n",
       "23514           [^L, ^nf, ^L, ^sb, ^nf, ^cS, ^nf]   \n",
       "86710           [^S, ^of, ^S, ^sw, ^sb, ^of, ^nf]   \n",
       "24358           [^nf, ^S, ^of, ^S, ^nf, ^of, ^nf]   \n",
       "54285                             [^sb, ^cnS, ^T]   \n",
       "7819                              [^nf, ^cnS, ^T]   \n",
       "89703                    [^L, ^nf, ^of, ^sb, ^cS]   \n",
       "75651                  [^nf, ^sb, ^cS, ^and, ^nf]   \n",
       "30028  [^L, ^nf, ^T, ^of, ^sb, ^cS, ^of, ^lf, ^S]   \n",
       "17838                                       [^lf]   \n",
       "1718     [^T, ^of, ^cnS, ^and, ^cS, ^nf, ^L, ^nf]   \n",
       "17908                                       [^nf]   \n",
       "23339                         [^T, ^lf, ^of, ^sb]   \n",
       "10936                                  [^nf, ^lf]   \n",
       "87504                         [^lf, ^T, ^of, ^cS]   \n",
       "63503                                  [^nf, ^lf]   \n",
       "76541                                [^S, ^L, ^T]   \n",
       "31317              [^L, ^sb, ^cnS, ^and, ^nf, ^T]   \n",
       "89547                                   [^S, ^nf]   \n",
       "61527                           [^L, ^nf, ^S, ^T]   \n",
       "33184                              [^nf, ^of, ^L]   \n",
       "27036                          [^nf, ^T, ^S, ^sb]   \n",
       "26084                                       [^nf]   \n",
       "11858                     [^T, ^nf, ^of, ^L, ^lf]   \n",
       "31600                          [^T, ^S, ^and, ^S]   \n",
       "7924                      [^L, ^sb, ^cS, ^sb, ^T]   \n",
       "27254                   [^L, ^univ, ^T, ^of, ^cS]   \n",
       "85122                     [^sb, ^T, ^of, ^sb, ^S]   \n",
       "75296                   [^T, ^of, ^lf, ^and, ^lf]   \n",
       "53863                          [^L, ^T, ^sb, ^cS]   \n",
       "61708                             [^lf, ^of, ^cS]   \n",
       "61177                              [^T, ^of, ^lf]   \n",
       "58414                         [^nf, ^sb, ^S, ^nf]   \n",
       "\n",
       "                                           input_tagged2  \n",
       "28652                                              [^nf]  \n",
       "3568                    [universidad, ^nf, de, san, ^nf]  \n",
       "58361                           [^lf, institute, of, ^S]  \n",
       "68372                      [^nf, für, ^lf, und, ^S, ^nf]  \n",
       "38341                              [department, of, ^lf]  \n",
       "38474                                         [^lf, ^nf]  \n",
       "53064                                          [^nf, ^L]  \n",
       "3992                           [san, ^nf, ^S, ^cnS, ^sb]  \n",
       "56185                                              [^lf]  \n",
       "86929                 [international, ^sb, science, ^lf]  \n",
       "83685                             [university, hospital]  \n",
       "73876                              [department, of, ^sb]  \n",
       "6883            [^nf, university, of, medical, sciences]  \n",
       "19214                [^nf, university, school, medicine]  \n",
       "1827                                  [service, de, ^lf]  \n",
       "13823            [department, of, ^nf, and, ^S, studies]  \n",
       "79492  [^lf, ^nf, college, of, pharmaceutical, sciences]  \n",
       "34259                                [^nf, ^L, hospital]  \n",
       "23514  [^L, ^nf, ^L, veterinary, affiliated, medicine...  \n",
       "86710               [^S, de, ^S, ^sw, la, ^sb, des, ^nf]  \n",
       "24358       [^nf, national, des, sciences, ^nf, de, ^nf]  \n",
       "54285          [international, ^sb, research, institute]  \n",
       "7819                             [^nf, research, center]  \n",
       "89703                            [^L, ^nf, of, ^sb, ^cS]  \n",
       "75651               [natl., ^nf, ^sb, biology, and, ^nf]  \n",
       "30028  [^L, ^nf, laboratory, of, ^sb, medicine, for, ...  \n",
       "17838                                              [^lf]  \n",
       "1718   [foundation, for, research, and, technology, -...  \n",
       "17908                                              [^nf]  \n",
       "23339                                 [^T, ^lf, di, ^sb]  \n",
       "10936                                         [^nf, ^lf]  \n",
       "87504                   [^lf, institute, of, technology]  \n",
       "63503                                         [^nf, ^lf]  \n",
       "76541                              [royal, ^L, hospital]  \n",
       "31317              [^L, ^sb, research, and, ^nf, center]  \n",
       "89547                                          [^S, ^nf]  \n",
       "61527                              [^L, ^nf, ^S, center]  \n",
       "33184                                      [^nf, de, ^L]  \n",
       "27036                        [natl., institute, ^S, ^sb]  \n",
       "26084                                              [^nf]  \n",
       "11858                         [centro, ^nf, de, ^L, ^lf]  \n",
       "31600                          [department, ^S, and, ^S]  \n",
       "7924                     [^L, ^sb, ^cS, medical, center]  \n",
       "27254             [^L, university, school, of, medicine]  \n",
       "85122   [international, institute, of, ^sb, agriculture]  \n",
       "75296                    [instituto, de, ^lf, ^and, ^lf]  \n",
       "53863          [^L, institute, ^sb, science, technology]  \n",
       "61708                                [^lf, of, medicine]  \n",
       "61177                               [instituto, de, ^lf]  \n",
       "58414                      [^nf, environmental, ^S, ^nf]  "
      ]
     },
     "execution_count": 118,
     "metadata": {},
     "output_type": "execute_result"
    }
   ],
   "source": [
    "train_sample[['input', 'input_tagged', 'input_tagged2']].sample(50)"
   ]
  },
  {
   "cell_type": "code",
   "execution_count": 119,
   "metadata": {
    "scrolled": true
   },
   "outputs": [
    {
     "data": {
      "text/plain": [
       "OrderedDict([('of', 2593),\n",
       "             ('university', 1626),\n",
       "             ('institute', 984),\n",
       "             ('and', 962),\n",
       "             ('department', 887),\n",
       "             ('hospital', 864),\n",
       "             ('research', 648),\n",
       "             ('de', 639),\n",
       "             ('center', 456),\n",
       "             ('for', 401),\n",
       "             ('medical', 348),\n",
       "             ('science', 326),\n",
       "             ('medicine', 325),\n",
       "             ('college', 322),\n",
       "             ('sciences', 300),\n",
       "             ('technology', 277),\n",
       "             ('engineering', 273),\n",
       "             ('school', 272),\n",
       "             ('national', 263),\n",
       "             ('health', 215),\n",
       "             ('centre', 200),\n",
       "             ('the', 183),\n",
       "             ('academy', 177),\n",
       "             ('state', 165),\n",
       "             ('laboratory', 144),\n",
       "             ('inc.', 117),\n",
       "             ('institut', 109),\n",
       "             ('biology', 96),\n",
       "             ('general', 94),\n",
       "             ('chemistry', 87),\n",
       "             ('molecular', 84),\n",
       "             ('cancer', 81),\n",
       "             ('corporation', 79),\n",
       "             ('faculty', 78),\n",
       "             ('physics', 73),\n",
       "             ('international', 71),\n",
       "             ('di', 71),\n",
       "             ('ltd.', 69),\n",
       "             ('instituto', 67),\n",
       "             ('foundation', 66),\n",
       "             ('université', 66),\n",
       "             ('surgery', 64),\n",
       "             ('univ', 63),\n",
       "             ('la', 63),\n",
       "             ('für', 61),\n",
       "             ('division', 61),\n",
       "             ('universidad', 60),\n",
       "             ('agricultural', 58),\n",
       "             ('development', 56),\n",
       "             ('materials', 53),\n",
       "             (\"children's\", 53),\n",
       "             ('education', 52),\n",
       "             ('public', 51),\n",
       "             ('in', 51),\n",
       "             ('st.', 51),\n",
       "             ('-', 50),\n",
       "             ('applied', 49),\n",
       "             ('chemical', 49),\n",
       "             ('information', 49),\n",
       "             ('service', 48),\n",
       "             ('central', 48),\n",
       "             ('royal', 48),\n",
       "             ('et', 46),\n",
       "             ('food', 46),\n",
       "             ('biochemistry', 45),\n",
       "             ('clinical', 45),\n",
       "             ('technical', 44),\n",
       "             ('studies', 42),\n",
       "             ('departamento', 42),\n",
       "             ('veterinary', 42),\n",
       "             ('centro', 42),\n",
       "             ('california', 42),\n",
       "             ('gmbh', 42),\n",
       "             ('company', 41),\n",
       "             ('computer', 41),\n",
       "             ('nacional', 40),\n",
       "             ('und', 39),\n",
       "             ('electrical', 39),\n",
       "             ('pharmaceutical', 38),\n",
       "             ('systems', 38),\n",
       "             ('at', 38),\n",
       "             ('management', 38),\n",
       "             ('&', 37),\n",
       "             ('e', 37),\n",
       "             ('graduate', 36),\n",
       "             ('inst', 36),\n",
       "             ('agriculture', 36),\n",
       "             ('environmental', 36),\n",
       "             ('des', 36),\n",
       "             ('texas', 36),\n",
       "             ('co.', 36),\n",
       "             ('new', 36),\n",
       "             ('universidade', 36),\n",
       "             ('affiliated', 36),\n",
       "             ('advanced', 35),\n",
       "             ('group', 35),\n",
       "             ('natl.', 35),\n",
       "             ('san', 35),\n",
       "             ('del', 35),\n",
       "             ('ministry', 35)])"
      ]
     },
     "execution_count": 119,
     "metadata": {},
     "output_type": "execute_result"
    }
   ],
   "source": [
    "pattern_tagger2.steps[2][1].top_freq_words"
   ]
  },
  {
   "cell_type": "code",
   "execution_count": 120,
   "metadata": {},
   "outputs": [],
   "source": [
    "top_level_tagger = WordListTagger(top_level_word_map, 0, default_tag='other')"
   ]
  },
  {
   "cell_type": "code",
   "execution_count": 121,
   "metadata": {},
   "outputs": [],
   "source": [
    "train_sample['input_top_lvl_tagged'] = top_level_tagger.fit_transform(train_sample.input)"
   ]
  },
  {
   "cell_type": "code",
   "execution_count": 122,
   "metadata": {},
   "outputs": [
    {
     "data": {
      "text/html": [
       "<div>\n",
       "<style scoped>\n",
       "    .dataframe tbody tr th:only-of-type {\n",
       "        vertical-align: middle;\n",
       "    }\n",
       "\n",
       "    .dataframe tbody tr th {\n",
       "        vertical-align: top;\n",
       "    }\n",
       "\n",
       "    .dataframe thead th {\n",
       "        text-align: right;\n",
       "    }\n",
       "</style>\n",
       "<table border=\"1\" class=\"dataframe\">\n",
       "  <thead>\n",
       "    <tr style=\"text-align: right;\">\n",
       "      <th></th>\n",
       "      <th>input</th>\n",
       "      <th>input_top_lvl_tagged</th>\n",
       "    </tr>\n",
       "  </thead>\n",
       "  <tbody>\n",
       "    <tr>\n",
       "      <th>32566</th>\n",
       "      <td>Bethesda Physiocare</td>\n",
       "      <td>[other]</td>\n",
       "    </tr>\n",
       "    <tr>\n",
       "      <th>19782</th>\n",
       "      <td>Physik Department E21</td>\n",
       "      <td>[other]</td>\n",
       "    </tr>\n",
       "    <tr>\n",
       "      <th>78781</th>\n",
       "      <td>Ospedale S. Giovanni</td>\n",
       "      <td>[other]</td>\n",
       "    </tr>\n",
       "    <tr>\n",
       "      <th>51158</th>\n",
       "      <td>Institute Of Chemistry, Technology And Metallurgy</td>\n",
       "      <td>[^top, other]</td>\n",
       "    </tr>\n",
       "    <tr>\n",
       "      <th>25233</th>\n",
       "      <td>Wuxi Institute Of Technology</td>\n",
       "      <td>[other, ^top, other]</td>\n",
       "    </tr>\n",
       "    <tr>\n",
       "      <th>52588</th>\n",
       "      <td>Electronics And Telecommunication Research Ins...</td>\n",
       "      <td>[other, ^top]</td>\n",
       "    </tr>\n",
       "    <tr>\n",
       "      <th>27185</th>\n",
       "      <td>Div. of Cardiovasc. Dis.-I.</td>\n",
       "      <td>[other]</td>\n",
       "    </tr>\n",
       "    <tr>\n",
       "      <th>37793</th>\n",
       "      <td>Medizinische Universitätsklinik</td>\n",
       "      <td>[other]</td>\n",
       "    </tr>\n",
       "    <tr>\n",
       "      <th>16770</th>\n",
       "      <td>Linyi Normal University</td>\n",
       "      <td>[other, ^top]</td>\n",
       "    </tr>\n",
       "    <tr>\n",
       "      <th>35732</th>\n",
       "      <td>Columbia River Inter-tribal Fish Commission</td>\n",
       "      <td>[other]</td>\n",
       "    </tr>\n",
       "  </tbody>\n",
       "</table>\n",
       "</div>"
      ],
      "text/plain": [
       "                                                   input  input_top_lvl_tagged\n",
       "32566                                Bethesda Physiocare               [other]\n",
       "19782                              Physik Department E21               [other]\n",
       "78781                               Ospedale S. Giovanni               [other]\n",
       "51158  Institute Of Chemistry, Technology And Metallurgy         [^top, other]\n",
       "25233                       Wuxi Institute Of Technology  [other, ^top, other]\n",
       "52588  Electronics And Telecommunication Research Ins...         [other, ^top]\n",
       "27185                        Div. of Cardiovasc. Dis.-I.               [other]\n",
       "37793                    Medizinische Universitätsklinik               [other]\n",
       "16770                            Linyi Normal University         [other, ^top]\n",
       "35732        Columbia River Inter-tribal Fish Commission               [other]"
      ]
     },
     "execution_count": 122,
     "metadata": {},
     "output_type": "execute_result"
    }
   ],
   "source": [
    "train_sample[['input', 'input_top_lvl_tagged']].sample(10)"
   ]
  },
  {
   "cell_type": "markdown",
   "metadata": {},
   "source": [
    "## Examining feaures"
   ]
  },
  {
   "cell_type": "code",
   "execution_count": 123,
   "metadata": {},
   "outputs": [
    {
     "data": {
      "text/plain": [
       "array([array([  3.,  20.,  26.,  32.,  41., 126.]),\n",
       "       array([ 1.,  2.,  3.,  4.,  5., 17.]),\n",
       "       array([0.        , 0.09090909, 0.11428571, 0.13043478, 0.14814815,\n",
       "       1.        ]),\n",
       "       array([0., 1.]), array([0., 1.]),\n",
       "       array([1.0000e+00, 5.7600e+02, 6.0640e+03, 9.9680e+03, 2.6746e+04]),\n",
       "       array([6.66666667e-01, 1.69370000e+02, 1.58412000e+03, 2.90276000e+03,\n",
       "       5.92960000e+03, 1.36140000e+04])], dtype=object)"
      ]
     },
     "execution_count": 123,
     "metadata": {},
     "output_type": "execute_result"
    }
   ],
   "source": [
    "discretizer.bin_edges_"
   ]
  },
  {
   "cell_type": "code",
   "execution_count": 124,
   "metadata": {},
   "outputs": [
    {
     "data": {
      "text/plain": [
       "{'^T': 2,\n",
       " '^of': 13,\n",
       " '^sb': 14,\n",
       " '^cS': 4,\n",
       " '^nf': 12,\n",
       " '^cnS': 6,\n",
       " '^and': 3,\n",
       " '^cnT': 7,\n",
       " '^sw': 16,\n",
       " '^L': 0,\n",
       " '^univ': 17,\n",
       " '^lf': 10,\n",
       " '^mO': 11,\n",
       " '^S': 1,\n",
       " '^in': 9,\n",
       " '^sbE': 15,\n",
       " '^e': 8,\n",
       " '^cn': 5}"
      ]
     },
     "execution_count": 124,
     "metadata": {},
     "output_type": "execute_result"
    }
   ],
   "source": [
    "ngram_pattern_vectorizer.vocabulary_"
   ]
  },
  {
   "cell_type": "code",
   "execution_count": 125,
   "metadata": {
    "scrolled": false
   },
   "outputs": [
    {
     "data": {
      "text/plain": [
       "{'^T_^of_^sb': 21,\n",
       " '^lf_^sb_^T': 35,\n",
       " '^T_^of_^S_^and_^S': 16,\n",
       " '^T_^of_^S': 15,\n",
       " '^lf': 28,\n",
       " '^nf': 37,\n",
       " '^lf_^T': 30,\n",
       " '^T_^of_^sb_^cS': 25,\n",
       " '^nf_^sb_^T': 51,\n",
       " '^L_^nf_^T': 5,\n",
       " '^sb_^T': 55,\n",
       " '^nf_^T_^of_^sb_^S': 44,\n",
       " '^lf_^mO_^T': 32,\n",
       " '^nf_^cnT': 46,\n",
       " '^univ_^of_^L': 57,\n",
       " '^sb_^S_^T': 54,\n",
       " '^T_^S': 12,\n",
       " '^lf_^nf_^T': 34,\n",
       " '^T_^of_^sb_^and_^sb': 23,\n",
       " '^lf_^nf': 33,\n",
       " '^nf_^cnS_^T': 45,\n",
       " '^S_^T': 9,\n",
       " '^nf_^lf': 47,\n",
       " '^nf_^T_^of_^cS': 43,\n",
       " '^S_^sb_^T': 11,\n",
       " '^nf_^T': 41,\n",
       " '^nf_^S': 39,\n",
       " '^nf_^univ': 52,\n",
       " '^L_^T_^of_^S': 2,\n",
       " '^T_^nf': 14,\n",
       " '^nf_^S_^nf': 40,\n",
       " '^T_^sb': 26,\n",
       " '^nf_^T_^of_^S': 42,\n",
       " '^T_^of_^cS': 18,\n",
       " '^nf_^of_^L': 49,\n",
       " '^T_^lf': 13,\n",
       " '^lf_^cnT': 31,\n",
       " '^sb_^cnS_^T': 56,\n",
       " '^L_^univ': 8,\n",
       " '^nf_^lf_^nf': 48,\n",
       " '^nf_^univ_^T': 53,\n",
       " '^T_^of_^sb_^S': 22,\n",
       " '^lf_^univ': 36,\n",
       " '^nf_^of_^nf': 50,\n",
       " '^L_^sb_^T': 7,\n",
       " '^L_^T': 1,\n",
       " '^univ_^of_^nf': 58,\n",
       " '^T_^of_^lf': 19,\n",
       " '^T_^of_^S_^lf': 17,\n",
       " '^S_^nf': 10,\n",
       " '^nf_^L': 38,\n",
       " '^T_^sb_^cS': 27,\n",
       " '^T_^of_^nf': 20,\n",
       " '^T_^of_^sb_^and_^sb_^cS': 24,\n",
       " '^L_^nf': 4,\n",
       " '^L_^nf_^univ': 6,\n",
       " '^L_^S_^T': 0,\n",
       " '^lf_^S': 29,\n",
       " '^L_^mO_^T': 3}"
      ]
     },
     "execution_count": 125,
     "metadata": {},
     "output_type": "execute_result"
    }
   ],
   "source": [
    "joined_pattern_vectorizer.vocabulary_"
   ]
  },
  {
   "cell_type": "code",
   "execution_count": 126,
   "metadata": {},
   "outputs": [
    {
     "data": {
      "text/plain": [
       "59"
      ]
     },
     "execution_count": 126,
     "metadata": {},
     "output_type": "execute_result"
    }
   ],
   "source": [
    "len(joined_pattern_vectorizer.vocabulary_)"
   ]
  },
  {
   "cell_type": "markdown",
   "metadata": {},
   "source": [
    "# Debugging"
   ]
  },
  {
   "cell_type": "code",
   "execution_count": 127,
   "metadata": {},
   "outputs": [],
   "source": [
    "gen_orgs = train_ds[train_ds.label == 'GEN'].iloc[:10000].copy()\n",
    "spe_orgs = train_ds[train_ds.label == 'SPE'].iloc[:10000]"
   ]
  },
  {
   "cell_type": "code",
   "execution_count": 128,
   "metadata": {},
   "outputs": [],
   "source": [
    "classifyOrg(rule_based_classifier, pipeline, gen_orgs)"
   ]
  },
  {
   "cell_type": "code",
   "execution_count": 129,
   "metadata": {},
   "outputs": [],
   "source": [
    "gen_orgs_misclassified = gen_orgs[gen_orgs['prediction'] != 'GEN']"
   ]
  },
  {
   "cell_type": "code",
   "execution_count": 130,
   "metadata": {},
   "outputs": [
    {
     "data": {
      "text/plain": [
       "560"
      ]
     },
     "execution_count": 130,
     "metadata": {},
     "output_type": "execute_result"
    }
   ],
   "source": [
    "len(gen_orgs_misclassified)"
   ]
  },
  {
   "cell_type": "code",
   "execution_count": 131,
   "metadata": {},
   "outputs": [
    {
     "name": "stdout",
     "output_type": "stream",
     "text": [
      "Primate Resarch Institute\n",
      "Department of German Studies\n",
      "Research Institute for Mathmatical Sciences\n",
      "Electrical and Computer Engineering (ECE)\n",
      "Institut für Biochemie (FB 08)\n",
      "Second Affiliated Hosptial\n",
      "Education Seoul National University Seoul\n",
      "Inst. for kulturgeografi\n",
      "Research Institute of Eye Diseases\n",
      "Health & Human Rights Program\n",
      "Centre for Eye Research\n",
      "Aquarius Project\n",
      "Primate Reseach Institute\n",
      "Informaton Technology and Systems Center\n",
      "Alliance Laboratory for Advanced Medical Research\n",
      "RST\n",
      "Plastic/Reconstructive SurgeryDept.\n",
      "CIMR\n",
      "Res. Inst. Pharmaceutical Sciences\n",
      "Wiener University\n",
      "Dept.Obstet.\n",
      "Institute for Cancer Research (IRCC)\n",
      "Institute for Chamical Research\n",
      "Institute for Natural Sciences\n",
      "St. Catherine’s College\n",
      "VIRUTUS\n",
      "Natura1l Products Research Institute\n",
      "Vlaams Interuniversitair Instituut voor Biotechnologie (VIB)\n",
      "Robinson College\n",
      "Faculty of Arts and Social Sciences\n",
      "University of Chicago Biological Sciences\n",
      "National Vegatable Research Station\n",
      "III Neurological Clinic\n",
      "BEAR C Enter\n",
      "Cell Biol./Neurosci.\n",
      "Horticulture Research International Littlehampton\n",
      "Chicago Children's Hospital\n",
      "Chir.Abt.\n",
      "Moscow Res. Inst. Tuberc.\n",
      "First Affiliatred Hospital\n",
      "Health Sciences Research Institute (HSRI)\n",
      "Electrical Engineering (ESAT) TC\n",
      "Veterinary Research Institute\n",
      "IKON (Innovation\n",
      "The Public Heatlh Research Institute of the City\n",
      "MeBioS – Biosensors Group\n",
      "Biomedical MRI unit\n",
      "National Vegetable Research Station\n",
      "Surface Analysis Research Centre\n",
      "MAGIC\n"
     ]
    }
   ],
   "source": [
    "_ = gen_orgs_misclassified.sample(50).input.apply(print)"
   ]
  },
  {
   "cell_type": "code",
   "execution_count": 132,
   "metadata": {},
   "outputs": [],
   "source": [
    "gen_vecs = feature_extractor.transform(gen_orgs_misclassified.input)\n",
    "spe_vecs = feature_extractor.transform(spe_orgs.input)"
   ]
  },
  {
   "cell_type": "code",
   "execution_count": 133,
   "metadata": {},
   "outputs": [],
   "source": [
    "muls = gen_vecs.dot(spe_vecs.transpose())"
   ]
  },
  {
   "cell_type": "code",
   "execution_count": 135,
   "metadata": {},
   "outputs": [],
   "source": [
    "# sorted_indices = muls.argsort(axis=None) # only work for dense matrix\n",
    "sorted_items = sorted(muls[:100].todok().items(), key=lambda x: -x[1])"
   ]
  },
  {
   "cell_type": "code",
   "execution_count": 136,
   "metadata": {},
   "outputs": [],
   "source": [
    "def print_similar_orgs(i):\n",
    "#     idx = sorted_indices[-i-1] # only work for dense matrix\n",
    "#     gen_idx, spe_idx = idx // muls.shape[0], idx % muls.shape[0] # only work for dense matrix\n",
    "    gen_idx, spe_idx = sorted_items[i][0]\n",
    "    print('Generic:', gen_orgs['input'].iloc[gen_idx])\n",
    "    print('Specific:', spe_orgs['input'].iloc[spe_idx])\n",
    "    # print vector elements (not very informative without feature names)\n",
    "#     for v in zip(gen_vecs[gen_idx].todok().items(), spe_vecs[spe_idx].todok().items()):\n",
    "#         print(v)"
   ]
  },
  {
   "cell_type": "code",
   "execution_count": 137,
   "metadata": {},
   "outputs": [
    {
     "name": "stdout",
     "output_type": "stream",
     "text": [
      "Generic: Institute of Radio Engineering and Information Technology\n",
      "Specific: Forest Research Institute\n"
     ]
    }
   ],
   "source": [
    "print_similar_orgs(1)"
   ]
  },
  {
   "cell_type": "code",
   "execution_count": 138,
   "metadata": {},
   "outputs": [
    {
     "name": "stdout",
     "output_type": "stream",
     "text": [
      "Generic: Institute of Radio Engineering and Information Technology\n",
      "Specific: Space Research Institute\n"
     ]
    }
   ],
   "source": [
    "print_similar_orgs(2)"
   ]
  },
  {
   "cell_type": "code",
   "execution_count": 139,
   "metadata": {},
   "outputs": [
    {
     "name": "stdout",
     "output_type": "stream",
     "text": [
      "Generic: Institute of Radio Engineering and Information Technology\n",
      "Specific: Food Research Institute\n"
     ]
    }
   ],
   "source": [
    "print_similar_orgs(3)"
   ]
  },
  {
   "cell_type": "code",
   "execution_count": 140,
   "metadata": {},
   "outputs": [
    {
     "name": "stdout",
     "output_type": "stream",
     "text": [
      "Generic: Departmento de Geofisica\n",
      "Specific: Cardiovascular Research Institute\n"
     ]
    }
   ],
   "source": [
    "print_similar_orgs(5)"
   ]
  },
  {
   "cell_type": "code",
   "execution_count": 141,
   "metadata": {},
   "outputs": [
    {
     "name": "stdout",
     "output_type": "stream",
     "text": [
      "Generic: Departmento de Geofisica\n",
      "Specific: Child Health Research Institute\n"
     ]
    }
   ],
   "source": [
    "print_similar_orgs(6)"
   ]
  },
  {
   "cell_type": "code",
   "execution_count": 142,
   "metadata": {},
   "outputs": [
    {
     "name": "stdout",
     "output_type": "stream",
     "text": [
      "Generic: Institute of Radio Engineering and Information Technology\n",
      "Specific: Child Health Research Institute\n"
     ]
    }
   ],
   "source": [
    "print_similar_orgs(10)"
   ]
  },
  {
   "cell_type": "code",
   "execution_count": 143,
   "metadata": {},
   "outputs": [
    {
     "name": "stdout",
     "output_type": "stream",
     "text": [
      "Generic: Dept. of Materials Chemistry\n",
      "Specific: Ues, Inc\n"
     ]
    }
   ],
   "source": [
    "print_similar_orgs(13)"
   ]
  },
  {
   "cell_type": "code",
   "execution_count": 144,
   "metadata": {},
   "outputs": [
    {
     "name": "stdout",
     "output_type": "stream",
     "text": [
      "Generic: Dept. of Materials Chemistry\n",
      "Specific: Sparta, Inc\n"
     ]
    }
   ],
   "source": [
    "print_similar_orgs(15)"
   ]
  },
  {
   "cell_type": "code",
   "execution_count": 145,
   "metadata": {},
   "outputs": [
    {
     "name": "stdout",
     "output_type": "stream",
     "text": [
      "Generic: Dept. of Materials Chemistry\n",
      "Specific: Honeywell, Inc\n"
     ]
    }
   ],
   "source": [
    "print_similar_orgs(25)"
   ]
  },
  {
   "cell_type": "code",
   "execution_count": 146,
   "metadata": {},
   "outputs": [
    {
     "name": "stdout",
     "output_type": "stream",
     "text": [
      "Generic: Departamento de Anestesiología\n",
      "Specific: Veter. Res. Lab.\n"
     ]
    }
   ],
   "source": [
    "print_similar_orgs(35)"
   ]
  },
  {
   "cell_type": "code",
   "execution_count": 147,
   "metadata": {},
   "outputs": [
    {
     "name": "stdout",
     "output_type": "stream",
     "text": [
      "Generic: Dept. of Materials Chemistry\n",
      "Specific: Inco Ltd\n"
     ]
    }
   ],
   "source": [
    "print_similar_orgs(100)"
   ]
  },
  {
   "cell_type": "markdown",
   "metadata": {},
   "source": [
    "# Storing to file in LibSVM-friendly format"
   ]
  },
  {
   "cell_type": "code",
   "execution_count": 45,
   "metadata": {},
   "outputs": [
    {
     "name": "stderr",
     "output_type": "stream",
     "text": [
      "//anaconda2/envs/generic-classifier/lib/python3.6/site-packages/sklearn/preprocessing/_discretization.py:193: UserWarning: Bins whose width are too small (i.e., <= 1e-8) in feature 1 are removed. Consider decreasing the number of bins.\n",
      "  'decreasing the number of bins.' % jj)\n",
      "//anaconda2/envs/generic-classifier/lib/python3.6/site-packages/sklearn/preprocessing/_discretization.py:193: UserWarning: Bins whose width are too small (i.e., <= 1e-8) in feature 3 are removed. Consider decreasing the number of bins.\n",
      "  'decreasing the number of bins.' % jj)\n",
      "//anaconda2/envs/generic-classifier/lib/python3.6/site-packages/sklearn/preprocessing/_discretization.py:193: UserWarning: Bins whose width are too small (i.e., <= 1e-8) in feature 4 are removed. Consider decreasing the number of bins.\n",
      "  'decreasing the number of bins.' % jj)\n",
      "//anaconda2/envs/generic-classifier/lib/python3.6/site-packages/sklearn/preprocessing/_discretization.py:193: UserWarning: Bins whose width are too small (i.e., <= 1e-8) in feature 5 are removed. Consider decreasing the number of bins.\n",
      "  'decreasing the number of bins.' % jj)\n"
     ]
    },
    {
     "name": "stdout",
     "output_type": "stream",
     "text": [
      "CPU times: user 1min 58s, sys: 1.16 s, total: 1min 59s\n",
      "Wall time: 1min 55s\n"
     ]
    },
    {
     "data": {
      "text/plain": [
       "Pipeline(memory=None,\n",
       "         steps=[('feature_extractor',\n",
       "                 Pipeline(memory=None,\n",
       "                          steps=[('tokentranslator',\n",
       "                                  <model.TokenTranslator object at 0x1262e6320>),\n",
       "                                 ('featureunion',\n",
       "                                  FeatureUnion(n_jobs=None,\n",
       "                                               transformer_list=[('freq-char-len',\n",
       "                                                                  Pipeline(memory=None,\n",
       "                                                                           steps=[('charlenfeature',\n",
       "                                                                                   <model.CharLenFeature object at 0x1262e6710>),\n",
       "                                                                                  ('countvectorizer',\n",
       "                                                                                   CountVectorizer(analyzer=<...\n",
       "                ('polynomial_approx',\n",
       "                 Nystroem(coef0=None, degree=2, gamma=None, kernel='poly',\n",
       "                          kernel_params=None, n_components=100,\n",
       "                          random_state=None)),\n",
       "                ('classifier',\n",
       "                 LinearSVC(C=1.0, class_weight={'GEN': 15, 'SPE': 1}, dual=True,\n",
       "                           fit_intercept=True, intercept_scaling=1,\n",
       "                           loss='squared_hinge', max_iter=1000,\n",
       "                           multi_class='ovr', penalty='l2', random_state=None,\n",
       "                           tol=0.0001, verbose=0))],\n",
       "         verbose=False)"
      ]
     },
     "execution_count": 45,
     "metadata": {},
     "output_type": "execute_result"
    }
   ],
   "source": [
    "%%time\n",
    "pipeline, feature_extractor = build_pipeline()\n",
    "pipeline.fit(train_ds.input, y=train_ds.label)"
   ]
  },
  {
   "cell_type": "code",
   "execution_count": 50,
   "metadata": {},
   "outputs": [
    {
     "name": "stderr",
     "output_type": "stream",
     "text": [
      "//anaconda2/envs/generic-classifier/lib/python3.6/site-packages/sklearn/preprocessing/_discretization.py:193: UserWarning: Bins whose width are too small (i.e., <= 1e-8) in feature 1 are removed. Consider decreasing the number of bins.\n",
      "  'decreasing the number of bins.' % jj)\n",
      "//anaconda2/envs/generic-classifier/lib/python3.6/site-packages/sklearn/preprocessing/_discretization.py:193: UserWarning: Bins whose width are too small (i.e., <= 1e-8) in feature 3 are removed. Consider decreasing the number of bins.\n",
      "  'decreasing the number of bins.' % jj)\n",
      "//anaconda2/envs/generic-classifier/lib/python3.6/site-packages/sklearn/preprocessing/_discretization.py:193: UserWarning: Bins whose width are too small (i.e., <= 1e-8) in feature 4 are removed. Consider decreasing the number of bins.\n",
      "  'decreasing the number of bins.' % jj)\n",
      "//anaconda2/envs/generic-classifier/lib/python3.6/site-packages/sklearn/preprocessing/_discretization.py:193: UserWarning: Bins whose width are too small (i.e., <= 1e-8) in feature 5 are removed. Consider decreasing the number of bins.\n",
      "  'decreasing the number of bins.' % jj)\n"
     ]
    },
    {
     "name": "stdout",
     "output_type": "stream",
     "text": [
      "CPU times: user 1min 51s, sys: 1.05 s, total: 1min 52s\n",
      "Wall time: 1min 47s\n"
     ]
    },
    {
     "data": {
      "text/plain": [
       "Pipeline(memory=None,\n",
       "         steps=[('feature_extractor',\n",
       "                 Pipeline(memory=None,\n",
       "                          steps=[('tokentranslator',\n",
       "                                  <model.TokenTranslator object at 0x20d066160>),\n",
       "                                 ('featureunion',\n",
       "                                  FeatureUnion(n_jobs=None,\n",
       "                                               transformer_list=[('freq-char-len',\n",
       "                                                                  Pipeline(memory=None,\n",
       "                                                                           steps=[('charlenfeature',\n",
       "                                                                                   <model.CharLenFeature object at 0x20d066b00>),\n",
       "                                                                                  ('countvectorizer',\n",
       "                                                                                   CountVectorizer(analyzer=<...\n",
       "                ('polynomial_approx',\n",
       "                 Nystroem(coef0=None, degree=2, gamma=None, kernel='poly',\n",
       "                          kernel_params=None, n_components=100,\n",
       "                          random_state=None)),\n",
       "                ('classifier',\n",
       "                 LinearSVC(C=1.0, class_weight={'GEN': 15, 'SPE': 1}, dual=True,\n",
       "                           fit_intercept=True, intercept_scaling=1,\n",
       "                           loss='squared_hinge', max_iter=1000,\n",
       "                           multi_class='ovr', penalty='l2', random_state=None,\n",
       "                           tol=0.0001, verbose=0))],\n",
       "         verbose=False)"
      ]
     },
     "execution_count": 50,
     "metadata": {},
     "output_type": "execute_result"
    }
   ],
   "source": [
    "%%time\n",
    "pipeline_weighted, feature_extractor = build_pipeline()\n",
    "pipeline_weighted.fit(train_ds.input, y=train_ds.label, classifier__sample_weight=train_ds.numdocs)"
   ]
  },
  {
   "cell_type": "code",
   "execution_count": 51,
   "metadata": {
    "scrolled": true
   },
   "outputs": [
    {
     "name": "stdout",
     "output_type": "stream",
     "text": [
      "CPU times: user 1min 26s, sys: 673 ms, total: 1min 27s\n",
      "Wall time: 1min 24s\n"
     ]
    }
   ],
   "source": [
    "%%time\n",
    "label_encoder = LabelEncoder()\n",
    "features = feature_extractor.transform(train_ds.input)\n",
    "labels = label_encoder.fit_transform(train_ds.label)"
   ]
  },
  {
   "cell_type": "code",
   "execution_count": 150,
   "metadata": {},
   "outputs": [],
   "source": [
    "dump_svmlight_file(features, labels, 'output/dataset-200k-noisy.train.svm')"
   ]
  },
  {
   "cell_type": "code",
   "execution_count": 151,
   "metadata": {},
   "outputs": [
    {
     "name": "stdout",
     "output_type": "stream",
     "text": [
      "CPU times: user 1min 27s, sys: 1.16 s, total: 1min 28s\n",
      "Wall time: 1min 26s\n"
     ]
    }
   ],
   "source": [
    "%%time\n",
    "test_features = feature_extractor.transform(test_ds.input)\n",
    "test_labels = label_encoder.transform(test_ds.label)"
   ]
  },
  {
   "cell_type": "code",
   "execution_count": 152,
   "metadata": {},
   "outputs": [],
   "source": [
    "dump_svmlight_file(test_features, test_labels, 'output/dataset-200k-noisy.test.svm')"
   ]
  },
  {
   "cell_type": "code",
   "execution_count": 153,
   "metadata": {},
   "outputs": [
    {
     "data": {
      "text/plain": [
       "['output/label_encoder.pkl']"
      ]
     },
     "execution_count": 153,
     "metadata": {},
     "output_type": "execute_result"
    }
   ],
   "source": [
    "joblib.dump(label_encoder, 'output/label_encoder.pkl')"
   ]
  },
  {
   "cell_type": "code",
   "execution_count": null,
   "metadata": {},
   "outputs": [],
   "source": []
  }
 ],
 "metadata": {
  "kernelspec": {
   "display_name": "Python [conda env:generic-classifier] *",
   "language": "python",
   "name": "conda-env-generic-classifier-py"
  },
  "language_info": {
   "codemirror_mode": {
    "name": "ipython",
    "version": 3
   },
   "file_extension": ".py",
   "mimetype": "text/x-python",
   "name": "python",
   "nbconvert_exporter": "python",
   "pygments_lexer": "ipython3",
   "version": "3.6.9"
  }
 },
 "nbformat": 4,
 "nbformat_minor": 2
}
