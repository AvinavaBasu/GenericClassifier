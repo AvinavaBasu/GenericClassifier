{
 "cells": [
  {
   "cell_type": "code",
   "execution_count": 1,
   "metadata": {
    "scrolled": true
   },
   "outputs": [
    {
     "name": "stdout",
     "output_type": "stream",
     "text": [
      "Requirement already satisfied: seaborn in /anaconda2/envs/generic-classifier/lib/python3.6/site-packages (0.9.0)\r\n",
      "Requirement already satisfied: matplotlib>=1.4.3 in /anaconda2/envs/generic-classifier/lib/python3.6/site-packages (from seaborn) (3.1.1)\r\n",
      "Requirement already satisfied: numpy>=1.9.3 in /anaconda2/envs/generic-classifier/lib/python3.6/site-packages (from seaborn) (1.17.2)\r\n",
      "Requirement already satisfied: scipy>=0.14.0 in /anaconda2/envs/generic-classifier/lib/python3.6/site-packages (from seaborn) (1.3.1)\r\n",
      "Requirement already satisfied: pandas>=0.15.2 in /anaconda2/envs/generic-classifier/lib/python3.6/site-packages (from seaborn) (0.25.2)\r\n",
      "Requirement already satisfied: cycler>=0.10 in /anaconda2/envs/generic-classifier/lib/python3.6/site-packages (from matplotlib>=1.4.3->seaborn) (0.10.0)\r\n",
      "Requirement already satisfied: kiwisolver>=1.0.1 in /anaconda2/envs/generic-classifier/lib/python3.6/site-packages (from matplotlib>=1.4.3->seaborn) (1.1.0)\r\n",
      "Requirement already satisfied: pyparsing!=2.0.4,!=2.1.2,!=2.1.6,>=2.0.1 in /anaconda2/envs/generic-classifier/lib/python3.6/site-packages (from matplotlib>=1.4.3->seaborn) (2.4.2)\r\n",
      "Requirement already satisfied: python-dateutil>=2.1 in /anaconda2/envs/generic-classifier/lib/python3.6/site-packages (from matplotlib>=1.4.3->seaborn) (2.8.0)\r\n",
      "Requirement already satisfied: pytz>=2017.2 in /anaconda2/envs/generic-classifier/lib/python3.6/site-packages (from pandas>=0.15.2->seaborn) (2019.3)\r\n",
      "Requirement already satisfied: six in /anaconda2/envs/generic-classifier/lib/python3.6/site-packages (from cycler>=0.10->matplotlib>=1.4.3->seaborn) (1.12.0)\r\n",
      "Requirement already satisfied: setuptools in /anaconda2/envs/generic-classifier/lib/python3.6/site-packages (from kiwisolver>=1.0.1->matplotlib>=1.4.3->seaborn) (41.6.0.post20191030)\r\n"
     ]
    }
   ],
   "source": [
    "!pip install seaborn"
   ]
  },
  {
   "cell_type": "code",
   "execution_count": 2,
   "metadata": {},
   "outputs": [],
   "source": [
    "%matplotlib inline\n",
    "from matplotlib import pyplot as plt\n",
    "import pandas as pd\n",
    "import random\n",
    "from sklearn.metrics import precision_recall_fscore_support\n",
    "import numpy as np\n",
    "from tqdm import tqdm\n",
    "import seaborn as sns\n",
    "from sklearn.model_selection import train_test_split\n",
    "import joblib"
   ]
  },
  {
   "cell_type": "code",
   "execution_count": 3,
   "metadata": {},
   "outputs": [],
   "source": [
    "import os\n",
    "if os.getcwd().endswith('notebooks'):\n",
    "    os.chdir('..')"
   ]
  },
  {
   "cell_type": "code",
   "execution_count": 4,
   "metadata": {},
   "outputs": [],
   "source": [
    "import sys\n",
    "sys.path.append('.')"
   ]
  },
  {
   "cell_type": "code",
   "execution_count": 5,
   "metadata": {},
   "outputs": [],
   "source": [
    "# import classifyGenericModified, model\n",
    "# import importlib\n",
    "# importlib.reload(classifyGenericModified)\n",
    "# importlib.reload(model)\n",
    "# from model import *\n",
    "# from classifyGenericModified import ExperimentalClassifier, ExperimentalHybridClassifier, normalizeName"
   ]
  },
  {
   "cell_type": "code",
   "execution_count": 6,
   "metadata": {},
   "outputs": [],
   "source": [
    "from classifyGenericModified import ExperimentalClassifier, ExperimentalHybridClassifier\n",
    "import classifyGeneric\n",
    "from model import *"
   ]
  },
  {
   "cell_type": "code",
   "execution_count": 7,
   "metadata": {},
   "outputs": [],
   "source": [
    "dataset = pd.read_csv('../GenericClassifier_re_evaluation_2.txt', sep='\\t', header=None,\n",
    "                      names=['verified_label', 'label', '?', 'input'])\n",
    "dataset['verified_label'] = dataset.verified_label.str.replace('VER_', '')"
   ]
  },
  {
   "cell_type": "code",
   "execution_count": 8,
   "metadata": {},
   "outputs": [
    {
     "data": {
      "text/html": [
       "<div>\n",
       "<style scoped>\n",
       "    .dataframe tbody tr th:only-of-type {\n",
       "        vertical-align: middle;\n",
       "    }\n",
       "\n",
       "    .dataframe tbody tr th {\n",
       "        vertical-align: top;\n",
       "    }\n",
       "\n",
       "    .dataframe thead th {\n",
       "        text-align: right;\n",
       "    }\n",
       "</style>\n",
       "<table border=\"1\" class=\"dataframe\">\n",
       "  <thead>\n",
       "    <tr style=\"text-align: right;\">\n",
       "      <th></th>\n",
       "      <th>verified_label</th>\n",
       "      <th>label</th>\n",
       "      <th>?</th>\n",
       "      <th>input</th>\n",
       "    </tr>\n",
       "  </thead>\n",
       "  <tbody>\n",
       "    <tr>\n",
       "      <th>0</th>\n",
       "      <td>SPE</td>\n",
       "      <td>SPE</td>\n",
       "      <td>1</td>\n",
       "      <td>(EMBL-EBI)</td>\n",
       "    </tr>\n",
       "    <tr>\n",
       "      <th>1</th>\n",
       "      <td>SPE</td>\n",
       "      <td>SPE</td>\n",
       "      <td>1</td>\n",
       "      <td>(GWC)2</td>\n",
       "    </tr>\n",
       "    <tr>\n",
       "      <th>2</th>\n",
       "      <td>SPE</td>\n",
       "      <td>SPE</td>\n",
       "      <td>1</td>\n",
       "      <td>‘Carol Davila’ University of Medicine and Phar...</td>\n",
       "    </tr>\n",
       "    <tr>\n",
       "      <th>3</th>\n",
       "      <td>GEN</td>\n",
       "      <td>SPE</td>\n",
       "      <td>1</td>\n",
       "      <td>20/20 Laboratory for Fuel Cells and Green Ener...</td>\n",
       "    </tr>\n",
       "    <tr>\n",
       "      <th>4</th>\n",
       "      <td>SPE</td>\n",
       "      <td>SPE</td>\n",
       "      <td>1</td>\n",
       "      <td>22 State University of New York at Albany</td>\n",
       "    </tr>\n",
       "  </tbody>\n",
       "</table>\n",
       "</div>"
      ],
      "text/plain": [
       "  verified_label label  ?                                              input\n",
       "0            SPE   SPE  1                                         (EMBL-EBI)\n",
       "1            SPE   SPE  1                                             (GWC)2\n",
       "2            SPE   SPE  1  ‘Carol Davila’ University of Medicine and Phar...\n",
       "3            GEN   SPE  1  20/20 Laboratory for Fuel Cells and Green Ener...\n",
       "4            SPE   SPE  1          22 State University of New York at Albany"
      ]
     },
     "execution_count": 8,
     "metadata": {},
     "output_type": "execute_result"
    }
   ],
   "source": [
    "dataset.head()"
   ]
  },
  {
   "cell_type": "code",
   "execution_count": 9,
   "metadata": {},
   "outputs": [],
   "source": [
    "# test_2m = pd.read_csv('output/dataset-2M-noisy.test.csv')\n",
    "test_200k = pd.read_csv('output/dataset-200k-noisy.test.csv')"
   ]
  },
  {
   "cell_type": "code",
   "execution_count": 10,
   "metadata": {},
   "outputs": [
    {
     "data": {
      "text/plain": [
       "90148"
      ]
     },
     "execution_count": 10,
     "metadata": {},
     "output_type": "execute_result"
    }
   ],
   "source": [
    "len(test_200k)"
   ]
  },
  {
   "cell_type": "code",
   "execution_count": 11,
   "metadata": {},
   "outputs": [],
   "source": [
    "# test_2m['input'] = test_2m.input.fillna('')"
   ]
  },
  {
   "cell_type": "code",
   "execution_count": 12,
   "metadata": {},
   "outputs": [],
   "source": [
    "# # take a small smale to speed up debugging\n",
    "# _, test_2m = train_test_split(test_2m, test_size=0.01, stratify=test_2m.label)"
   ]
  },
  {
   "cell_type": "code",
   "execution_count": 13,
   "metadata": {},
   "outputs": [],
   "source": [
    "from joblib import Parallel\n",
    "parallel = Parallel(n_jobs=4, backend='multiprocessing', verbose=10)"
   ]
  },
  {
   "cell_type": "code",
   "execution_count": 14,
   "metadata": {},
   "outputs": [],
   "source": [
    "def score(gold, preds, sample_weight=None):\n",
    "    return precision_recall_fscore_support(gold, preds, sample_weight=sample_weight, labels=['GEN'])\n",
    "\n",
    "def evaluate_classifier(c, name=None):\n",
    "    tqdm.pandas(desc=\"classifying\", position=0, leave=True)\n",
    "    preds_col = c.name if hasattr(c, 'name') else name\n",
    "    assert preds_col, 'Please give a name to your classifier'\n",
    "    dataset[preds_col] = dataset.input.progress_apply(c.classifyOrg)\n",
    "    print('Results on 7k dataset:', score(dataset.verified_label, dataset[preds_col]))\n",
    "    tqdm.pandas(desc=\"classifying\", position=0, leave=True)\n",
    "    test_200k[preds_col] = test_200k.input.progress_apply(c.classifyOrg)\n",
    "    print('Results on 200k dataset:', score(test_200k.label, test_200k[preds_col]))\n",
    "    print('Results on 200k dataset (weighted):', score(test_200k.label, test_200k[preds_col], test_200k.numdocs))\n",
    "    \n",
    "def evaluate_classifier_batch(c, name=None):\n",
    "    tqdm.pandas(desc=\"classifying\", position=0, leave=True)\n",
    "    preds_col = c.name if hasattr(c, 'name') else name\n",
    "    assert preds_col, 'Please give a name to your classifier'\n",
    "    dataset[preds_col] = c.classifyOrgBatch(dataset.input.values, parallel)\n",
    "    print('Results on 7k dataset:', score(dataset.verified_label, dataset[preds_col]))\n",
    "    test_200k[preds_col] = c.classifyOrgBatch(test_200k.input.values, parallel)\n",
    "    print('Results on 200k dataset:', score(test_200k.label, test_200k[preds_col]))\n",
    "    print('Results on 200k dataset (weighted):', score(test_200k.label, test_200k[preds_col], test_200k.numdocs))"
   ]
  },
  {
   "cell_type": "markdown",
   "metadata": {},
   "source": [
    "# Run the original classifier"
   ]
  },
  {
   "cell_type": "code",
   "execution_count": 15,
   "metadata": {},
   "outputs": [
    {
     "name": "stderr",
     "output_type": "stream",
     "text": [
      "classifying: 100%|██████████| 7723/7723 [00:00<00:00, 8208.93it/s]\n",
      "classifying:   1%|          | 844/90148 [00:00<00:10, 8435.52it/s]"
     ]
    },
    {
     "name": "stdout",
     "output_type": "stream",
     "text": [
      "Results on 7k dataset: (array([0.79864061]), array([0.92519685]), array([0.85727314]), array([4064]))\n"
     ]
    },
    {
     "name": "stderr",
     "output_type": "stream",
     "text": [
      "classifying: 100%|██████████| 90148/90148 [00:08<00:00, 10299.93it/s]\n"
     ]
    },
    {
     "name": "stdout",
     "output_type": "stream",
     "text": [
      "Results on 200k dataset: (array([0.30515353]), array([0.93814365]), array([0.46051395]), array([15148]))\n",
      "Results on 200k dataset (weighted): (array([0.66182195]), array([0.98014662]), array([0.79012785]), array([22507348.]))\n",
      "CPU times: user 10.9 s, sys: 112 ms, total: 11 s\n",
      "Wall time: 11 s\n"
     ]
    }
   ],
   "source": [
    "%%time\n",
    "evaluate_classifier(classifyGeneric, 'orig')"
   ]
  },
  {
   "cell_type": "markdown",
   "metadata": {},
   "source": [
    "# Run the modified classifier\n",
    "\n",
    "We will start with a classifier without any new features, and with acronym rule disabled and the add features one by one:\n",
    "\n",
    "- modified acronym rule\n",
    "- multilingual word lists\n",
    "- US zipcode rule"
   ]
  },
  {
   "cell_type": "code",
   "execution_count": 16,
   "metadata": {},
   "outputs": [],
   "source": [
    "# # use this if you need to reload\n",
    "# import importlib\n",
    "# import classifyGenericModified\n",
    "# importlib.reload(classifyGenericModified)\n",
    "# from classifyGenericModified import ExperimentalClassifier"
   ]
  },
  {
   "cell_type": "markdown",
   "metadata": {},
   "source": [
    "## Without acronym rule or multilingual word lists"
   ]
  },
  {
   "cell_type": "code",
   "execution_count": 17,
   "metadata": {},
   "outputs": [
    {
     "name": "stdout",
     "output_type": "stream",
     "text": [
      "Loading dictionary...\n"
     ]
    },
    {
     "name": "stderr",
     "output_type": "stream",
     "text": [
      "generating approximate dict: 100%|██████████| 15210/15210 [00:06<00:00, 2420.52it/s]\n"
     ]
    },
    {
     "name": "stdout",
     "output_type": "stream",
     "text": [
      "Loading dictionary done in 7.01 sec.\n"
     ]
    }
   ],
   "source": [
    "conf = {\n",
    "   'use_acronym_rule': False, \n",
    "   'use_multilingual_dicts': False, \n",
    "   'use_zipcode_us_rule': False\n",
    "}\n",
    "cl_mod = ExperimentalClassifier('modified', use_approx_subj_dict=True, **conf)"
   ]
  },
  {
   "cell_type": "code",
   "execution_count": 18,
   "metadata": {},
   "outputs": [
    {
     "name": "stderr",
     "output_type": "stream",
     "text": [
      "classifying: 100%|██████████| 7723/7723 [00:00<00:00, 8868.35it/s] \n",
      "classifying:   1%|          | 807/90148 [00:00<00:11, 8040.50it/s]"
     ]
    },
    {
     "name": "stdout",
     "output_type": "stream",
     "text": [
      "Results on 7k dataset: (array([0.72037743]), array([0.97687008]), array([0.82924282]), array([4064]))\n"
     ]
    },
    {
     "name": "stderr",
     "output_type": "stream",
     "text": [
      "classifying: 100%|██████████| 90148/90148 [00:08<00:00, 11009.65it/s]\n"
     ]
    },
    {
     "name": "stdout",
     "output_type": "stream",
     "text": [
      "Results on 200k dataset: (array([0.30255334]), array([0.97075522]), array([0.4613261]), array([15148]))\n",
      "Results on 200k dataset (weighted): (array([0.65493709]), array([0.99168667]), array([0.7888777]), array([22507348.]))\n",
      "CPU times: user 10.3 s, sys: 123 ms, total: 10.5 s\n",
      "Wall time: 10.6 s\n"
     ]
    }
   ],
   "source": [
    "%%time\n",
    "evaluate_classifier(cl_mod)"
   ]
  },
  {
   "cell_type": "code",
   "execution_count": 19,
   "metadata": {},
   "outputs": [],
   "source": [
    "del cl_mod # free up memory"
   ]
  },
  {
   "cell_type": "markdown",
   "metadata": {},
   "source": [
    "## Adding modified acronym rule"
   ]
  },
  {
   "cell_type": "code",
   "execution_count": 20,
   "metadata": {},
   "outputs": [
    {
     "name": "stdout",
     "output_type": "stream",
     "text": [
      "Loading dictionary...\n"
     ]
    },
    {
     "name": "stderr",
     "output_type": "stream",
     "text": [
      "generating approximate dict: 100%|██████████| 15210/15210 [00:07<00:00, 2112.12it/s]\n"
     ]
    },
    {
     "name": "stdout",
     "output_type": "stream",
     "text": [
      "Loading dictionary done in 8.18 sec.\n"
     ]
    }
   ],
   "source": [
    "conf['use_acronym_rule'] = True\n",
    "cl_acronym = ExperimentalClassifier('+ acronym rule', use_approx_subj_dict=True, **conf)"
   ]
  },
  {
   "cell_type": "code",
   "execution_count": 21,
   "metadata": {},
   "outputs": [
    {
     "name": "stderr",
     "output_type": "stream",
     "text": [
      "classifying: 100%|██████████| 7723/7723 [00:00<00:00, 9433.62it/s] \n",
      "classifying:   3%|▎         | 2344/90148 [00:00<00:07, 11549.49it/s]"
     ]
    },
    {
     "name": "stdout",
     "output_type": "stream",
     "text": [
      "Results on 7k dataset: (array([0.73730893]), array([0.96136811]), array([0.83456157]), array([4064]))\n"
     ]
    },
    {
     "name": "stderr",
     "output_type": "stream",
     "text": [
      "classifying: 100%|██████████| 90148/90148 [00:08<00:00, 10817.27it/s]\n"
     ]
    },
    {
     "name": "stdout",
     "output_type": "stream",
     "text": [
      "Results on 200k dataset: (array([0.3085169]), array([0.9689728]), array([0.46801862]), array([15148]))\n",
      "Results on 200k dataset (weighted): (array([0.66058169]), array([0.99156378]), array([0.79291913]), array([22507348.]))\n",
      "CPU times: user 10.4 s, sys: 100 ms, total: 10.5 s\n",
      "Wall time: 10.5 s\n"
     ]
    }
   ],
   "source": [
    "%%time\n",
    "evaluate_classifier(cl_acronym)"
   ]
  },
  {
   "cell_type": "code",
   "execution_count": 22,
   "metadata": {},
   "outputs": [],
   "source": [
    "del cl_acronym # free up memory"
   ]
  },
  {
   "cell_type": "markdown",
   "metadata": {},
   "source": [
    "## With multilingual multilingual word lists"
   ]
  },
  {
   "cell_type": "code",
   "execution_count": 23,
   "metadata": {
    "scrolled": true
   },
   "outputs": [
    {
     "name": "stdout",
     "output_type": "stream",
     "text": [
      "Loading dictionary...\n"
     ]
    },
    {
     "name": "stderr",
     "output_type": "stream",
     "text": [
      "generating approximate dict: 100%|██████████| 50434/50434 [00:27<00:00, 1842.37it/s]\n"
     ]
    },
    {
     "name": "stdout",
     "output_type": "stream",
     "text": [
      "Loading dictionary done in 28.59 sec.\n"
     ]
    }
   ],
   "source": [
    "conf['use_multilingual_dicts'] = True\n",
    "cl_multiling = ExperimentalClassifier('+ multilingual', use_approx_subj_dict=True, **conf)"
   ]
  },
  {
   "cell_type": "code",
   "execution_count": 24,
   "metadata": {},
   "outputs": [
    {
     "name": "stderr",
     "output_type": "stream",
     "text": [
      "classifying: 100%|██████████| 7723/7723 [00:01<00:00, 4900.97it/s]\n",
      "classifying:   1%|▏         | 1187/90148 [00:00<00:14, 5982.42it/s]"
     ]
    },
    {
     "name": "stdout",
     "output_type": "stream",
     "text": [
      "Results on 7k dataset: (array([0.73772659]), array([0.96136811]), array([0.83482906]), array([4064]))\n"
     ]
    },
    {
     "name": "stderr",
     "output_type": "stream",
     "text": [
      "classifying: 100%|██████████| 90148/90148 [00:16<00:00, 5628.12it/s]\n"
     ]
    },
    {
     "name": "stdout",
     "output_type": "stream",
     "text": [
      "Results on 200k dataset: (array([0.30918627]), array([0.9689728]), array([0.46878843]), array([15148]))\n",
      "Results on 200k dataset (weighted): (array([0.66075474]), array([0.99154405]), array([0.79303748]), array([22507348.]))\n",
      "CPU times: user 18.7 s, sys: 218 ms, total: 18.9 s\n",
      "Wall time: 19.1 s\n"
     ]
    }
   ],
   "source": [
    "%%time\n",
    "evaluate_classifier(cl_multiling)"
   ]
  },
  {
   "cell_type": "code",
   "execution_count": 25,
   "metadata": {},
   "outputs": [],
   "source": [
    "del cl_multiling # free up memory"
   ]
  },
  {
   "cell_type": "markdown",
   "metadata": {},
   "source": [
    "## With US zipcode rule (added mainly for grant org strings)"
   ]
  },
  {
   "cell_type": "code",
   "execution_count": 26,
   "metadata": {},
   "outputs": [
    {
     "name": "stdout",
     "output_type": "stream",
     "text": [
      "Loading dictionary...\n"
     ]
    },
    {
     "name": "stderr",
     "output_type": "stream",
     "text": [
      "generating approximate dict: 100%|██████████| 50434/50434 [00:25<00:00, 1943.58it/s]\n"
     ]
    },
    {
     "name": "stdout",
     "output_type": "stream",
     "text": [
      "Loading dictionary done in 27.15 sec.\n"
     ]
    }
   ],
   "source": [
    "conf['use_zipcode_us_rule'] = True\n",
    "cl_us_zipcode = ExperimentalClassifier('+ us zipcode', use_approx_subj_dict=True, **conf)"
   ]
  },
  {
   "cell_type": "code",
   "execution_count": 27,
   "metadata": {},
   "outputs": [
    {
     "name": "stderr",
     "output_type": "stream",
     "text": [
      "classifying: 100%|██████████| 7723/7723 [00:01<00:00, 4801.35it/s]\n",
      "classifying:   1%|▏         | 1213/90148 [00:00<00:15, 5872.52it/s]"
     ]
    },
    {
     "name": "stdout",
     "output_type": "stream",
     "text": [
      "Results on 7k dataset: (array([0.73772659]), array([0.96136811]), array([0.83482906]), array([4064]))\n"
     ]
    },
    {
     "name": "stderr",
     "output_type": "stream",
     "text": [
      "classifying: 100%|██████████| 90148/90148 [00:14<00:00, 6413.88it/s]\n"
     ]
    },
    {
     "name": "stdout",
     "output_type": "stream",
     "text": [
      "Results on 200k dataset: (array([0.30918627]), array([0.9689728]), array([0.46878843]), array([15148]))\n",
      "Results on 200k dataset (weighted): (array([0.66075474]), array([0.99154405]), array([0.79303748]), array([22507348.]))\n",
      "CPU times: user 16.8 s, sys: 159 ms, total: 17 s\n",
      "Wall time: 17 s\n"
     ]
    }
   ],
   "source": [
    "%%time\n",
    "evaluate_classifier(cl_us_zipcode)"
   ]
  },
  {
   "cell_type": "code",
   "execution_count": 28,
   "metadata": {},
   "outputs": [],
   "source": [
    "del cl_us_zipcode # free up memory"
   ]
  },
  {
   "cell_type": "markdown",
   "metadata": {},
   "source": [
    "## Hybrid classifier: rule+SVM"
   ]
  },
  {
   "cell_type": "code",
   "execution_count": 29,
   "metadata": {
    "scrolled": true
   },
   "outputs": [
    {
     "name": "stdout",
     "output_type": "stream",
     "text": [
      "CPU times: user 10.6 s, sys: 1.09 s, total: 11.7 s\n",
      "Wall time: 11.9 s\n"
     ]
    }
   ],
   "source": [
    "%%time\n",
    "cl_hybrid_linear = joblib.load('output/hybrid_classifier-linear-trained_on_100k.pkl')"
   ]
  },
  {
   "cell_type": "code",
   "execution_count": 30,
   "metadata": {},
   "outputs": [
    {
     "name": "stdout",
     "output_type": "stream",
     "text": [
      "Results on 7k dataset: (array([0.96942242]), array([0.63188976]), array([0.76508268]), array([4064]))\n"
     ]
    },
    {
     "name": "stderr",
     "output_type": "stream",
     "text": [
      "[Parallel(n_jobs=4)]: Using backend MultiprocessingBackend with 4 concurrent workers.\n",
      "[Parallel(n_jobs=4)]: Done   5 out of  10 | elapsed:    0.9s remaining:    0.9s\n",
      "[Parallel(n_jobs=4)]: Done   7 out of  10 | elapsed:    1.0s remaining:    0.4s\n",
      "[Parallel(n_jobs=4)]: Done  10 out of  10 | elapsed:    1.2s finished\n",
      "[Parallel(n_jobs=4)]: Using backend MultiprocessingBackend with 4 concurrent workers.\n",
      "[Parallel(n_jobs=4)]: Done   5 out of  10 | elapsed:    3.5s remaining:    3.5s\n",
      "[Parallel(n_jobs=4)]: Done   7 out of  10 | elapsed:    3.7s remaining:    1.6s\n",
      "[Parallel(n_jobs=4)]: Done  10 out of  10 | elapsed:    4.8s finished\n",
      "[Parallel(n_jobs=4)]: Using backend MultiprocessingBackend with 4 concurrent workers.\n",
      "[Parallel(n_jobs=4)]: Done   5 out of  10 | elapsed:    2.6s remaining:    2.6s\n",
      "[Parallel(n_jobs=4)]: Done   7 out of  10 | elapsed:    2.7s remaining:    1.2s\n",
      "[Parallel(n_jobs=4)]: Done  10 out of  10 | elapsed:    3.6s finished\n"
     ]
    },
    {
     "name": "stdout",
     "output_type": "stream",
     "text": [
      "Results on 200k dataset: (array([0.83676208]), array([0.86460259]), array([0.85045455]), array([15148]))\n",
      "Results on 200k dataset (weighted): (array([0.96690314]), array([0.86426104]), array([0.91270539]), array([22507348.]))\n",
      "CPU times: user 16.8 s, sys: 2.83 s, total: 19.7 s\n",
      "Wall time: 25.5 s\n"
     ]
    }
   ],
   "source": [
    "%%time\n",
    "evaluate_classifier_batch(cl_hybrid_linear, 'hybrid-linear')"
   ]
  },
  {
   "cell_type": "code",
   "execution_count": 31,
   "metadata": {},
   "outputs": [],
   "source": [
    "del cl_hybrid_linear # free up memory"
   ]
  },
  {
   "cell_type": "code",
   "execution_count": 32,
   "metadata": {},
   "outputs": [
    {
     "name": "stdout",
     "output_type": "stream",
     "text": [
      "CPU times: user 909 ms, sys: 21.2 ms, total: 930 ms\n",
      "Wall time: 936 ms\n"
     ]
    }
   ],
   "source": [
    "%%time\n",
    "cl_hybrid_linear_weighted = joblib.load('output/hybrid_classifier-linear-weighted-trained_on_100k.pkl')"
   ]
  },
  {
   "cell_type": "code",
   "execution_count": 33,
   "metadata": {},
   "outputs": [
    {
     "name": "stdout",
     "output_type": "stream",
     "text": [
      "Results on 7k dataset: (array([0.84447087]), array([0.87376969]), array([0.85887048]), array([4064]))\n"
     ]
    },
    {
     "name": "stderr",
     "output_type": "stream",
     "text": [
      "[Parallel(n_jobs=4)]: Using backend MultiprocessingBackend with 4 concurrent workers.\n",
      "[Parallel(n_jobs=4)]: Done   5 out of  10 | elapsed:    0.9s remaining:    0.9s\n",
      "[Parallel(n_jobs=4)]: Done   7 out of  10 | elapsed:    1.0s remaining:    0.4s\n",
      "[Parallel(n_jobs=4)]: Done  10 out of  10 | elapsed:    1.2s finished\n",
      "[Parallel(n_jobs=4)]: Using backend MultiprocessingBackend with 4 concurrent workers.\n",
      "[Parallel(n_jobs=4)]: Done   5 out of  10 | elapsed:    3.5s remaining:    3.5s\n",
      "[Parallel(n_jobs=4)]: Done   7 out of  10 | elapsed:    3.7s remaining:    1.6s\n",
      "[Parallel(n_jobs=4)]: Done  10 out of  10 | elapsed:    4.8s finished\n",
      "[Parallel(n_jobs=4)]: Using backend MultiprocessingBackend with 4 concurrent workers.\n",
      "[Parallel(n_jobs=4)]: Done   5 out of  10 | elapsed:    2.8s remaining:    2.8s\n",
      "[Parallel(n_jobs=4)]: Done   7 out of  10 | elapsed:    2.9s remaining:    1.3s\n",
      "[Parallel(n_jobs=4)]: Done  10 out of  10 | elapsed:    3.8s finished\n"
     ]
    },
    {
     "name": "stdout",
     "output_type": "stream",
     "text": [
      "Results on 200k dataset: (array([0.49336664]), array([0.96481384]), array([0.65287798]), array([15148]))\n",
      "Results on 200k dataset (weighted): (array([0.82161308]), array([0.99023492]), array([0.8980775]), array([22507348.]))\n",
      "CPU times: user 6.81 s, sys: 657 ms, total: 7.47 s\n",
      "Wall time: 13.7 s\n"
     ]
    }
   ],
   "source": [
    "%%time\n",
    "evaluate_classifier_batch(cl_hybrid_linear_weighted, 'hybrid-linear-weighted')"
   ]
  },
  {
   "cell_type": "code",
   "execution_count": 34,
   "metadata": {},
   "outputs": [],
   "source": [
    "del cl_hybrid_linear_weighted # free up memory"
   ]
  },
  {
   "cell_type": "markdown",
   "metadata": {},
   "source": [
    "# Examine predictions on 200k dataset"
   ]
  },
  {
   "cell_type": "code",
   "execution_count": 35,
   "metadata": {},
   "outputs": [],
   "source": [
    "test_sample = test_200k"
   ]
  },
  {
   "cell_type": "markdown",
   "metadata": {},
   "source": [
    "## Check org strings predicted to be specific"
   ]
  },
  {
   "cell_type": "code",
   "execution_count": 36,
   "metadata": {},
   "outputs": [],
   "source": [
    "cl_col = 'hybrid-linear-weighted'"
   ]
  },
  {
   "cell_type": "code",
   "execution_count": 37,
   "metadata": {},
   "outputs": [],
   "source": [
    "spe_predicted = (test_sample[test_sample[cl_col] == 'SPE']\n",
    "                 [['input', 'label', cl_col, 'id']].sample(frac=1, random_state=132))"
   ]
  },
  {
   "cell_type": "code",
   "execution_count": 38,
   "metadata": {},
   "outputs": [
    {
     "data": {
      "text/html": [
       "<div>\n",
       "<style scoped>\n",
       "    .dataframe tbody tr th:only-of-type {\n",
       "        vertical-align: middle;\n",
       "    }\n",
       "\n",
       "    .dataframe tbody tr th {\n",
       "        vertical-align: top;\n",
       "    }\n",
       "\n",
       "    .dataframe thead th {\n",
       "        text-align: right;\n",
       "    }\n",
       "</style>\n",
       "<table border=\"1\" class=\"dataframe\">\n",
       "  <thead>\n",
       "    <tr style=\"text-align: right;\">\n",
       "      <th></th>\n",
       "      <th>input</th>\n",
       "      <th>label</th>\n",
       "      <th>hybrid-linear-weighted</th>\n",
       "      <th>id</th>\n",
       "    </tr>\n",
       "  </thead>\n",
       "  <tbody>\n",
       "    <tr>\n",
       "      <th>68002</th>\n",
       "      <td>Quisisana Hospital</td>\n",
       "      <td>SPE</td>\n",
       "      <td>SPE</td>\n",
       "      <td>NaN</td>\n",
       "    </tr>\n",
       "    <tr>\n",
       "      <th>37190</th>\n",
       "      <td>Hazara University Mansehra</td>\n",
       "      <td>SPE</td>\n",
       "      <td>SPE</td>\n",
       "      <td>NaN</td>\n",
       "    </tr>\n",
       "    <tr>\n",
       "      <th>49515</th>\n",
       "      <td>Methodist Rehabilitation Center</td>\n",
       "      <td>SPE</td>\n",
       "      <td>SPE</td>\n",
       "      <td>NaN</td>\n",
       "    </tr>\n",
       "    <tr>\n",
       "      <th>37037</th>\n",
       "      <td>Ibdml</td>\n",
       "      <td>SPE</td>\n",
       "      <td>SPE</td>\n",
       "      <td>NaN</td>\n",
       "    </tr>\n",
       "    <tr>\n",
       "      <th>27507</th>\n",
       "      <td>Boston University Medical Center</td>\n",
       "      <td>SPE</td>\n",
       "      <td>SPE</td>\n",
       "      <td>NaN</td>\n",
       "    </tr>\n",
       "    <tr>\n",
       "      <th>9101</th>\n",
       "      <td>Inst. De Cardiologie De Montreal</td>\n",
       "      <td>SPE</td>\n",
       "      <td>SPE</td>\n",
       "      <td>NaN</td>\n",
       "    </tr>\n",
       "    <tr>\n",
       "      <th>18696</th>\n",
       "      <td>Flagler College</td>\n",
       "      <td>SPE</td>\n",
       "      <td>SPE</td>\n",
       "      <td>NaN</td>\n",
       "    </tr>\n",
       "    <tr>\n",
       "      <th>23987</th>\n",
       "      <td>National Institute Of Hygiene</td>\n",
       "      <td>SPE</td>\n",
       "      <td>SPE</td>\n",
       "      <td>NaN</td>\n",
       "    </tr>\n",
       "    <tr>\n",
       "      <th>60879</th>\n",
       "      <td>University Of The Basque Country</td>\n",
       "      <td>SPE</td>\n",
       "      <td>SPE</td>\n",
       "      <td>NaN</td>\n",
       "    </tr>\n",
       "    <tr>\n",
       "      <th>40354</th>\n",
       "      <td>Council Of Scientific And Industrial Research</td>\n",
       "      <td>SPE</td>\n",
       "      <td>SPE</td>\n",
       "      <td>NaN</td>\n",
       "    </tr>\n",
       "    <tr>\n",
       "      <th>43111</th>\n",
       "      <td>Charusat</td>\n",
       "      <td>SPE</td>\n",
       "      <td>SPE</td>\n",
       "      <td>NaN</td>\n",
       "    </tr>\n",
       "    <tr>\n",
       "      <th>73119</th>\n",
       "      <td>Good Samaritan Hospital</td>\n",
       "      <td>SPE</td>\n",
       "      <td>SPE</td>\n",
       "      <td>NaN</td>\n",
       "    </tr>\n",
       "    <tr>\n",
       "      <th>7406</th>\n",
       "      <td>Inrs Énergie</td>\n",
       "      <td>SPE</td>\n",
       "      <td>SPE</td>\n",
       "      <td>NaN</td>\n",
       "    </tr>\n",
       "    <tr>\n",
       "      <th>78152</th>\n",
       "      <td>Toronto General Hospital</td>\n",
       "      <td>SPE</td>\n",
       "      <td>SPE</td>\n",
       "      <td>NaN</td>\n",
       "    </tr>\n",
       "    <tr>\n",
       "      <th>79016</th>\n",
       "      <td>Polytechnic Of Wales</td>\n",
       "      <td>SPE</td>\n",
       "      <td>SPE</td>\n",
       "      <td>NaN</td>\n",
       "    </tr>\n",
       "    <tr>\n",
       "      <th>54072</th>\n",
       "      <td>Inc.</td>\n",
       "      <td>SPE</td>\n",
       "      <td>SPE</td>\n",
       "      <td>NaN</td>\n",
       "    </tr>\n",
       "    <tr>\n",
       "      <th>19346</th>\n",
       "      <td>Legnago General Hospital</td>\n",
       "      <td>SPE</td>\n",
       "      <td>SPE</td>\n",
       "      <td>NaN</td>\n",
       "    </tr>\n",
       "    <tr>\n",
       "      <th>12779</th>\n",
       "      <td>Chia Nan University Of Pharmacy And Science</td>\n",
       "      <td>SPE</td>\n",
       "      <td>SPE</td>\n",
       "      <td>NaN</td>\n",
       "    </tr>\n",
       "    <tr>\n",
       "      <th>83662</th>\n",
       "      <td>Institut Universitaire En Santé Mentale De Mon...</td>\n",
       "      <td>SPE</td>\n",
       "      <td>SPE</td>\n",
       "      <td>NaN</td>\n",
       "    </tr>\n",
       "    <tr>\n",
       "      <th>15867</th>\n",
       "      <td>Ricoh Company</td>\n",
       "      <td>SPE</td>\n",
       "      <td>SPE</td>\n",
       "      <td>NaN</td>\n",
       "    </tr>\n",
       "  </tbody>\n",
       "</table>\n",
       "</div>"
      ],
      "text/plain": [
       "                                                   input label  \\\n",
       "68002                                 Quisisana Hospital   SPE   \n",
       "37190                         Hazara University Mansehra   SPE   \n",
       "49515                    Methodist Rehabilitation Center   SPE   \n",
       "37037                                              Ibdml   SPE   \n",
       "27507                   Boston University Medical Center   SPE   \n",
       "9101                    Inst. De Cardiologie De Montreal   SPE   \n",
       "18696                                    Flagler College   SPE   \n",
       "23987                      National Institute Of Hygiene   SPE   \n",
       "60879                   University Of The Basque Country   SPE   \n",
       "40354      Council Of Scientific And Industrial Research   SPE   \n",
       "43111                                           Charusat   SPE   \n",
       "73119                            Good Samaritan Hospital   SPE   \n",
       "7406                                        Inrs Énergie   SPE   \n",
       "78152                           Toronto General Hospital   SPE   \n",
       "79016                               Polytechnic Of Wales   SPE   \n",
       "54072                                               Inc.   SPE   \n",
       "19346                           Legnago General Hospital   SPE   \n",
       "12779        Chia Nan University Of Pharmacy And Science   SPE   \n",
       "83662  Institut Universitaire En Santé Mentale De Mon...   SPE   \n",
       "15867                                      Ricoh Company   SPE   \n",
       "\n",
       "      hybrid-linear-weighted  id  \n",
       "68002                    SPE NaN  \n",
       "37190                    SPE NaN  \n",
       "49515                    SPE NaN  \n",
       "37037                    SPE NaN  \n",
       "27507                    SPE NaN  \n",
       "9101                     SPE NaN  \n",
       "18696                    SPE NaN  \n",
       "23987                    SPE NaN  \n",
       "60879                    SPE NaN  \n",
       "40354                    SPE NaN  \n",
       "43111                    SPE NaN  \n",
       "73119                    SPE NaN  \n",
       "7406                     SPE NaN  \n",
       "78152                    SPE NaN  \n",
       "79016                    SPE NaN  \n",
       "54072                    SPE NaN  \n",
       "19346                    SPE NaN  \n",
       "12779                    SPE NaN  \n",
       "83662                    SPE NaN  \n",
       "15867                    SPE NaN  "
      ]
     },
     "execution_count": 38,
     "metadata": {},
     "output_type": "execute_result"
    }
   ],
   "source": [
    "spe_predicted.iloc[:20]"
   ]
  },
  {
   "cell_type": "code",
   "execution_count": 39,
   "metadata": {},
   "outputs": [
    {
     "data": {
      "text/html": [
       "<div>\n",
       "<style scoped>\n",
       "    .dataframe tbody tr th:only-of-type {\n",
       "        vertical-align: middle;\n",
       "    }\n",
       "\n",
       "    .dataframe tbody tr th {\n",
       "        vertical-align: top;\n",
       "    }\n",
       "\n",
       "    .dataframe thead th {\n",
       "        text-align: right;\n",
       "    }\n",
       "</style>\n",
       "<table border=\"1\" class=\"dataframe\">\n",
       "  <thead>\n",
       "    <tr style=\"text-align: right;\">\n",
       "      <th></th>\n",
       "      <th>input</th>\n",
       "      <th>label</th>\n",
       "      <th>hybrid-linear-weighted</th>\n",
       "      <th>id</th>\n",
       "    </tr>\n",
       "  </thead>\n",
       "  <tbody>\n",
       "    <tr>\n",
       "      <th>62419</th>\n",
       "      <td>Evimed Research Group, Llc</td>\n",
       "      <td>SPE</td>\n",
       "      <td>SPE</td>\n",
       "      <td>NaN</td>\n",
       "    </tr>\n",
       "    <tr>\n",
       "      <th>51322</th>\n",
       "      <td>University Malaysia</td>\n",
       "      <td>SPE</td>\n",
       "      <td>SPE</td>\n",
       "      <td>NaN</td>\n",
       "    </tr>\n",
       "    <tr>\n",
       "      <th>35465</th>\n",
       "      <td>Istanbul Kültür University</td>\n",
       "      <td>SPE</td>\n",
       "      <td>SPE</td>\n",
       "      <td>NaN</td>\n",
       "    </tr>\n",
       "    <tr>\n",
       "      <th>74708</th>\n",
       "      <td>Exxonmobil Development Company</td>\n",
       "      <td>SPE</td>\n",
       "      <td>SPE</td>\n",
       "      <td>NaN</td>\n",
       "    </tr>\n",
       "    <tr>\n",
       "      <th>71992</th>\n",
       "      <td>Muğla Sıtkı Kocman University</td>\n",
       "      <td>SPE</td>\n",
       "      <td>SPE</td>\n",
       "      <td>NaN</td>\n",
       "    </tr>\n",
       "    <tr>\n",
       "      <th>15057</th>\n",
       "      <td>IROB Group</td>\n",
       "      <td>GEN</td>\n",
       "      <td>SPE</td>\n",
       "      <td>60115484.0</td>\n",
       "    </tr>\n",
       "    <tr>\n",
       "      <th>79995</th>\n",
       "      <td>Institut Für Pharmazeutische Biologie</td>\n",
       "      <td>SPE</td>\n",
       "      <td>SPE</td>\n",
       "      <td>NaN</td>\n",
       "    </tr>\n",
       "    <tr>\n",
       "      <th>49098</th>\n",
       "      <td>Inserm U657</td>\n",
       "      <td>SPE</td>\n",
       "      <td>SPE</td>\n",
       "      <td>NaN</td>\n",
       "    </tr>\n",
       "    <tr>\n",
       "      <th>78360</th>\n",
       "      <td>Royal College Of Surgeons In Ireland</td>\n",
       "      <td>SPE</td>\n",
       "      <td>SPE</td>\n",
       "      <td>NaN</td>\n",
       "    </tr>\n",
       "    <tr>\n",
       "      <th>1352</th>\n",
       "      <td>Centro De Investigacion Cientifica Y De Educac...</td>\n",
       "      <td>SPE</td>\n",
       "      <td>SPE</td>\n",
       "      <td>NaN</td>\n",
       "    </tr>\n",
       "    <tr>\n",
       "      <th>50200</th>\n",
       "      <td>Mpb Technologies Inc.</td>\n",
       "      <td>SPE</td>\n",
       "      <td>SPE</td>\n",
       "      <td>NaN</td>\n",
       "    </tr>\n",
       "    <tr>\n",
       "      <th>15404</th>\n",
       "      <td>Ricoh Co., Ltd</td>\n",
       "      <td>SPE</td>\n",
       "      <td>SPE</td>\n",
       "      <td>NaN</td>\n",
       "    </tr>\n",
       "    <tr>\n",
       "      <th>59896</th>\n",
       "      <td>Srk Consulting</td>\n",
       "      <td>SPE</td>\n",
       "      <td>SPE</td>\n",
       "      <td>NaN</td>\n",
       "    </tr>\n",
       "    <tr>\n",
       "      <th>88578</th>\n",
       "      <td>Brighton General Hospital</td>\n",
       "      <td>SPE</td>\n",
       "      <td>SPE</td>\n",
       "      <td>NaN</td>\n",
       "    </tr>\n",
       "    <tr>\n",
       "      <th>86874</th>\n",
       "      <td>Faculty Of Science</td>\n",
       "      <td>SPE</td>\n",
       "      <td>SPE</td>\n",
       "      <td>NaN</td>\n",
       "    </tr>\n",
       "    <tr>\n",
       "      <th>82476</th>\n",
       "      <td>B. Y. L. Nair Charitable Hospital</td>\n",
       "      <td>SPE</td>\n",
       "      <td>SPE</td>\n",
       "      <td>NaN</td>\n",
       "    </tr>\n",
       "    <tr>\n",
       "      <th>8080</th>\n",
       "      <td>Brooklyn College Of The City University Of New...</td>\n",
       "      <td>SPE</td>\n",
       "      <td>SPE</td>\n",
       "      <td>NaN</td>\n",
       "    </tr>\n",
       "    <tr>\n",
       "      <th>17190</th>\n",
       "      <td>N. G. Chernyshevsky Saratov State University</td>\n",
       "      <td>SPE</td>\n",
       "      <td>SPE</td>\n",
       "      <td>NaN</td>\n",
       "    </tr>\n",
       "    <tr>\n",
       "      <th>5029</th>\n",
       "      <td>Benghazi University</td>\n",
       "      <td>SPE</td>\n",
       "      <td>SPE</td>\n",
       "      <td>NaN</td>\n",
       "    </tr>\n",
       "    <tr>\n",
       "      <th>53693</th>\n",
       "      <td>Instituto Nacional De Tecnologia Agropecuaria ...</td>\n",
       "      <td>SPE</td>\n",
       "      <td>SPE</td>\n",
       "      <td>NaN</td>\n",
       "    </tr>\n",
       "  </tbody>\n",
       "</table>\n",
       "</div>"
      ],
      "text/plain": [
       "                                                   input label  \\\n",
       "62419                         Evimed Research Group, Llc   SPE   \n",
       "51322                                University Malaysia   SPE   \n",
       "35465                         Istanbul Kültür University   SPE   \n",
       "74708                     Exxonmobil Development Company   SPE   \n",
       "71992                      Muğla Sıtkı Kocman University   SPE   \n",
       "15057                                         IROB Group   GEN   \n",
       "79995              Institut Für Pharmazeutische Biologie   SPE   \n",
       "49098                                        Inserm U657   SPE   \n",
       "78360               Royal College Of Surgeons In Ireland   SPE   \n",
       "1352   Centro De Investigacion Cientifica Y De Educac...   SPE   \n",
       "50200                              Mpb Technologies Inc.   SPE   \n",
       "15404                                     Ricoh Co., Ltd   SPE   \n",
       "59896                                     Srk Consulting   SPE   \n",
       "88578                          Brighton General Hospital   SPE   \n",
       "86874                                 Faculty Of Science   SPE   \n",
       "82476                  B. Y. L. Nair Charitable Hospital   SPE   \n",
       "8080   Brooklyn College Of The City University Of New...   SPE   \n",
       "17190       N. G. Chernyshevsky Saratov State University   SPE   \n",
       "5029                                 Benghazi University   SPE   \n",
       "53693  Instituto Nacional De Tecnologia Agropecuaria ...   SPE   \n",
       "\n",
       "      hybrid-linear-weighted          id  \n",
       "62419                    SPE         NaN  \n",
       "51322                    SPE         NaN  \n",
       "35465                    SPE         NaN  \n",
       "74708                    SPE         NaN  \n",
       "71992                    SPE         NaN  \n",
       "15057                    SPE  60115484.0  \n",
       "79995                    SPE         NaN  \n",
       "49098                    SPE         NaN  \n",
       "78360                    SPE         NaN  \n",
       "1352                     SPE         NaN  \n",
       "50200                    SPE         NaN  \n",
       "15404                    SPE         NaN  \n",
       "59896                    SPE         NaN  \n",
       "88578                    SPE         NaN  \n",
       "86874                    SPE         NaN  \n",
       "82476                    SPE         NaN  \n",
       "8080                     SPE         NaN  \n",
       "17190                    SPE         NaN  \n",
       "5029                     SPE         NaN  \n",
       "53693                    SPE         NaN  "
      ]
     },
     "execution_count": 39,
     "metadata": {},
     "output_type": "execute_result"
    }
   ],
   "source": [
    "spe_predicted.iloc[20:40]"
   ]
  },
  {
   "cell_type": "code",
   "execution_count": 40,
   "metadata": {},
   "outputs": [
    {
     "data": {
      "text/html": [
       "<div>\n",
       "<style scoped>\n",
       "    .dataframe tbody tr th:only-of-type {\n",
       "        vertical-align: middle;\n",
       "    }\n",
       "\n",
       "    .dataframe tbody tr th {\n",
       "        vertical-align: top;\n",
       "    }\n",
       "\n",
       "    .dataframe thead th {\n",
       "        text-align: right;\n",
       "    }\n",
       "</style>\n",
       "<table border=\"1\" class=\"dataframe\">\n",
       "  <thead>\n",
       "    <tr style=\"text-align: right;\">\n",
       "      <th></th>\n",
       "      <th>input</th>\n",
       "      <th>label</th>\n",
       "      <th>hybrid-linear-weighted</th>\n",
       "      <th>id</th>\n",
       "    </tr>\n",
       "  </thead>\n",
       "  <tbody>\n",
       "    <tr>\n",
       "      <th>4688</th>\n",
       "      <td>Rio Cuarto National University</td>\n",
       "      <td>SPE</td>\n",
       "      <td>SPE</td>\n",
       "      <td>NaN</td>\n",
       "    </tr>\n",
       "    <tr>\n",
       "      <th>7242</th>\n",
       "      <td>Hofstra University</td>\n",
       "      <td>SPE</td>\n",
       "      <td>SPE</td>\n",
       "      <td>NaN</td>\n",
       "    </tr>\n",
       "    <tr>\n",
       "      <th>68222</th>\n",
       "      <td>Medicinska fakulteten</td>\n",
       "      <td>GEN</td>\n",
       "      <td>SPE</td>\n",
       "      <td>60016774.0</td>\n",
       "    </tr>\n",
       "    <tr>\n",
       "      <th>28312</th>\n",
       "      <td>Tadulako University</td>\n",
       "      <td>SPE</td>\n",
       "      <td>SPE</td>\n",
       "      <td>NaN</td>\n",
       "    </tr>\n",
       "    <tr>\n",
       "      <th>10369</th>\n",
       "      <td>Mitsubishi Cable Industries Ltd.</td>\n",
       "      <td>SPE</td>\n",
       "      <td>SPE</td>\n",
       "      <td>NaN</td>\n",
       "    </tr>\n",
       "    <tr>\n",
       "      <th>25752</th>\n",
       "      <td>Lutheran General Children's Hospital</td>\n",
       "      <td>SPE</td>\n",
       "      <td>SPE</td>\n",
       "      <td>NaN</td>\n",
       "    </tr>\n",
       "    <tr>\n",
       "      <th>74415</th>\n",
       "      <td>Realtek Semiconductor Corp.</td>\n",
       "      <td>SPE</td>\n",
       "      <td>SPE</td>\n",
       "      <td>NaN</td>\n",
       "    </tr>\n",
       "    <tr>\n",
       "      <th>49192</th>\n",
       "      <td>Hospital Santojanni</td>\n",
       "      <td>SPE</td>\n",
       "      <td>SPE</td>\n",
       "      <td>NaN</td>\n",
       "    </tr>\n",
       "    <tr>\n",
       "      <th>19520</th>\n",
       "      <td>University Of Gorakhpur</td>\n",
       "      <td>SPE</td>\n",
       "      <td>SPE</td>\n",
       "      <td>NaN</td>\n",
       "    </tr>\n",
       "    <tr>\n",
       "      <th>52464</th>\n",
       "      <td>Gansu Provincial Center For Disease Control An...</td>\n",
       "      <td>SPE</td>\n",
       "      <td>SPE</td>\n",
       "      <td>NaN</td>\n",
       "    </tr>\n",
       "    <tr>\n",
       "      <th>38829</th>\n",
       "      <td>Fukuoka Univ.</td>\n",
       "      <td>SPE</td>\n",
       "      <td>SPE</td>\n",
       "      <td>NaN</td>\n",
       "    </tr>\n",
       "    <tr>\n",
       "      <th>43572</th>\n",
       "      <td>Menofeya University</td>\n",
       "      <td>SPE</td>\n",
       "      <td>SPE</td>\n",
       "      <td>NaN</td>\n",
       "    </tr>\n",
       "    <tr>\n",
       "      <th>81461</th>\n",
       "      <td>Turan University</td>\n",
       "      <td>SPE</td>\n",
       "      <td>SPE</td>\n",
       "      <td>NaN</td>\n",
       "    </tr>\n",
       "    <tr>\n",
       "      <th>32241</th>\n",
       "      <td>Bakı Dövlət Universiteti</td>\n",
       "      <td>SPE</td>\n",
       "      <td>SPE</td>\n",
       "      <td>NaN</td>\n",
       "    </tr>\n",
       "    <tr>\n",
       "      <th>85544</th>\n",
       "      <td>Jewish Hospital</td>\n",
       "      <td>SPE</td>\n",
       "      <td>SPE</td>\n",
       "      <td>NaN</td>\n",
       "    </tr>\n",
       "    <tr>\n",
       "      <th>18026</th>\n",
       "      <td>University Politehnica Bucharest</td>\n",
       "      <td>SPE</td>\n",
       "      <td>SPE</td>\n",
       "      <td>NaN</td>\n",
       "    </tr>\n",
       "    <tr>\n",
       "      <th>89247</th>\n",
       "      <td>Weill Cornell Medical College</td>\n",
       "      <td>SPE</td>\n",
       "      <td>SPE</td>\n",
       "      <td>NaN</td>\n",
       "    </tr>\n",
       "    <tr>\n",
       "      <th>44548</th>\n",
       "      <td>Laboratorio Subterráneo De Canfranc</td>\n",
       "      <td>SPE</td>\n",
       "      <td>SPE</td>\n",
       "      <td>NaN</td>\n",
       "    </tr>\n",
       "    <tr>\n",
       "      <th>60833</th>\n",
       "      <td>Tokyo Institute Of Technology</td>\n",
       "      <td>SPE</td>\n",
       "      <td>SPE</td>\n",
       "      <td>NaN</td>\n",
       "    </tr>\n",
       "    <tr>\n",
       "      <th>67573</th>\n",
       "      <td>Korea Inst. Geosci. Mineral Rsrc.</td>\n",
       "      <td>SPE</td>\n",
       "      <td>SPE</td>\n",
       "      <td>NaN</td>\n",
       "    </tr>\n",
       "  </tbody>\n",
       "</table>\n",
       "</div>"
      ],
      "text/plain": [
       "                                                   input label  \\\n",
       "4688                      Rio Cuarto National University   SPE   \n",
       "7242                                  Hofstra University   SPE   \n",
       "68222                              Medicinska fakulteten   GEN   \n",
       "28312                                Tadulako University   SPE   \n",
       "10369                   Mitsubishi Cable Industries Ltd.   SPE   \n",
       "25752               Lutheran General Children's Hospital   SPE   \n",
       "74415                        Realtek Semiconductor Corp.   SPE   \n",
       "49192                                Hospital Santojanni   SPE   \n",
       "19520                            University Of Gorakhpur   SPE   \n",
       "52464  Gansu Provincial Center For Disease Control An...   SPE   \n",
       "38829                                      Fukuoka Univ.   SPE   \n",
       "43572                                Menofeya University   SPE   \n",
       "81461                                   Turan University   SPE   \n",
       "32241                           Bakı Dövlət Universiteti   SPE   \n",
       "85544                                    Jewish Hospital   SPE   \n",
       "18026                   University Politehnica Bucharest   SPE   \n",
       "89247                      Weill Cornell Medical College   SPE   \n",
       "44548                Laboratorio Subterráneo De Canfranc   SPE   \n",
       "60833                      Tokyo Institute Of Technology   SPE   \n",
       "67573                  Korea Inst. Geosci. Mineral Rsrc.   SPE   \n",
       "\n",
       "      hybrid-linear-weighted          id  \n",
       "4688                     SPE         NaN  \n",
       "7242                     SPE         NaN  \n",
       "68222                    SPE  60016774.0  \n",
       "28312                    SPE         NaN  \n",
       "10369                    SPE         NaN  \n",
       "25752                    SPE         NaN  \n",
       "74415                    SPE         NaN  \n",
       "49192                    SPE         NaN  \n",
       "19520                    SPE         NaN  \n",
       "52464                    SPE         NaN  \n",
       "38829                    SPE         NaN  \n",
       "43572                    SPE         NaN  \n",
       "81461                    SPE         NaN  \n",
       "32241                    SPE         NaN  \n",
       "85544                    SPE         NaN  \n",
       "18026                    SPE         NaN  \n",
       "89247                    SPE         NaN  \n",
       "44548                    SPE         NaN  \n",
       "60833                    SPE         NaN  \n",
       "67573                    SPE         NaN  "
      ]
     },
     "execution_count": 40,
     "metadata": {},
     "output_type": "execute_result"
    }
   ],
   "source": [
    "spe_predicted.iloc[40:60]"
   ]
  },
  {
   "cell_type": "markdown",
   "metadata": {},
   "source": [
    "## Sample some correct predictions"
   ]
  },
  {
   "cell_type": "code",
   "execution_count": 41,
   "metadata": {},
   "outputs": [],
   "source": [
    "correct = (test_sample[test_sample[cl_col] == test_sample['label']][['input', 'label', cl_col]])\n",
    "_, correct = train_test_split(correct, test_size=0.1, stratify=correct.label)"
   ]
  },
  {
   "cell_type": "code",
   "execution_count": 42,
   "metadata": {},
   "outputs": [
    {
     "data": {
      "text/html": [
       "<div>\n",
       "<style scoped>\n",
       "    .dataframe tbody tr th:only-of-type {\n",
       "        vertical-align: middle;\n",
       "    }\n",
       "\n",
       "    .dataframe tbody tr th {\n",
       "        vertical-align: top;\n",
       "    }\n",
       "\n",
       "    .dataframe thead th {\n",
       "        text-align: right;\n",
       "    }\n",
       "</style>\n",
       "<table border=\"1\" class=\"dataframe\">\n",
       "  <thead>\n",
       "    <tr style=\"text-align: right;\">\n",
       "      <th></th>\n",
       "      <th>input</th>\n",
       "      <th>label</th>\n",
       "      <th>hybrid-linear-weighted</th>\n",
       "    </tr>\n",
       "  </thead>\n",
       "  <tbody>\n",
       "    <tr>\n",
       "      <th>59166</th>\n",
       "      <td>Dipto. di Chim. Inorg.</td>\n",
       "      <td>GEN</td>\n",
       "      <td>GEN</td>\n",
       "    </tr>\n",
       "    <tr>\n",
       "      <th>23813</th>\n",
       "      <td>Izmiran</td>\n",
       "      <td>SPE</td>\n",
       "      <td>SPE</td>\n",
       "    </tr>\n",
       "    <tr>\n",
       "      <th>9280</th>\n",
       "      <td>Hospital San Jaime</td>\n",
       "      <td>SPE</td>\n",
       "      <td>SPE</td>\n",
       "    </tr>\n",
       "    <tr>\n",
       "      <th>8197</th>\n",
       "      <td>Med. Inst.</td>\n",
       "      <td>SPE</td>\n",
       "      <td>SPE</td>\n",
       "    </tr>\n",
       "    <tr>\n",
       "      <th>28640</th>\n",
       "      <td>American Studies</td>\n",
       "      <td>GEN</td>\n",
       "      <td>GEN</td>\n",
       "    </tr>\n",
       "    <tr>\n",
       "      <th>79862</th>\n",
       "      <td>Département de Psychiatrie</td>\n",
       "      <td>GEN</td>\n",
       "      <td>GEN</td>\n",
       "    </tr>\n",
       "    <tr>\n",
       "      <th>40347</th>\n",
       "      <td>Pula General Hospital</td>\n",
       "      <td>SPE</td>\n",
       "      <td>SPE</td>\n",
       "    </tr>\n",
       "    <tr>\n",
       "      <th>85608</th>\n",
       "      <td>Klinikum Krefeld</td>\n",
       "      <td>SPE</td>\n",
       "      <td>SPE</td>\n",
       "    </tr>\n",
       "    <tr>\n",
       "      <th>29479</th>\n",
       "      <td>Universita' Di Trieste</td>\n",
       "      <td>SPE</td>\n",
       "      <td>SPE</td>\n",
       "    </tr>\n",
       "    <tr>\n",
       "      <th>30348</th>\n",
       "      <td>Poole Hospital</td>\n",
       "      <td>SPE</td>\n",
       "      <td>SPE</td>\n",
       "    </tr>\n",
       "    <tr>\n",
       "      <th>52492</th>\n",
       "      <td>Ningxia Engineering And Technology Research Ce...</td>\n",
       "      <td>SPE</td>\n",
       "      <td>SPE</td>\n",
       "    </tr>\n",
       "    <tr>\n",
       "      <th>4373</th>\n",
       "      <td>University Of Applied Sciences</td>\n",
       "      <td>SPE</td>\n",
       "      <td>SPE</td>\n",
       "    </tr>\n",
       "    <tr>\n",
       "      <th>84447</th>\n",
       "      <td>University Of Michigan - Dearborn</td>\n",
       "      <td>SPE</td>\n",
       "      <td>SPE</td>\n",
       "    </tr>\n",
       "    <tr>\n",
       "      <th>62575</th>\n",
       "      <td>Washington State Univ.</td>\n",
       "      <td>SPE</td>\n",
       "      <td>SPE</td>\n",
       "    </tr>\n",
       "    <tr>\n",
       "      <th>84299</th>\n",
       "      <td>Our Lady Of The Lake Regional Medical Center</td>\n",
       "      <td>SPE</td>\n",
       "      <td>SPE</td>\n",
       "    </tr>\n",
       "    <tr>\n",
       "      <th>60023</th>\n",
       "      <td>Institute for General Pathology and Pathologic...</td>\n",
       "      <td>GEN</td>\n",
       "      <td>GEN</td>\n",
       "    </tr>\n",
       "    <tr>\n",
       "      <th>80990</th>\n",
       "      <td>Ulvac Japan Ltd.</td>\n",
       "      <td>SPE</td>\n",
       "      <td>SPE</td>\n",
       "    </tr>\n",
       "    <tr>\n",
       "      <th>599</th>\n",
       "      <td>Universidade Estadual De Maringa</td>\n",
       "      <td>SPE</td>\n",
       "      <td>SPE</td>\n",
       "    </tr>\n",
       "    <tr>\n",
       "      <th>315</th>\n",
       "      <td>Öbb-infrastruktur Ag</td>\n",
       "      <td>SPE</td>\n",
       "      <td>SPE</td>\n",
       "    </tr>\n",
       "    <tr>\n",
       "      <th>68252</th>\n",
       "      <td>Józef Piłsudski University Of Physical Education</td>\n",
       "      <td>SPE</td>\n",
       "      <td>SPE</td>\n",
       "    </tr>\n",
       "  </tbody>\n",
       "</table>\n",
       "</div>"
      ],
      "text/plain": [
       "                                                   input label  \\\n",
       "59166                             Dipto. di Chim. Inorg.   GEN   \n",
       "23813                                            Izmiran   SPE   \n",
       "9280                                  Hospital San Jaime   SPE   \n",
       "8197                                          Med. Inst.   SPE   \n",
       "28640                                   American Studies   GEN   \n",
       "79862                         Département de Psychiatrie   GEN   \n",
       "40347                              Pula General Hospital   SPE   \n",
       "85608                                   Klinikum Krefeld   SPE   \n",
       "29479                             Universita' Di Trieste   SPE   \n",
       "30348                                     Poole Hospital   SPE   \n",
       "52492  Ningxia Engineering And Technology Research Ce...   SPE   \n",
       "4373                      University Of Applied Sciences   SPE   \n",
       "84447                  University Of Michigan - Dearborn   SPE   \n",
       "62575                             Washington State Univ.   SPE   \n",
       "84299       Our Lady Of The Lake Regional Medical Center   SPE   \n",
       "60023  Institute for General Pathology and Pathologic...   GEN   \n",
       "80990                                   Ulvac Japan Ltd.   SPE   \n",
       "599                     Universidade Estadual De Maringa   SPE   \n",
       "315                                 Öbb-infrastruktur Ag   SPE   \n",
       "68252   Józef Piłsudski University Of Physical Education   SPE   \n",
       "\n",
       "      hybrid-linear-weighted  \n",
       "59166                    GEN  \n",
       "23813                    SPE  \n",
       "9280                     SPE  \n",
       "8197                     SPE  \n",
       "28640                    GEN  \n",
       "79862                    GEN  \n",
       "40347                    SPE  \n",
       "85608                    SPE  \n",
       "29479                    SPE  \n",
       "30348                    SPE  \n",
       "52492                    SPE  \n",
       "4373                     SPE  \n",
       "84447                    SPE  \n",
       "62575                    SPE  \n",
       "84299                    SPE  \n",
       "60023                    GEN  \n",
       "80990                    SPE  \n",
       "599                      SPE  \n",
       "315                      SPE  \n",
       "68252                    SPE  "
      ]
     },
     "execution_count": 42,
     "metadata": {},
     "output_type": "execute_result"
    }
   ],
   "source": [
    "correct.head(20)"
   ]
  },
  {
   "cell_type": "markdown",
   "metadata": {},
   "source": [
    "## Examine errors"
   ]
  },
  {
   "cell_type": "code",
   "execution_count": 43,
   "metadata": {},
   "outputs": [
    {
     "data": {
      "text/html": [
       "<div>\n",
       "<style scoped>\n",
       "    .dataframe tbody tr th:only-of-type {\n",
       "        vertical-align: middle;\n",
       "    }\n",
       "\n",
       "    .dataframe tbody tr th {\n",
       "        vertical-align: top;\n",
       "    }\n",
       "\n",
       "    .dataframe thead th {\n",
       "        text-align: right;\n",
       "    }\n",
       "</style>\n",
       "<table border=\"1\" class=\"dataframe\">\n",
       "  <thead>\n",
       "    <tr style=\"text-align: right;\">\n",
       "      <th></th>\n",
       "      <th>input</th>\n",
       "      <th>label</th>\n",
       "      <th>hybrid-linear-weighted</th>\n",
       "      <th>id</th>\n",
       "    </tr>\n",
       "  </thead>\n",
       "  <tbody>\n",
       "    <tr>\n",
       "      <th>71593</th>\n",
       "      <td>Icar-national Institute Of Abiotic Stress Mana...</td>\n",
       "      <td>SPE</td>\n",
       "      <td>GEN</td>\n",
       "      <td>NaN</td>\n",
       "    </tr>\n",
       "    <tr>\n",
       "      <th>36824</th>\n",
       "      <td>University Medical Laser Centre</td>\n",
       "      <td>GEN</td>\n",
       "      <td>SPE</td>\n",
       "      <td>60119746.0</td>\n",
       "    </tr>\n",
       "    <tr>\n",
       "      <th>19511</th>\n",
       "      <td>Academic Hospital</td>\n",
       "      <td>SPE</td>\n",
       "      <td>GEN</td>\n",
       "      <td>NaN</td>\n",
       "    </tr>\n",
       "    <tr>\n",
       "      <th>8870</th>\n",
       "      <td>Klinik Im Park</td>\n",
       "      <td>SPE</td>\n",
       "      <td>GEN</td>\n",
       "      <td>NaN</td>\n",
       "    </tr>\n",
       "    <tr>\n",
       "      <th>13579</th>\n",
       "      <td>Faculty Of Science And Technology</td>\n",
       "      <td>SPE</td>\n",
       "      <td>GEN</td>\n",
       "      <td>NaN</td>\n",
       "    </tr>\n",
       "    <tr>\n",
       "      <th>26860</th>\n",
       "      <td>Ministry Of Agriculture</td>\n",
       "      <td>SPE</td>\n",
       "      <td>GEN</td>\n",
       "      <td>NaN</td>\n",
       "    </tr>\n",
       "    <tr>\n",
       "      <th>1473</th>\n",
       "      <td>The Institute For Advanced Study</td>\n",
       "      <td>SPE</td>\n",
       "      <td>GEN</td>\n",
       "      <td>NaN</td>\n",
       "    </tr>\n",
       "    <tr>\n",
       "      <th>66055</th>\n",
       "      <td>Dipartimento Di Astronomia</td>\n",
       "      <td>SPE</td>\n",
       "      <td>GEN</td>\n",
       "      <td>NaN</td>\n",
       "    </tr>\n",
       "    <tr>\n",
       "      <th>43160</th>\n",
       "      <td>Bureau Of Chemistry</td>\n",
       "      <td>SPE</td>\n",
       "      <td>GEN</td>\n",
       "      <td>NaN</td>\n",
       "    </tr>\n",
       "    <tr>\n",
       "      <th>47267</th>\n",
       "      <td>Wil Research</td>\n",
       "      <td>SPE</td>\n",
       "      <td>GEN</td>\n",
       "      <td>NaN</td>\n",
       "    </tr>\n",
       "    <tr>\n",
       "      <th>24855</th>\n",
       "      <td>Government Pharmaceutical Organization</td>\n",
       "      <td>SPE</td>\n",
       "      <td>GEN</td>\n",
       "      <td>NaN</td>\n",
       "    </tr>\n",
       "    <tr>\n",
       "      <th>71981</th>\n",
       "      <td>Faculty Of Technology</td>\n",
       "      <td>SPE</td>\n",
       "      <td>GEN</td>\n",
       "      <td>NaN</td>\n",
       "    </tr>\n",
       "    <tr>\n",
       "      <th>46812</th>\n",
       "      <td>Wilhelminenhospital</td>\n",
       "      <td>SPE</td>\n",
       "      <td>GEN</td>\n",
       "      <td>NaN</td>\n",
       "    </tr>\n",
       "    <tr>\n",
       "      <th>4148</th>\n",
       "      <td>Department Of Veterans Affairs</td>\n",
       "      <td>SPE</td>\n",
       "      <td>GEN</td>\n",
       "      <td>NaN</td>\n",
       "    </tr>\n",
       "    <tr>\n",
       "      <th>85069</th>\n",
       "      <td>Otto-von-guericke-universität</td>\n",
       "      <td>SPE</td>\n",
       "      <td>GEN</td>\n",
       "      <td>NaN</td>\n",
       "    </tr>\n",
       "    <tr>\n",
       "      <th>42752</th>\n",
       "      <td>B M S College Of Engineering</td>\n",
       "      <td>SPE</td>\n",
       "      <td>GEN</td>\n",
       "      <td>NaN</td>\n",
       "    </tr>\n",
       "    <tr>\n",
       "      <th>88709</th>\n",
       "      <td>Laboratoire Timc-imag</td>\n",
       "      <td>SPE</td>\n",
       "      <td>GEN</td>\n",
       "      <td>NaN</td>\n",
       "    </tr>\n",
       "    <tr>\n",
       "      <th>11961</th>\n",
       "      <td>Eth Zï¿½rich</td>\n",
       "      <td>SPE</td>\n",
       "      <td>GEN</td>\n",
       "      <td>NaN</td>\n",
       "    </tr>\n",
       "    <tr>\n",
       "      <th>74103</th>\n",
       "      <td>Xichang Satellite Launch Center</td>\n",
       "      <td>SPE</td>\n",
       "      <td>GEN</td>\n",
       "      <td>NaN</td>\n",
       "    </tr>\n",
       "    <tr>\n",
       "      <th>45150</th>\n",
       "      <td>Field Science Education And Research Center</td>\n",
       "      <td>SPE</td>\n",
       "      <td>GEN</td>\n",
       "      <td>NaN</td>\n",
       "    </tr>\n",
       "  </tbody>\n",
       "</table>\n",
       "</div>"
      ],
      "text/plain": [
       "                                                   input label  \\\n",
       "71593  Icar-national Institute Of Abiotic Stress Mana...   SPE   \n",
       "36824                    University Medical Laser Centre   GEN   \n",
       "19511                                  Academic Hospital   SPE   \n",
       "8870                                      Klinik Im Park   SPE   \n",
       "13579                  Faculty Of Science And Technology   SPE   \n",
       "26860                            Ministry Of Agriculture   SPE   \n",
       "1473                    The Institute For Advanced Study   SPE   \n",
       "66055                         Dipartimento Di Astronomia   SPE   \n",
       "43160                                Bureau Of Chemistry   SPE   \n",
       "47267                                       Wil Research   SPE   \n",
       "24855             Government Pharmaceutical Organization   SPE   \n",
       "71981                              Faculty Of Technology   SPE   \n",
       "46812                                Wilhelminenhospital   SPE   \n",
       "4148                      Department Of Veterans Affairs   SPE   \n",
       "85069                      Otto-von-guericke-universität   SPE   \n",
       "42752                       B M S College Of Engineering   SPE   \n",
       "88709                              Laboratoire Timc-imag   SPE   \n",
       "11961                                       Eth Zï¿½rich   SPE   \n",
       "74103                    Xichang Satellite Launch Center   SPE   \n",
       "45150        Field Science Education And Research Center   SPE   \n",
       "\n",
       "      hybrid-linear-weighted          id  \n",
       "71593                    GEN         NaN  \n",
       "36824                    SPE  60119746.0  \n",
       "19511                    GEN         NaN  \n",
       "8870                     GEN         NaN  \n",
       "13579                    GEN         NaN  \n",
       "26860                    GEN         NaN  \n",
       "1473                     GEN         NaN  \n",
       "66055                    GEN         NaN  \n",
       "43160                    GEN         NaN  \n",
       "47267                    GEN         NaN  \n",
       "24855                    GEN         NaN  \n",
       "71981                    GEN         NaN  \n",
       "46812                    GEN         NaN  \n",
       "4148                     GEN         NaN  \n",
       "85069                    GEN         NaN  \n",
       "42752                    GEN         NaN  \n",
       "88709                    GEN         NaN  \n",
       "11961                    GEN         NaN  \n",
       "74103                    GEN         NaN  \n",
       "45150                    GEN         NaN  "
      ]
     },
     "execution_count": 43,
     "metadata": {},
     "output_type": "execute_result"
    }
   ],
   "source": [
    "errors = (test_sample[test_sample[cl_col] != test_sample['label']]\n",
    "             [['input', 'label', cl_col, 'id']].sample(frac=1, random_state=3295))\n",
    "errors.iloc[:20]"
   ]
  },
  {
   "cell_type": "code",
   "execution_count": 44,
   "metadata": {},
   "outputs": [
    {
     "data": {
      "text/html": [
       "<div>\n",
       "<style scoped>\n",
       "    .dataframe tbody tr th:only-of-type {\n",
       "        vertical-align: middle;\n",
       "    }\n",
       "\n",
       "    .dataframe tbody tr th {\n",
       "        vertical-align: top;\n",
       "    }\n",
       "\n",
       "    .dataframe thead th {\n",
       "        text-align: right;\n",
       "    }\n",
       "</style>\n",
       "<table border=\"1\" class=\"dataframe\">\n",
       "  <thead>\n",
       "    <tr style=\"text-align: right;\">\n",
       "      <th></th>\n",
       "      <th>input</th>\n",
       "      <th>label</th>\n",
       "      <th>hybrid-linear-weighted</th>\n",
       "      <th>id</th>\n",
       "    </tr>\n",
       "  </thead>\n",
       "  <tbody>\n",
       "    <tr>\n",
       "      <th>48014</th>\n",
       "      <td>Wildlife Conservation Society</td>\n",
       "      <td>SPE</td>\n",
       "      <td>GEN</td>\n",
       "      <td>NaN</td>\n",
       "    </tr>\n",
       "    <tr>\n",
       "      <th>24075</th>\n",
       "      <td>St. Xavier's College</td>\n",
       "      <td>SPE</td>\n",
       "      <td>GEN</td>\n",
       "      <td>NaN</td>\n",
       "    </tr>\n",
       "    <tr>\n",
       "      <th>89303</th>\n",
       "      <td>MGSE</td>\n",
       "      <td>GEN</td>\n",
       "      <td>SPE</td>\n",
       "      <td>60118512.0</td>\n",
       "    </tr>\n",
       "    <tr>\n",
       "      <th>21941</th>\n",
       "      <td>Nerc Inst. Virol. Environ. M.</td>\n",
       "      <td>SPE</td>\n",
       "      <td>GEN</td>\n",
       "      <td>NaN</td>\n",
       "    </tr>\n",
       "    <tr>\n",
       "      <th>77564</th>\n",
       "      <td>Qld Department Of Primary Industries</td>\n",
       "      <td>SPE</td>\n",
       "      <td>GEN</td>\n",
       "      <td>NaN</td>\n",
       "    </tr>\n",
       "    <tr>\n",
       "      <th>3179</th>\n",
       "      <td>Kakioka Magnetic Observatory</td>\n",
       "      <td>SPE</td>\n",
       "      <td>GEN</td>\n",
       "      <td>NaN</td>\n",
       "    </tr>\n",
       "    <tr>\n",
       "      <th>44880</th>\n",
       "      <td>Centre For Applied Nursing Research</td>\n",
       "      <td>SPE</td>\n",
       "      <td>GEN</td>\n",
       "      <td>NaN</td>\n",
       "    </tr>\n",
       "    <tr>\n",
       "      <th>39392</th>\n",
       "      <td>State Water Resources Control Board</td>\n",
       "      <td>SPE</td>\n",
       "      <td>GEN</td>\n",
       "      <td>NaN</td>\n",
       "    </tr>\n",
       "    <tr>\n",
       "      <th>74747</th>\n",
       "      <td>Austrian Research Centers</td>\n",
       "      <td>SPE</td>\n",
       "      <td>GEN</td>\n",
       "      <td>NaN</td>\n",
       "    </tr>\n",
       "    <tr>\n",
       "      <th>19084</th>\n",
       "      <td>University Hospital 3465</td>\n",
       "      <td>SPE</td>\n",
       "      <td>GEN</td>\n",
       "      <td>NaN</td>\n",
       "    </tr>\n",
       "    <tr>\n",
       "      <th>86150</th>\n",
       "      <td>School Of Engineering</td>\n",
       "      <td>SPE</td>\n",
       "      <td>GEN</td>\n",
       "      <td>NaN</td>\n",
       "    </tr>\n",
       "    <tr>\n",
       "      <th>65013</th>\n",
       "      <td>Centre For Human Drug Research (chdr)</td>\n",
       "      <td>SPE</td>\n",
       "      <td>GEN</td>\n",
       "      <td>NaN</td>\n",
       "    </tr>\n",
       "    <tr>\n",
       "      <th>35972</th>\n",
       "      <td>King's Coll. Hosp.</td>\n",
       "      <td>SPE</td>\n",
       "      <td>GEN</td>\n",
       "      <td>NaN</td>\n",
       "    </tr>\n",
       "    <tr>\n",
       "      <th>49268</th>\n",
       "      <td>Inst. Basic Res. In Devmtl. Disabil.</td>\n",
       "      <td>SPE</td>\n",
       "      <td>GEN</td>\n",
       "      <td>NaN</td>\n",
       "    </tr>\n",
       "    <tr>\n",
       "      <th>47331</th>\n",
       "      <td>Institute For Theoretical Physics</td>\n",
       "      <td>SPE</td>\n",
       "      <td>GEN</td>\n",
       "      <td>NaN</td>\n",
       "    </tr>\n",
       "    <tr>\n",
       "      <th>4277</th>\n",
       "      <td>Poultry Research Institute</td>\n",
       "      <td>SPE</td>\n",
       "      <td>GEN</td>\n",
       "      <td>NaN</td>\n",
       "    </tr>\n",
       "    <tr>\n",
       "      <th>88747</th>\n",
       "      <td>Dana-farber/brigham And Women's Cancer Center</td>\n",
       "      <td>SPE</td>\n",
       "      <td>GEN</td>\n",
       "      <td>NaN</td>\n",
       "    </tr>\n",
       "    <tr>\n",
       "      <th>39038</th>\n",
       "      <td>Jiangsu Optoelectronic Functional Materials An...</td>\n",
       "      <td>SPE</td>\n",
       "      <td>GEN</td>\n",
       "      <td>NaN</td>\n",
       "    </tr>\n",
       "    <tr>\n",
       "      <th>75236</th>\n",
       "      <td>The Agricultural Institute</td>\n",
       "      <td>SPE</td>\n",
       "      <td>GEN</td>\n",
       "      <td>NaN</td>\n",
       "    </tr>\n",
       "    <tr>\n",
       "      <th>44656</th>\n",
       "      <td>Applied Chemistry Research Centre</td>\n",
       "      <td>SPE</td>\n",
       "      <td>GEN</td>\n",
       "      <td>NaN</td>\n",
       "    </tr>\n",
       "  </tbody>\n",
       "</table>\n",
       "</div>"
      ],
      "text/plain": [
       "                                                   input label  \\\n",
       "48014                      Wildlife Conservation Society   SPE   \n",
       "24075                               St. Xavier's College   SPE   \n",
       "89303                                               MGSE   GEN   \n",
       "21941                      Nerc Inst. Virol. Environ. M.   SPE   \n",
       "77564               Qld Department Of Primary Industries   SPE   \n",
       "3179                        Kakioka Magnetic Observatory   SPE   \n",
       "44880                Centre For Applied Nursing Research   SPE   \n",
       "39392                State Water Resources Control Board   SPE   \n",
       "74747                          Austrian Research Centers   SPE   \n",
       "19084                           University Hospital 3465   SPE   \n",
       "86150                              School Of Engineering   SPE   \n",
       "65013              Centre For Human Drug Research (chdr)   SPE   \n",
       "35972                                 King's Coll. Hosp.   SPE   \n",
       "49268               Inst. Basic Res. In Devmtl. Disabil.   SPE   \n",
       "47331                  Institute For Theoretical Physics   SPE   \n",
       "4277                          Poultry Research Institute   SPE   \n",
       "88747      Dana-farber/brigham And Women's Cancer Center   SPE   \n",
       "39038  Jiangsu Optoelectronic Functional Materials An...   SPE   \n",
       "75236                         The Agricultural Institute   SPE   \n",
       "44656                  Applied Chemistry Research Centre   SPE   \n",
       "\n",
       "      hybrid-linear-weighted          id  \n",
       "48014                    GEN         NaN  \n",
       "24075                    GEN         NaN  \n",
       "89303                    SPE  60118512.0  \n",
       "21941                    GEN         NaN  \n",
       "77564                    GEN         NaN  \n",
       "3179                     GEN         NaN  \n",
       "44880                    GEN         NaN  \n",
       "39392                    GEN         NaN  \n",
       "74747                    GEN         NaN  \n",
       "19084                    GEN         NaN  \n",
       "86150                    GEN         NaN  \n",
       "65013                    GEN         NaN  \n",
       "35972                    GEN         NaN  \n",
       "49268                    GEN         NaN  \n",
       "47331                    GEN         NaN  \n",
       "4277                     GEN         NaN  \n",
       "88747                    GEN         NaN  \n",
       "39038                    GEN         NaN  \n",
       "75236                    GEN         NaN  \n",
       "44656                    GEN         NaN  "
      ]
     },
     "execution_count": 44,
     "metadata": {},
     "output_type": "execute_result"
    }
   ],
   "source": [
    "errors.iloc[20:40]"
   ]
  },
  {
   "cell_type": "code",
   "execution_count": 45,
   "metadata": {},
   "outputs": [
    {
     "data": {
      "text/html": [
       "<div>\n",
       "<style scoped>\n",
       "    .dataframe tbody tr th:only-of-type {\n",
       "        vertical-align: middle;\n",
       "    }\n",
       "\n",
       "    .dataframe tbody tr th {\n",
       "        vertical-align: top;\n",
       "    }\n",
       "\n",
       "    .dataframe thead th {\n",
       "        text-align: right;\n",
       "    }\n",
       "</style>\n",
       "<table border=\"1\" class=\"dataframe\">\n",
       "  <thead>\n",
       "    <tr style=\"text-align: right;\">\n",
       "      <th></th>\n",
       "      <th>input</th>\n",
       "      <th>label</th>\n",
       "      <th>hybrid-linear-weighted</th>\n",
       "      <th>id</th>\n",
       "    </tr>\n",
       "  </thead>\n",
       "  <tbody>\n",
       "    <tr>\n",
       "      <th>3375</th>\n",
       "      <td>Modern Materials Handling</td>\n",
       "      <td>SPE</td>\n",
       "      <td>GEN</td>\n",
       "      <td>NaN</td>\n",
       "    </tr>\n",
       "    <tr>\n",
       "      <th>12872</th>\n",
       "      <td>Faculte Des Sciences</td>\n",
       "      <td>SPE</td>\n",
       "      <td>GEN</td>\n",
       "      <td>NaN</td>\n",
       "    </tr>\n",
       "    <tr>\n",
       "      <th>38159</th>\n",
       "      <td>Zhengzhou College Of Animal Husbandry Engineering</td>\n",
       "      <td>SPE</td>\n",
       "      <td>GEN</td>\n",
       "      <td>NaN</td>\n",
       "    </tr>\n",
       "    <tr>\n",
       "      <th>86005</th>\n",
       "      <td>Inst. Gruzl.</td>\n",
       "      <td>SPE</td>\n",
       "      <td>GEN</td>\n",
       "      <td>NaN</td>\n",
       "    </tr>\n",
       "    <tr>\n",
       "      <th>447</th>\n",
       "      <td>Faculté De Médecine Laënnec</td>\n",
       "      <td>SPE</td>\n",
       "      <td>GEN</td>\n",
       "      <td>NaN</td>\n",
       "    </tr>\n",
       "    <tr>\n",
       "      <th>59149</th>\n",
       "      <td>Facultad De Ciencias Exactas Y Tecnología</td>\n",
       "      <td>SPE</td>\n",
       "      <td>GEN</td>\n",
       "      <td>NaN</td>\n",
       "    </tr>\n",
       "    <tr>\n",
       "      <th>45546</th>\n",
       "      <td>Center For Musculoskeletal Research</td>\n",
       "      <td>SPE</td>\n",
       "      <td>GEN</td>\n",
       "      <td>NaN</td>\n",
       "    </tr>\n",
       "    <tr>\n",
       "      <th>83732</th>\n",
       "      <td>Nuclear Research Centre</td>\n",
       "      <td>SPE</td>\n",
       "      <td>GEN</td>\n",
       "      <td>NaN</td>\n",
       "    </tr>\n",
       "    <tr>\n",
       "      <th>83181</th>\n",
       "      <td>Department Of Health Of Moscow</td>\n",
       "      <td>SPE</td>\n",
       "      <td>GEN</td>\n",
       "      <td>NaN</td>\n",
       "    </tr>\n",
       "    <tr>\n",
       "      <th>16644</th>\n",
       "      <td>Catharina-ziekenhuis</td>\n",
       "      <td>SPE</td>\n",
       "      <td>GEN</td>\n",
       "      <td>NaN</td>\n",
       "    </tr>\n",
       "    <tr>\n",
       "      <th>31122</th>\n",
       "      <td>Leibniz Institute For Science And Mathematics ...</td>\n",
       "      <td>SPE</td>\n",
       "      <td>GEN</td>\n",
       "      <td>NaN</td>\n",
       "    </tr>\n",
       "    <tr>\n",
       "      <th>14116</th>\n",
       "      <td>Institute Of Chemical And Engineering Sciences...</td>\n",
       "      <td>SPE</td>\n",
       "      <td>GEN</td>\n",
       "      <td>NaN</td>\n",
       "    </tr>\n",
       "    <tr>\n",
       "      <th>59224</th>\n",
       "      <td>European Space Operations Centre (esoc)</td>\n",
       "      <td>SPE</td>\n",
       "      <td>GEN</td>\n",
       "      <td>NaN</td>\n",
       "    </tr>\n",
       "    <tr>\n",
       "      <th>53873</th>\n",
       "      <td>Institute Of Biochemistry</td>\n",
       "      <td>SPE</td>\n",
       "      <td>GEN</td>\n",
       "      <td>NaN</td>\n",
       "    </tr>\n",
       "    <tr>\n",
       "      <th>17660</th>\n",
       "      <td>Csir-iict</td>\n",
       "      <td>SPE</td>\n",
       "      <td>GEN</td>\n",
       "      <td>NaN</td>\n",
       "    </tr>\n",
       "    <tr>\n",
       "      <th>14199</th>\n",
       "      <td>Division Of Cardiology</td>\n",
       "      <td>SPE</td>\n",
       "      <td>GEN</td>\n",
       "      <td>NaN</td>\n",
       "    </tr>\n",
       "    <tr>\n",
       "      <th>8021</th>\n",
       "      <td>School Of Computer Science</td>\n",
       "      <td>SPE</td>\n",
       "      <td>GEN</td>\n",
       "      <td>NaN</td>\n",
       "    </tr>\n",
       "    <tr>\n",
       "      <th>4282</th>\n",
       "      <td>Grasslands Research Centre</td>\n",
       "      <td>SPE</td>\n",
       "      <td>GEN</td>\n",
       "      <td>NaN</td>\n",
       "    </tr>\n",
       "    <tr>\n",
       "      <th>4275</th>\n",
       "      <td>Cinvestav-ipn</td>\n",
       "      <td>SPE</td>\n",
       "      <td>GEN</td>\n",
       "      <td>NaN</td>\n",
       "    </tr>\n",
       "    <tr>\n",
       "      <th>79044</th>\n",
       "      <td>Geriatric Research Education And Clinical Center</td>\n",
       "      <td>SPE</td>\n",
       "      <td>GEN</td>\n",
       "      <td>NaN</td>\n",
       "    </tr>\n",
       "  </tbody>\n",
       "</table>\n",
       "</div>"
      ],
      "text/plain": [
       "                                                   input label  \\\n",
       "3375                           Modern Materials Handling   SPE   \n",
       "12872                               Faculte Des Sciences   SPE   \n",
       "38159  Zhengzhou College Of Animal Husbandry Engineering   SPE   \n",
       "86005                                       Inst. Gruzl.   SPE   \n",
       "447                          Faculté De Médecine Laënnec   SPE   \n",
       "59149          Facultad De Ciencias Exactas Y Tecnología   SPE   \n",
       "45546                Center For Musculoskeletal Research   SPE   \n",
       "83732                            Nuclear Research Centre   SPE   \n",
       "83181                     Department Of Health Of Moscow   SPE   \n",
       "16644                               Catharina-ziekenhuis   SPE   \n",
       "31122  Leibniz Institute For Science And Mathematics ...   SPE   \n",
       "14116  Institute Of Chemical And Engineering Sciences...   SPE   \n",
       "59224            European Space Operations Centre (esoc)   SPE   \n",
       "53873                          Institute Of Biochemistry   SPE   \n",
       "17660                                          Csir-iict   SPE   \n",
       "14199                             Division Of Cardiology   SPE   \n",
       "8021                          School Of Computer Science   SPE   \n",
       "4282                          Grasslands Research Centre   SPE   \n",
       "4275                                       Cinvestav-ipn   SPE   \n",
       "79044   Geriatric Research Education And Clinical Center   SPE   \n",
       "\n",
       "      hybrid-linear-weighted  id  \n",
       "3375                     GEN NaN  \n",
       "12872                    GEN NaN  \n",
       "38159                    GEN NaN  \n",
       "86005                    GEN NaN  \n",
       "447                      GEN NaN  \n",
       "59149                    GEN NaN  \n",
       "45546                    GEN NaN  \n",
       "83732                    GEN NaN  \n",
       "83181                    GEN NaN  \n",
       "16644                    GEN NaN  \n",
       "31122                    GEN NaN  \n",
       "14116                    GEN NaN  \n",
       "59224                    GEN NaN  \n",
       "53873                    GEN NaN  \n",
       "17660                    GEN NaN  \n",
       "14199                    GEN NaN  \n",
       "8021                     GEN NaN  \n",
       "4282                     GEN NaN  \n",
       "4275                     GEN NaN  \n",
       "79044                    GEN NaN  "
      ]
     },
     "execution_count": 45,
     "metadata": {},
     "output_type": "execute_result"
    }
   ],
   "source": [
    "errors.iloc[40:60]"
   ]
  },
  {
   "cell_type": "code",
   "execution_count": 46,
   "metadata": {},
   "outputs": [
    {
     "data": {
      "text/html": [
       "<div>\n",
       "<style scoped>\n",
       "    .dataframe tbody tr th:only-of-type {\n",
       "        vertical-align: middle;\n",
       "    }\n",
       "\n",
       "    .dataframe tbody tr th {\n",
       "        vertical-align: top;\n",
       "    }\n",
       "\n",
       "    .dataframe thead th {\n",
       "        text-align: right;\n",
       "    }\n",
       "</style>\n",
       "<table border=\"1\" class=\"dataframe\">\n",
       "  <thead>\n",
       "    <tr style=\"text-align: right;\">\n",
       "      <th></th>\n",
       "      <th>input</th>\n",
       "      <th>label</th>\n",
       "      <th>hybrid-linear-weighted</th>\n",
       "      <th>id</th>\n",
       "    </tr>\n",
       "  </thead>\n",
       "  <tbody>\n",
       "    <tr>\n",
       "      <th>26409</th>\n",
       "      <td>State Key Laboratory of Coordinate Chemistry</td>\n",
       "      <td>GEN</td>\n",
       "      <td>SPE</td>\n",
       "      <td>60073599.0</td>\n",
       "    </tr>\n",
       "    <tr>\n",
       "      <th>25555</th>\n",
       "      <td>Inst. of Soil Sci. and Plant Nutr.</td>\n",
       "      <td>GEN</td>\n",
       "      <td>SPE</td>\n",
       "      <td>60073761.0</td>\n",
       "    </tr>\n",
       "    <tr>\n",
       "      <th>42804</th>\n",
       "      <td>Christ's College</td>\n",
       "      <td>GEN</td>\n",
       "      <td>SPE</td>\n",
       "      <td>60079645.0</td>\n",
       "    </tr>\n",
       "    <tr>\n",
       "      <th>6333</th>\n",
       "      <td>Christ’s College</td>\n",
       "      <td>GEN</td>\n",
       "      <td>SPE</td>\n",
       "      <td>60079645.0</td>\n",
       "    </tr>\n",
       "    <tr>\n",
       "      <th>82040</th>\n",
       "      <td>CIRIST'S COLLEGE</td>\n",
       "      <td>GEN</td>\n",
       "      <td>SPE</td>\n",
       "      <td>60079645.0</td>\n",
       "    </tr>\n",
       "    <tr>\n",
       "      <th>49107</th>\n",
       "      <td>IRC in Su 3Erconductivity</td>\n",
       "      <td>GEN</td>\n",
       "      <td>SPE</td>\n",
       "      <td>60081454.0</td>\n",
       "    </tr>\n",
       "    <tr>\n",
       "      <th>85147</th>\n",
       "      <td>Res. Ctr. for Engl. and Appl. Ling.</td>\n",
       "      <td>GEN</td>\n",
       "      <td>SPE</td>\n",
       "      <td>60081623.0</td>\n",
       "    </tr>\n",
       "    <tr>\n",
       "      <th>43966</th>\n",
       "      <td>International Coastal Research Center</td>\n",
       "      <td>GEN</td>\n",
       "      <td>SPE</td>\n",
       "      <td>60081731.0</td>\n",
       "    </tr>\n",
       "    <tr>\n",
       "      <th>25084</th>\n",
       "      <td>Research Institute of Mathematical Sciences (R...</td>\n",
       "      <td>GEN</td>\n",
       "      <td>SPE</td>\n",
       "      <td>60082699.0</td>\n",
       "    </tr>\n",
       "    <tr>\n",
       "      <th>34359</th>\n",
       "      <td>Wojsk. Inst.</td>\n",
       "      <td>GEN</td>\n",
       "      <td>SPE</td>\n",
       "      <td>60087273.0</td>\n",
       "    </tr>\n",
       "    <tr>\n",
       "      <th>12513</th>\n",
       "      <td>USC</td>\n",
       "      <td>GEN</td>\n",
       "      <td>SPE</td>\n",
       "      <td>60088268.0</td>\n",
       "    </tr>\n",
       "    <tr>\n",
       "      <th>9323</th>\n",
       "      <td>Owen's College</td>\n",
       "      <td>GEN</td>\n",
       "      <td>SPE</td>\n",
       "      <td>60090159.0</td>\n",
       "    </tr>\n",
       "    <tr>\n",
       "      <th>36358</th>\n",
       "      <td>Owens College</td>\n",
       "      <td>GEN</td>\n",
       "      <td>SPE</td>\n",
       "      <td>60090159.0</td>\n",
       "    </tr>\n",
       "    <tr>\n",
       "      <th>88837</th>\n",
       "      <td>CAS</td>\n",
       "      <td>GEN</td>\n",
       "      <td>SPE</td>\n",
       "      <td>60096986.0</td>\n",
       "    </tr>\n",
       "    <tr>\n",
       "      <th>83079</th>\n",
       "      <td>ISRC</td>\n",
       "      <td>GEN</td>\n",
       "      <td>SPE</td>\n",
       "      <td>60098517.0</td>\n",
       "    </tr>\n",
       "    <tr>\n",
       "      <th>2000</th>\n",
       "      <td>Cambridge Assessment</td>\n",
       "      <td>GEN</td>\n",
       "      <td>SPE</td>\n",
       "      <td>60099425.0</td>\n",
       "    </tr>\n",
       "    <tr>\n",
       "      <th>41760</th>\n",
       "      <td>King' College</td>\n",
       "      <td>GEN</td>\n",
       "      <td>SPE</td>\n",
       "      <td>60100632.0</td>\n",
       "    </tr>\n",
       "    <tr>\n",
       "      <th>82847</th>\n",
       "      <td>SJCE</td>\n",
       "      <td>GEN</td>\n",
       "      <td>SPE</td>\n",
       "      <td>60100946.0</td>\n",
       "    </tr>\n",
       "    <tr>\n",
       "      <th>22380</th>\n",
       "      <td>St. Edmund’s College Cambridge</td>\n",
       "      <td>GEN</td>\n",
       "      <td>SPE</td>\n",
       "      <td>60101489.0</td>\n",
       "    </tr>\n",
       "    <tr>\n",
       "      <th>27202</th>\n",
       "      <td>Edmund's College</td>\n",
       "      <td>GEN</td>\n",
       "      <td>SPE</td>\n",
       "      <td>60101489.0</td>\n",
       "    </tr>\n",
       "  </tbody>\n",
       "</table>\n",
       "</div>"
      ],
      "text/plain": [
       "                                                   input label  \\\n",
       "26409       State Key Laboratory of Coordinate Chemistry   GEN   \n",
       "25555                 Inst. of Soil Sci. and Plant Nutr.   GEN   \n",
       "42804                                   Christ's College   GEN   \n",
       "6333                                    Christ’s College   GEN   \n",
       "82040                                   CIRIST'S COLLEGE   GEN   \n",
       "49107                          IRC in Su 3Erconductivity   GEN   \n",
       "85147                Res. Ctr. for Engl. and Appl. Ling.   GEN   \n",
       "43966              International Coastal Research Center   GEN   \n",
       "25084  Research Institute of Mathematical Sciences (R...   GEN   \n",
       "34359                                       Wojsk. Inst.   GEN   \n",
       "12513                                                USC   GEN   \n",
       "9323                                      Owen's College   GEN   \n",
       "36358                                      Owens College   GEN   \n",
       "88837                                                CAS   GEN   \n",
       "83079                                               ISRC   GEN   \n",
       "2000                                Cambridge Assessment   GEN   \n",
       "41760                                      King' College   GEN   \n",
       "82847                                               SJCE   GEN   \n",
       "22380                     St. Edmund’s College Cambridge   GEN   \n",
       "27202                                   Edmund's College   GEN   \n",
       "\n",
       "      hybrid-linear-weighted          id  \n",
       "26409                    SPE  60073599.0  \n",
       "25555                    SPE  60073761.0  \n",
       "42804                    SPE  60079645.0  \n",
       "6333                     SPE  60079645.0  \n",
       "82040                    SPE  60079645.0  \n",
       "49107                    SPE  60081454.0  \n",
       "85147                    SPE  60081623.0  \n",
       "43966                    SPE  60081731.0  \n",
       "25084                    SPE  60082699.0  \n",
       "34359                    SPE  60087273.0  \n",
       "12513                    SPE  60088268.0  \n",
       "9323                     SPE  60090159.0  \n",
       "36358                    SPE  60090159.0  \n",
       "88837                    SPE  60096986.0  \n",
       "83079                    SPE  60098517.0  \n",
       "2000                     SPE  60099425.0  \n",
       "41760                    SPE  60100632.0  \n",
       "82847                    SPE  60100946.0  \n",
       "22380                    SPE  60101489.0  \n",
       "27202                    SPE  60101489.0  "
      ]
     },
     "execution_count": 46,
     "metadata": {},
     "output_type": "execute_result"
    }
   ],
   "source": [
    "errors_sorted = errors.sort_values('id')\n",
    "errors_sorted.iloc[200:220]"
   ]
  },
  {
   "cell_type": "code",
   "execution_count": 47,
   "metadata": {},
   "outputs": [
    {
     "data": {
      "text/html": [
       "<div>\n",
       "<style scoped>\n",
       "    .dataframe tbody tr th:only-of-type {\n",
       "        vertical-align: middle;\n",
       "    }\n",
       "\n",
       "    .dataframe tbody tr th {\n",
       "        vertical-align: top;\n",
       "    }\n",
       "\n",
       "    .dataframe thead th {\n",
       "        text-align: right;\n",
       "    }\n",
       "</style>\n",
       "<table border=\"1\" class=\"dataframe\">\n",
       "  <thead>\n",
       "    <tr style=\"text-align: right;\">\n",
       "      <th></th>\n",
       "      <th>input</th>\n",
       "      <th>label</th>\n",
       "      <th>hybrid-linear-weighted</th>\n",
       "      <th>id</th>\n",
       "    </tr>\n",
       "  </thead>\n",
       "  <tbody>\n",
       "    <tr>\n",
       "      <th>61947</th>\n",
       "      <td>Sedgwick Museum</td>\n",
       "      <td>GEN</td>\n",
       "      <td>SPE</td>\n",
       "      <td>60119738.0</td>\n",
       "    </tr>\n",
       "    <tr>\n",
       "      <th>81845</th>\n",
       "      <td>Sedgwick Muesum</td>\n",
       "      <td>GEN</td>\n",
       "      <td>SPE</td>\n",
       "      <td>60119738.0</td>\n",
       "    </tr>\n",
       "    <tr>\n",
       "      <th>59717</th>\n",
       "      <td>Museum Archaeology/Anthropology</td>\n",
       "      <td>GEN</td>\n",
       "      <td>SPE</td>\n",
       "      <td>60119744.0</td>\n",
       "    </tr>\n",
       "    <tr>\n",
       "      <th>36824</th>\n",
       "      <td>University Medical Laser Centre</td>\n",
       "      <td>GEN</td>\n",
       "      <td>SPE</td>\n",
       "      <td>60119746.0</td>\n",
       "    </tr>\n",
       "    <tr>\n",
       "      <th>64117</th>\n",
       "      <td>Aero-Acoust. Noise Contr. L.</td>\n",
       "      <td>GEN</td>\n",
       "      <td>SPE</td>\n",
       "      <td>60119752.0</td>\n",
       "    </tr>\n",
       "    <tr>\n",
       "      <th>54032</th>\n",
       "      <td>Asia Centre</td>\n",
       "      <td>GEN</td>\n",
       "      <td>SPE</td>\n",
       "      <td>60119781.0</td>\n",
       "    </tr>\n",
       "    <tr>\n",
       "      <th>70390</th>\n",
       "      <td>Institute for Molecular Biology and Genetics (...</td>\n",
       "      <td>GEN</td>\n",
       "      <td>SPE</td>\n",
       "      <td>60119800.0</td>\n",
       "    </tr>\n",
       "    <tr>\n",
       "      <th>7665</th>\n",
       "      <td>Institute of Molecular Biology and Genetics (I...</td>\n",
       "      <td>GEN</td>\n",
       "      <td>SPE</td>\n",
       "      <td>60119800.0</td>\n",
       "    </tr>\n",
       "    <tr>\n",
       "      <th>61415</th>\n",
       "      <td>University Museum</td>\n",
       "      <td>GEN</td>\n",
       "      <td>SPE</td>\n",
       "      <td>60119827.0</td>\n",
       "    </tr>\n",
       "    <tr>\n",
       "      <th>21278</th>\n",
       "      <td>FSERC</td>\n",
       "      <td>GEN</td>\n",
       "      <td>SPE</td>\n",
       "      <td>60119828.0</td>\n",
       "    </tr>\n",
       "    <tr>\n",
       "      <th>61424</th>\n",
       "      <td>Fukui Institute for</td>\n",
       "      <td>GEN</td>\n",
       "      <td>SPE</td>\n",
       "      <td>60119831.0</td>\n",
       "    </tr>\n",
       "    <tr>\n",
       "      <th>5382</th>\n",
       "      <td>Ctr./Urban Policy Research</td>\n",
       "      <td>GEN</td>\n",
       "      <td>SPE</td>\n",
       "      <td>60119856.0</td>\n",
       "    </tr>\n",
       "    <tr>\n",
       "      <th>51304</th>\n",
       "      <td>Research Institute for Fundamental Physics (RIFP)</td>\n",
       "      <td>GEN</td>\n",
       "      <td>SPE</td>\n",
       "      <td>60119872.0</td>\n",
       "    </tr>\n",
       "    <tr>\n",
       "      <th>79061</th>\n",
       "      <td>RIFP</td>\n",
       "      <td>GEN</td>\n",
       "      <td>SPE</td>\n",
       "      <td>60119872.0</td>\n",
       "    </tr>\n",
       "    <tr>\n",
       "      <th>78854</th>\n",
       "      <td>Reactor Research Institute</td>\n",
       "      <td>GEN</td>\n",
       "      <td>SPE</td>\n",
       "      <td>60119873.0</td>\n",
       "    </tr>\n",
       "    <tr>\n",
       "      <th>15564</th>\n",
       "      <td>Research Reactor Institute Kumatori</td>\n",
       "      <td>GEN</td>\n",
       "      <td>SPE</td>\n",
       "      <td>60119873.0</td>\n",
       "    </tr>\n",
       "    <tr>\n",
       "      <th>45397</th>\n",
       "      <td>Reseach Reactor Institute</td>\n",
       "      <td>GEN</td>\n",
       "      <td>SPE</td>\n",
       "      <td>60119873.0</td>\n",
       "    </tr>\n",
       "    <tr>\n",
       "      <th>76718</th>\n",
       "      <td>Research Reacter Institute</td>\n",
       "      <td>GEN</td>\n",
       "      <td>SPE</td>\n",
       "      <td>60119873.0</td>\n",
       "    </tr>\n",
       "    <tr>\n",
       "      <th>6819</th>\n",
       "      <td>Research Reactor t Institute</td>\n",
       "      <td>GEN</td>\n",
       "      <td>SPE</td>\n",
       "      <td>60119873.0</td>\n",
       "    </tr>\n",
       "    <tr>\n",
       "      <th>70174</th>\n",
       "      <td>Cambridge Faculty of Law</td>\n",
       "      <td>GEN</td>\n",
       "      <td>SPE</td>\n",
       "      <td>60119924.0</td>\n",
       "    </tr>\n",
       "  </tbody>\n",
       "</table>\n",
       "</div>"
      ],
      "text/plain": [
       "                                                   input label  \\\n",
       "61947                                    Sedgwick Museum   GEN   \n",
       "81845                                    Sedgwick Muesum   GEN   \n",
       "59717                    Museum Archaeology/Anthropology   GEN   \n",
       "36824                    University Medical Laser Centre   GEN   \n",
       "64117                       Aero-Acoust. Noise Contr. L.   GEN   \n",
       "54032                                        Asia Centre   GEN   \n",
       "70390  Institute for Molecular Biology and Genetics (...   GEN   \n",
       "7665   Institute of Molecular Biology and Genetics (I...   GEN   \n",
       "61415                                  University Museum   GEN   \n",
       "21278                                              FSERC   GEN   \n",
       "61424                                Fukui Institute for   GEN   \n",
       "5382                          Ctr./Urban Policy Research   GEN   \n",
       "51304  Research Institute for Fundamental Physics (RIFP)   GEN   \n",
       "79061                                               RIFP   GEN   \n",
       "78854                         Reactor Research Institute   GEN   \n",
       "15564                Research Reactor Institute Kumatori   GEN   \n",
       "45397                          Reseach Reactor Institute   GEN   \n",
       "76718                         Research Reacter Institute   GEN   \n",
       "6819                        Research Reactor t Institute   GEN   \n",
       "70174                           Cambridge Faculty of Law   GEN   \n",
       "\n",
       "      hybrid-linear-weighted          id  \n",
       "61947                    SPE  60119738.0  \n",
       "81845                    SPE  60119738.0  \n",
       "59717                    SPE  60119744.0  \n",
       "36824                    SPE  60119746.0  \n",
       "64117                    SPE  60119752.0  \n",
       "54032                    SPE  60119781.0  \n",
       "70390                    SPE  60119800.0  \n",
       "7665                     SPE  60119800.0  \n",
       "61415                    SPE  60119827.0  \n",
       "21278                    SPE  60119828.0  \n",
       "61424                    SPE  60119831.0  \n",
       "5382                     SPE  60119856.0  \n",
       "51304                    SPE  60119872.0  \n",
       "79061                    SPE  60119872.0  \n",
       "78854                    SPE  60119873.0  \n",
       "15564                    SPE  60119873.0  \n",
       "45397                    SPE  60119873.0  \n",
       "76718                    SPE  60119873.0  \n",
       "6819                     SPE  60119873.0  \n",
       "70174                    SPE  60119924.0  "
      ]
     },
     "execution_count": 47,
     "metadata": {},
     "output_type": "execute_result"
    }
   ],
   "source": [
    "errors_sorted.iloc[390:410]"
   ]
  },
  {
   "cell_type": "markdown",
   "metadata": {},
   "source": [
    "## How much do multilingual dicts change the results?"
   ]
  },
  {
   "cell_type": "code",
   "execution_count": 48,
   "metadata": {},
   "outputs": [],
   "source": [
    "test_sample['changed_by_multiling'] = (test_sample['+ acronym rule'] != test_sample['+ multilingual'])"
   ]
  },
  {
   "cell_type": "code",
   "execution_count": 49,
   "metadata": {},
   "outputs": [
    {
     "data": {
      "text/plain": [
       "0.0017415805120468563"
      ]
     },
     "execution_count": 49,
     "metadata": {},
     "output_type": "execute_result"
    }
   ],
   "source": [
    "test_sample['changed_by_multiling'].mean()"
   ]
  },
  {
   "cell_type": "code",
   "execution_count": 50,
   "metadata": {},
   "outputs": [
    {
     "data": {
      "text/plain": [
       "False    47446\n",
       "True       130\n",
       "Name: changed_by_multiling, dtype: int64"
      ]
     },
     "execution_count": 50,
     "metadata": {},
     "output_type": "execute_result"
    }
   ],
   "source": [
    "test_sample[test_sample['+ acronym rule']=='GEN'].changed_by_multiling.value_counts()"
   ]
  },
  {
   "cell_type": "code",
   "execution_count": 51,
   "metadata": {},
   "outputs": [
    {
     "data": {
      "text/plain": [
       "False    42545\n",
       "True        27\n",
       "Name: changed_by_multiling, dtype: int64"
      ]
     },
     "execution_count": 51,
     "metadata": {},
     "output_type": "execute_result"
    }
   ],
   "source": [
    "test_sample[test_sample['+ acronym rule']=='SPE'].changed_by_multiling.value_counts()"
   ]
  },
  {
   "cell_type": "markdown",
   "metadata": {},
   "source": [
    "## How much do machine learning models change the results?"
   ]
  },
  {
   "cell_type": "code",
   "execution_count": 52,
   "metadata": {},
   "outputs": [],
   "source": [
    "test_sample['changed_by_hybrid'] = (test_sample[cl_col] != test_sample['+ multilingual'])"
   ]
  },
  {
   "cell_type": "code",
   "execution_count": 53,
   "metadata": {},
   "outputs": [
    {
     "data": {
      "text/plain": [
       "False    26480\n",
       "True     20993\n",
       "Name: changed_by_hybrid, dtype: int64"
      ]
     },
     "execution_count": 53,
     "metadata": {},
     "output_type": "execute_result"
    }
   ],
   "source": [
    "test_sample[test_sample['+ multilingual']=='GEN'].changed_by_hybrid.value_counts()"
   ]
  },
  {
   "cell_type": "code",
   "execution_count": 54,
   "metadata": {},
   "outputs": [
    {
     "data": {
      "text/plain": [
       "False    39532\n",
       "True      3143\n",
       "Name: changed_by_hybrid, dtype: int64"
      ]
     },
     "execution_count": 54,
     "metadata": {},
     "output_type": "execute_result"
    }
   ],
   "source": [
    "test_sample[test_sample['+ multilingual']=='SPE'].changed_by_hybrid.value_counts()"
   ]
  },
  {
   "cell_type": "markdown",
   "metadata": {},
   "source": [
    "## Distribution of 2 classes"
   ]
  },
  {
   "cell_type": "code",
   "execution_count": 55,
   "metadata": {},
   "outputs": [
    {
     "data": {
      "text/plain": [
       "Index(['input', 'id', 'label', 'numdocs', 'orig', 'modified', '+ acronym rule',\n",
       "       '+ multilingual', '+ us zipcode', 'hybrid-linear',\n",
       "       'hybrid-linear-weighted', 'changed_by_multiling', 'changed_by_hybrid'],\n",
       "      dtype='object')"
      ]
     },
     "execution_count": 55,
     "metadata": {},
     "output_type": "execute_result"
    }
   ],
   "source": [
    "test_sample.columns"
   ]
  },
  {
   "cell_type": "code",
   "execution_count": 56,
   "metadata": {},
   "outputs": [],
   "source": [
    "systems = ['silver_standard', 'orig', 'modified', \n",
    "           '+ acronym rule', '+ multilingual', '+ us zipcode',\n",
    "           'hybrid-linear', 'hybrid-linear-weighted']\n",
    "test_sample_melt = (test_sample.rename(columns={'label': 'silver_standard'})\n",
    "                    .melt(id_vars='input', value_vars=systems, var_name='system', value_name='label'))"
   ]
  },
  {
   "cell_type": "code",
   "execution_count": 57,
   "metadata": {},
   "outputs": [],
   "source": [
    "counts_by_system = test_sample_melt.groupby(['system', 'label'])['input'].count().unstack('label')"
   ]
  },
  {
   "cell_type": "code",
   "execution_count": 58,
   "metadata": {},
   "outputs": [
    {
     "data": {
      "image/png": "[encoded data removed]",
      "text/plain": [
       "<Figure size 432x288 with 1 Axes>"
      ]
     },
     "metadata": {
      "needs_background": "light"
     },
     "output_type": "display_data"
    }
   ],
   "source": [
    "_ = counts_by_system.loc[systems].plot.bar(stacked=True)"
   ]
  },
  {
   "cell_type": "code",
   "execution_count": 66,
   "metadata": {},
   "outputs": [
    {
     "data": {
      "text/plain": [
       "label\n",
       "GEN    0.005591\n",
       "SPE   -0.005591\n",
       "dtype: float64"
      ]
     },
     "execution_count": 66,
     "metadata": {},
     "output_type": "execute_result"
    }
   ],
   "source": [
    "(counts_by_system.loc['hybrid-linear'] - counts_by_system.loc['silver_standard'])/len(test_sample)"
   ]
  },
  {
   "cell_type": "markdown",
   "metadata": {},
   "source": [
    "# Measure feature overhead"
   ]
  },
  {
   "cell_type": "code",
   "execution_count": 61,
   "metadata": {},
   "outputs": [],
   "source": [
    "feature_extractor = joblib.load('output/feature_extractor-linear.pkl')"
   ]
  },
  {
   "cell_type": "code",
   "execution_count": 62,
   "metadata": {},
   "outputs": [],
   "source": [
    "hybrid_classifier = joblib.load('output/hybrid_classifier-linear-weighted.pkl')"
   ]
  },
  {
   "cell_type": "code",
   "execution_count": 63,
   "metadata": {},
   "outputs": [],
   "source": [
    "test_200k['preprocessed_input'] = test_200k.input.apply(hybrid_classifier.rule_classifier.preprocess)\n",
    "test_200k['rule_predictions'] = test_200k.preprocessed_input.apply(hybrid_classifier._apply_rules)"
   ]
  },
  {
   "cell_type": "code",
   "execution_count": 64,
   "metadata": {},
   "outputs": [
    {
     "ename": "ValueError",
     "evalue": "operands could not be broadcast together with shapes (90148,11) (13,) ",
     "output_type": "error",
     "traceback": [
      "\u001b[0;31m---------------------------------------------------------------------------\u001b[0m",
      "\u001b[0;31mValueError\u001b[0m                                Traceback (most recent call last)",
      "\u001b[0;32m<ipython-input-64-c73eb3b49af7>\u001b[0m in \u001b[0;36m<module>\u001b[0;34m\u001b[0m\n\u001b[0;32m----> 1\u001b[0;31m \u001b[0mfeatures\u001b[0m \u001b[0;34m=\u001b[0m \u001b[0mfeature_extractor\u001b[0m\u001b[0;34m.\u001b[0m\u001b[0mtransform\u001b[0m\u001b[0;34m(\u001b[0m\u001b[0;34m(\u001b[0m\u001b[0mtest_200k\u001b[0m\u001b[0;34m.\u001b[0m\u001b[0minput\u001b[0m\u001b[0;34m,\u001b[0m \u001b[0mtest_200k\u001b[0m\u001b[0;34m.\u001b[0m\u001b[0mrule_predictions\u001b[0m\u001b[0;34m)\u001b[0m\u001b[0;34m)\u001b[0m\u001b[0;34m\u001b[0m\u001b[0;34m\u001b[0m\u001b[0m\n\u001b[0m",
      "\u001b[0;32m//anaconda2/envs/generic-classifier/lib/python3.6/site-packages/sklearn/pipeline.py\u001b[0m in \u001b[0;36mtransform\u001b[0;34m(self, X)\u001b[0m\n\u001b[1;32m    958\u001b[0m         Xs = Parallel(n_jobs=self.n_jobs)(\n\u001b[1;32m    959\u001b[0m             \u001b[0mdelayed\u001b[0m\u001b[0;34m(\u001b[0m\u001b[0m_transform_one\u001b[0m\u001b[0;34m)\u001b[0m\u001b[0;34m(\u001b[0m\u001b[0mtrans\u001b[0m\u001b[0;34m,\u001b[0m \u001b[0mX\u001b[0m\u001b[0;34m,\u001b[0m \u001b[0;32mNone\u001b[0m\u001b[0;34m,\u001b[0m \u001b[0mweight\u001b[0m\u001b[0;34m)\u001b[0m\u001b[0;34m\u001b[0m\u001b[0;34m\u001b[0m\u001b[0m\n\u001b[0;32m--> 960\u001b[0;31m             for name, trans, weight in self._iter())\n\u001b[0m\u001b[1;32m    961\u001b[0m         \u001b[0;32mif\u001b[0m \u001b[0;32mnot\u001b[0m \u001b[0mXs\u001b[0m\u001b[0;34m:\u001b[0m\u001b[0;34m\u001b[0m\u001b[0;34m\u001b[0m\u001b[0m\n\u001b[1;32m    962\u001b[0m             \u001b[0;31m# All transformers are None\u001b[0m\u001b[0;34m\u001b[0m\u001b[0;34m\u001b[0m\u001b[0;34m\u001b[0m\u001b[0m\n",
      "\u001b[0;32m//anaconda2/envs/generic-classifier/lib/python3.6/site-packages/joblib/parallel.py\u001b[0m in \u001b[0;36m__call__\u001b[0;34m(self, iterable)\u001b[0m\n\u001b[1;32m   1004\u001b[0m                 \u001b[0mself\u001b[0m\u001b[0;34m.\u001b[0m\u001b[0m_iterating\u001b[0m \u001b[0;34m=\u001b[0m \u001b[0mself\u001b[0m\u001b[0;34m.\u001b[0m\u001b[0m_original_iterator\u001b[0m \u001b[0;32mis\u001b[0m \u001b[0;32mnot\u001b[0m \u001b[0;32mNone\u001b[0m\u001b[0;34m\u001b[0m\u001b[0;34m\u001b[0m\u001b[0m\n\u001b[1;32m   1005\u001b[0m \u001b[0;34m\u001b[0m\u001b[0m\n\u001b[0;32m-> 1006\u001b[0;31m             \u001b[0;32mwhile\u001b[0m \u001b[0mself\u001b[0m\u001b[0;34m.\u001b[0m\u001b[0mdispatch_one_batch\u001b[0m\u001b[0;34m(\u001b[0m\u001b[0miterator\u001b[0m\u001b[0;34m)\u001b[0m\u001b[0;34m:\u001b[0m\u001b[0;34m\u001b[0m\u001b[0;34m\u001b[0m\u001b[0m\n\u001b[0m\u001b[1;32m   1007\u001b[0m                 \u001b[0;32mpass\u001b[0m\u001b[0;34m\u001b[0m\u001b[0;34m\u001b[0m\u001b[0m\n\u001b[1;32m   1008\u001b[0m \u001b[0;34m\u001b[0m\u001b[0m\n",
      "\u001b[0;32m//anaconda2/envs/generic-classifier/lib/python3.6/site-packages/joblib/parallel.py\u001b[0m in \u001b[0;36mdispatch_one_batch\u001b[0;34m(self, iterator)\u001b[0m\n\u001b[1;32m    832\u001b[0m                 \u001b[0;32mreturn\u001b[0m \u001b[0;32mFalse\u001b[0m\u001b[0;34m\u001b[0m\u001b[0;34m\u001b[0m\u001b[0m\n\u001b[1;32m    833\u001b[0m             \u001b[0;32melse\u001b[0m\u001b[0;34m:\u001b[0m\u001b[0;34m\u001b[0m\u001b[0;34m\u001b[0m\u001b[0m\n\u001b[0;32m--> 834\u001b[0;31m                 \u001b[0mself\u001b[0m\u001b[0;34m.\u001b[0m\u001b[0m_dispatch\u001b[0m\u001b[0;34m(\u001b[0m\u001b[0mtasks\u001b[0m\u001b[0;34m)\u001b[0m\u001b[0;34m\u001b[0m\u001b[0;34m\u001b[0m\u001b[0m\n\u001b[0m\u001b[1;32m    835\u001b[0m                 \u001b[0;32mreturn\u001b[0m \u001b[0;32mTrue\u001b[0m\u001b[0;34m\u001b[0m\u001b[0;34m\u001b[0m\u001b[0m\n\u001b[1;32m    836\u001b[0m \u001b[0;34m\u001b[0m\u001b[0m\n",
      "\u001b[0;32m//anaconda2/envs/generic-classifier/lib/python3.6/site-packages/joblib/parallel.py\u001b[0m in \u001b[0;36m_dispatch\u001b[0;34m(self, batch)\u001b[0m\n\u001b[1;32m    751\u001b[0m         \u001b[0;32mwith\u001b[0m \u001b[0mself\u001b[0m\u001b[0;34m.\u001b[0m\u001b[0m_lock\u001b[0m\u001b[0;34m:\u001b[0m\u001b[0;34m\u001b[0m\u001b[0;34m\u001b[0m\u001b[0m\n\u001b[1;32m    752\u001b[0m             \u001b[0mjob_idx\u001b[0m \u001b[0;34m=\u001b[0m \u001b[0mlen\u001b[0m\u001b[0;34m(\u001b[0m\u001b[0mself\u001b[0m\u001b[0;34m.\u001b[0m\u001b[0m_jobs\u001b[0m\u001b[0;34m)\u001b[0m\u001b[0;34m\u001b[0m\u001b[0;34m\u001b[0m\u001b[0m\n\u001b[0;32m--> 753\u001b[0;31m             \u001b[0mjob\u001b[0m \u001b[0;34m=\u001b[0m \u001b[0mself\u001b[0m\u001b[0;34m.\u001b[0m\u001b[0m_backend\u001b[0m\u001b[0;34m.\u001b[0m\u001b[0mapply_async\u001b[0m\u001b[0;34m(\u001b[0m\u001b[0mbatch\u001b[0m\u001b[0;34m,\u001b[0m \u001b[0mcallback\u001b[0m\u001b[0;34m=\u001b[0m\u001b[0mcb\u001b[0m\u001b[0;34m)\u001b[0m\u001b[0;34m\u001b[0m\u001b[0;34m\u001b[0m\u001b[0m\n\u001b[0m\u001b[1;32m    754\u001b[0m             \u001b[0;31m# A job can complete so quickly than its callback is\u001b[0m\u001b[0;34m\u001b[0m\u001b[0;34m\u001b[0m\u001b[0;34m\u001b[0m\u001b[0m\n\u001b[1;32m    755\u001b[0m             \u001b[0;31m# called before we get here, causing self._jobs to\u001b[0m\u001b[0;34m\u001b[0m\u001b[0;34m\u001b[0m\u001b[0;34m\u001b[0m\u001b[0m\n",
      "\u001b[0;32m//anaconda2/envs/generic-classifier/lib/python3.6/site-packages/joblib/_parallel_backends.py\u001b[0m in \u001b[0;36mapply_async\u001b[0;34m(self, func, callback)\u001b[0m\n\u001b[1;32m    199\u001b[0m     \u001b[0;32mdef\u001b[0m \u001b[0mapply_async\u001b[0m\u001b[0;34m(\u001b[0m\u001b[0mself\u001b[0m\u001b[0;34m,\u001b[0m \u001b[0mfunc\u001b[0m\u001b[0;34m,\u001b[0m \u001b[0mcallback\u001b[0m\u001b[0;34m=\u001b[0m\u001b[0;32mNone\u001b[0m\u001b[0;34m)\u001b[0m\u001b[0;34m:\u001b[0m\u001b[0;34m\u001b[0m\u001b[0;34m\u001b[0m\u001b[0m\n\u001b[1;32m    200\u001b[0m         \u001b[0;34m\"\"\"Schedule a func to be run\"\"\"\u001b[0m\u001b[0;34m\u001b[0m\u001b[0;34m\u001b[0m\u001b[0m\n\u001b[0;32m--> 201\u001b[0;31m         \u001b[0mresult\u001b[0m \u001b[0;34m=\u001b[0m \u001b[0mImmediateResult\u001b[0m\u001b[0;34m(\u001b[0m\u001b[0mfunc\u001b[0m\u001b[0;34m)\u001b[0m\u001b[0;34m\u001b[0m\u001b[0;34m\u001b[0m\u001b[0m\n\u001b[0m\u001b[1;32m    202\u001b[0m         \u001b[0;32mif\u001b[0m \u001b[0mcallback\u001b[0m\u001b[0;34m:\u001b[0m\u001b[0;34m\u001b[0m\u001b[0;34m\u001b[0m\u001b[0m\n\u001b[1;32m    203\u001b[0m             \u001b[0mcallback\u001b[0m\u001b[0;34m(\u001b[0m\u001b[0mresult\u001b[0m\u001b[0;34m)\u001b[0m\u001b[0;34m\u001b[0m\u001b[0;34m\u001b[0m\u001b[0m\n",
      "\u001b[0;32m//anaconda2/envs/generic-classifier/lib/python3.6/site-packages/joblib/_parallel_backends.py\u001b[0m in \u001b[0;36m__init__\u001b[0;34m(self, batch)\u001b[0m\n\u001b[1;32m    580\u001b[0m         \u001b[0;31m# Don't delay the application, to avoid keeping the input\u001b[0m\u001b[0;34m\u001b[0m\u001b[0;34m\u001b[0m\u001b[0;34m\u001b[0m\u001b[0m\n\u001b[1;32m    581\u001b[0m         \u001b[0;31m# arguments in memory\u001b[0m\u001b[0;34m\u001b[0m\u001b[0;34m\u001b[0m\u001b[0;34m\u001b[0m\u001b[0m\n\u001b[0;32m--> 582\u001b[0;31m         \u001b[0mself\u001b[0m\u001b[0;34m.\u001b[0m\u001b[0mresults\u001b[0m \u001b[0;34m=\u001b[0m \u001b[0mbatch\u001b[0m\u001b[0;34m(\u001b[0m\u001b[0;34m)\u001b[0m\u001b[0;34m\u001b[0m\u001b[0;34m\u001b[0m\u001b[0m\n\u001b[0m\u001b[1;32m    583\u001b[0m \u001b[0;34m\u001b[0m\u001b[0m\n\u001b[1;32m    584\u001b[0m     \u001b[0;32mdef\u001b[0m \u001b[0mget\u001b[0m\u001b[0;34m(\u001b[0m\u001b[0mself\u001b[0m\u001b[0;34m)\u001b[0m\u001b[0;34m:\u001b[0m\u001b[0;34m\u001b[0m\u001b[0;34m\u001b[0m\u001b[0m\n",
      "\u001b[0;32m//anaconda2/envs/generic-classifier/lib/python3.6/site-packages/joblib/parallel.py\u001b[0m in \u001b[0;36m__call__\u001b[0;34m(self)\u001b[0m\n\u001b[1;32m    254\u001b[0m         \u001b[0;32mwith\u001b[0m \u001b[0mparallel_backend\u001b[0m\u001b[0;34m(\u001b[0m\u001b[0mself\u001b[0m\u001b[0;34m.\u001b[0m\u001b[0m_backend\u001b[0m\u001b[0;34m,\u001b[0m \u001b[0mn_jobs\u001b[0m\u001b[0;34m=\u001b[0m\u001b[0mself\u001b[0m\u001b[0;34m.\u001b[0m\u001b[0m_n_jobs\u001b[0m\u001b[0;34m)\u001b[0m\u001b[0;34m:\u001b[0m\u001b[0;34m\u001b[0m\u001b[0;34m\u001b[0m\u001b[0m\n\u001b[1;32m    255\u001b[0m             return [func(*args, **kwargs)\n\u001b[0;32m--> 256\u001b[0;31m                     for func, args, kwargs in self.items]\n\u001b[0m\u001b[1;32m    257\u001b[0m \u001b[0;34m\u001b[0m\u001b[0m\n\u001b[1;32m    258\u001b[0m     \u001b[0;32mdef\u001b[0m \u001b[0m__len__\u001b[0m\u001b[0;34m(\u001b[0m\u001b[0mself\u001b[0m\u001b[0;34m)\u001b[0m\u001b[0;34m:\u001b[0m\u001b[0;34m\u001b[0m\u001b[0;34m\u001b[0m\u001b[0m\n",
      "\u001b[0;32m//anaconda2/envs/generic-classifier/lib/python3.6/site-packages/joblib/parallel.py\u001b[0m in \u001b[0;36m<listcomp>\u001b[0;34m(.0)\u001b[0m\n\u001b[1;32m    254\u001b[0m         \u001b[0;32mwith\u001b[0m \u001b[0mparallel_backend\u001b[0m\u001b[0;34m(\u001b[0m\u001b[0mself\u001b[0m\u001b[0;34m.\u001b[0m\u001b[0m_backend\u001b[0m\u001b[0;34m,\u001b[0m \u001b[0mn_jobs\u001b[0m\u001b[0;34m=\u001b[0m\u001b[0mself\u001b[0m\u001b[0;34m.\u001b[0m\u001b[0m_n_jobs\u001b[0m\u001b[0;34m)\u001b[0m\u001b[0;34m:\u001b[0m\u001b[0;34m\u001b[0m\u001b[0;34m\u001b[0m\u001b[0m\n\u001b[1;32m    255\u001b[0m             return [func(*args, **kwargs)\n\u001b[0;32m--> 256\u001b[0;31m                     for func, args, kwargs in self.items]\n\u001b[0m\u001b[1;32m    257\u001b[0m \u001b[0;34m\u001b[0m\u001b[0m\n\u001b[1;32m    258\u001b[0m     \u001b[0;32mdef\u001b[0m \u001b[0m__len__\u001b[0m\u001b[0;34m(\u001b[0m\u001b[0mself\u001b[0m\u001b[0;34m)\u001b[0m\u001b[0;34m:\u001b[0m\u001b[0;34m\u001b[0m\u001b[0;34m\u001b[0m\u001b[0m\n",
      "\u001b[0;32m//anaconda2/envs/generic-classifier/lib/python3.6/site-packages/sklearn/pipeline.py\u001b[0m in \u001b[0;36m_transform_one\u001b[0;34m(transformer, X, y, weight, **fit_params)\u001b[0m\n\u001b[1;32m    693\u001b[0m \u001b[0;34m\u001b[0m\u001b[0m\n\u001b[1;32m    694\u001b[0m \u001b[0;32mdef\u001b[0m \u001b[0m_transform_one\u001b[0m\u001b[0;34m(\u001b[0m\u001b[0mtransformer\u001b[0m\u001b[0;34m,\u001b[0m \u001b[0mX\u001b[0m\u001b[0;34m,\u001b[0m \u001b[0my\u001b[0m\u001b[0;34m,\u001b[0m \u001b[0mweight\u001b[0m\u001b[0;34m,\u001b[0m \u001b[0;34m**\u001b[0m\u001b[0mfit_params\u001b[0m\u001b[0;34m)\u001b[0m\u001b[0;34m:\u001b[0m\u001b[0;34m\u001b[0m\u001b[0;34m\u001b[0m\u001b[0m\n\u001b[0;32m--> 695\u001b[0;31m     \u001b[0mres\u001b[0m \u001b[0;34m=\u001b[0m \u001b[0mtransformer\u001b[0m\u001b[0;34m.\u001b[0m\u001b[0mtransform\u001b[0m\u001b[0;34m(\u001b[0m\u001b[0mX\u001b[0m\u001b[0;34m)\u001b[0m\u001b[0;34m\u001b[0m\u001b[0;34m\u001b[0m\u001b[0m\n\u001b[0m\u001b[1;32m    696\u001b[0m     \u001b[0;31m# if we have a weight for this transformer, multiply output\u001b[0m\u001b[0;34m\u001b[0m\u001b[0;34m\u001b[0m\u001b[0;34m\u001b[0m\u001b[0m\n\u001b[1;32m    697\u001b[0m     \u001b[0;32mif\u001b[0m \u001b[0mweight\u001b[0m \u001b[0;32mis\u001b[0m \u001b[0;32mNone\u001b[0m\u001b[0;34m:\u001b[0m\u001b[0;34m\u001b[0m\u001b[0;34m\u001b[0m\u001b[0m\n",
      "\u001b[0;32m//anaconda2/envs/generic-classifier/lib/python3.6/site-packages/sklearn/pipeline.py\u001b[0m in \u001b[0;36m_transform\u001b[0;34m(self, X)\u001b[0m\n\u001b[1;32m    538\u001b[0m         \u001b[0mXt\u001b[0m \u001b[0;34m=\u001b[0m \u001b[0mX\u001b[0m\u001b[0;34m\u001b[0m\u001b[0;34m\u001b[0m\u001b[0m\n\u001b[1;32m    539\u001b[0m         \u001b[0;32mfor\u001b[0m \u001b[0m_\u001b[0m\u001b[0;34m,\u001b[0m \u001b[0m_\u001b[0m\u001b[0;34m,\u001b[0m \u001b[0mtransform\u001b[0m \u001b[0;32min\u001b[0m \u001b[0mself\u001b[0m\u001b[0;34m.\u001b[0m\u001b[0m_iter\u001b[0m\u001b[0;34m(\u001b[0m\u001b[0;34m)\u001b[0m\u001b[0;34m:\u001b[0m\u001b[0;34m\u001b[0m\u001b[0;34m\u001b[0m\u001b[0m\n\u001b[0;32m--> 540\u001b[0;31m             \u001b[0mXt\u001b[0m \u001b[0;34m=\u001b[0m \u001b[0mtransform\u001b[0m\u001b[0;34m.\u001b[0m\u001b[0mtransform\u001b[0m\u001b[0;34m(\u001b[0m\u001b[0mXt\u001b[0m\u001b[0;34m)\u001b[0m\u001b[0;34m\u001b[0m\u001b[0;34m\u001b[0m\u001b[0m\n\u001b[0m\u001b[1;32m    541\u001b[0m         \u001b[0;32mreturn\u001b[0m \u001b[0mXt\u001b[0m\u001b[0;34m\u001b[0m\u001b[0;34m\u001b[0m\u001b[0m\n\u001b[1;32m    542\u001b[0m \u001b[0;34m\u001b[0m\u001b[0m\n",
      "\u001b[0;32m//anaconda2/envs/generic-classifier/lib/python3.6/site-packages/sklearn/preprocessing/_encoders.py\u001b[0m in \u001b[0;36mtransform\u001b[0;34m(self, X)\u001b[0m\n\u001b[1;32m    730\u001b[0m                                        copy=True)\n\u001b[1;32m    731\u001b[0m         \u001b[0;32melse\u001b[0m\u001b[0;34m:\u001b[0m\u001b[0;34m\u001b[0m\u001b[0;34m\u001b[0m\u001b[0m\n\u001b[0;32m--> 732\u001b[0;31m             \u001b[0;32mreturn\u001b[0m \u001b[0mself\u001b[0m\u001b[0;34m.\u001b[0m\u001b[0m_transform_new\u001b[0m\u001b[0;34m(\u001b[0m\u001b[0mX\u001b[0m\u001b[0;34m)\u001b[0m\u001b[0;34m\u001b[0m\u001b[0;34m\u001b[0m\u001b[0m\n\u001b[0m\u001b[1;32m    733\u001b[0m \u001b[0;34m\u001b[0m\u001b[0m\n\u001b[1;32m    734\u001b[0m     \u001b[0;32mdef\u001b[0m \u001b[0minverse_transform\u001b[0m\u001b[0;34m(\u001b[0m\u001b[0mself\u001b[0m\u001b[0;34m,\u001b[0m \u001b[0mX\u001b[0m\u001b[0;34m)\u001b[0m\u001b[0;34m:\u001b[0m\u001b[0;34m\u001b[0m\u001b[0;34m\u001b[0m\u001b[0m\n",
      "\u001b[0;32m//anaconda2/envs/generic-classifier/lib/python3.6/site-packages/sklearn/preprocessing/_encoders.py\u001b[0m in \u001b[0;36m_transform_new\u001b[0;34m(self, X)\u001b[0m\n\u001b[1;32m    698\u001b[0m         \u001b[0mn_values\u001b[0m \u001b[0;34m=\u001b[0m \u001b[0mnp\u001b[0m\u001b[0;34m.\u001b[0m\u001b[0marray\u001b[0m\u001b[0;34m(\u001b[0m\u001b[0;34m[\u001b[0m\u001b[0;36m0\u001b[0m\u001b[0;34m]\u001b[0m \u001b[0;34m+\u001b[0m \u001b[0mn_values\u001b[0m\u001b[0;34m)\u001b[0m\u001b[0;34m\u001b[0m\u001b[0;34m\u001b[0m\u001b[0m\n\u001b[1;32m    699\u001b[0m         \u001b[0mfeature_indices\u001b[0m \u001b[0;34m=\u001b[0m \u001b[0mnp\u001b[0m\u001b[0;34m.\u001b[0m\u001b[0mcumsum\u001b[0m\u001b[0;34m(\u001b[0m\u001b[0mn_values\u001b[0m\u001b[0;34m)\u001b[0m\u001b[0;34m\u001b[0m\u001b[0;34m\u001b[0m\u001b[0m\n\u001b[0;32m--> 700\u001b[0;31m         \u001b[0mindices\u001b[0m \u001b[0;34m=\u001b[0m \u001b[0;34m(\u001b[0m\u001b[0mX_int\u001b[0m \u001b[0;34m+\u001b[0m \u001b[0mfeature_indices\u001b[0m\u001b[0;34m[\u001b[0m\u001b[0;34m:\u001b[0m\u001b[0;34m-\u001b[0m\u001b[0;36m1\u001b[0m\u001b[0;34m]\u001b[0m\u001b[0;34m)\u001b[0m\u001b[0;34m.\u001b[0m\u001b[0mravel\u001b[0m\u001b[0;34m(\u001b[0m\u001b[0;34m)\u001b[0m\u001b[0;34m[\u001b[0m\u001b[0mmask\u001b[0m\u001b[0;34m]\u001b[0m\u001b[0;34m\u001b[0m\u001b[0;34m\u001b[0m\u001b[0m\n\u001b[0m\u001b[1;32m    701\u001b[0m         \u001b[0mindptr\u001b[0m \u001b[0;34m=\u001b[0m \u001b[0mX_mask\u001b[0m\u001b[0;34m.\u001b[0m\u001b[0msum\u001b[0m\u001b[0;34m(\u001b[0m\u001b[0maxis\u001b[0m\u001b[0;34m=\u001b[0m\u001b[0;36m1\u001b[0m\u001b[0;34m)\u001b[0m\u001b[0;34m.\u001b[0m\u001b[0mcumsum\u001b[0m\u001b[0;34m(\u001b[0m\u001b[0;34m)\u001b[0m\u001b[0;34m\u001b[0m\u001b[0;34m\u001b[0m\u001b[0m\n\u001b[1;32m    702\u001b[0m         \u001b[0mindptr\u001b[0m \u001b[0;34m=\u001b[0m \u001b[0mnp\u001b[0m\u001b[0;34m.\u001b[0m\u001b[0minsert\u001b[0m\u001b[0;34m(\u001b[0m\u001b[0mindptr\u001b[0m\u001b[0;34m,\u001b[0m \u001b[0;36m0\u001b[0m\u001b[0;34m,\u001b[0m \u001b[0;36m0\u001b[0m\u001b[0;34m)\u001b[0m\u001b[0;34m\u001b[0m\u001b[0;34m\u001b[0m\u001b[0m\n",
      "\u001b[0;31mValueError\u001b[0m: operands could not be broadcast together with shapes (90148,11) (13,) "
     ]
    }
   ],
   "source": [
    "features = feature_extractor.transform((test_200k.input, test_200k.rule_predictions))"
   ]
  },
  {
   "cell_type": "code",
   "execution_count": null,
   "metadata": {},
   "outputs": [],
   "source": [
    "print('Max number of features:', features.shape[1])"
   ]
  },
  {
   "cell_type": "code",
   "execution_count": null,
   "metadata": {},
   "outputs": [],
   "source": [
    "nnz_by_row = [features[i].getnnz() for i in range(features.shape[0])]"
   ]
  },
  {
   "cell_type": "code",
   "execution_count": null,
   "metadata": {},
   "outputs": [],
   "source": [
    "print('Actual number of features: %.2f (std=%.2f)' %(np.mean(nnz_by_row), np.std(nnz_by_row)))"
   ]
  },
  {
   "cell_type": "code",
   "execution_count": null,
   "metadata": {},
   "outputs": [],
   "source": [
    "density = features.getnnz() / np.prod(features.shape)\n",
    "print('Density:', density)"
   ]
  },
  {
   "cell_type": "code",
   "execution_count": null,
   "metadata": {},
   "outputs": [],
   "source": []
  }
 ],
 "metadata": {
  "kernelspec": {
   "display_name": "Python [conda env:generic-classifier] *",
   "language": "python",
   "name": "conda-env-generic-classifier-py"
  },
  "language_info": {
   "codemirror_mode": {
    "name": "ipython",
    "version": 3
   },
   "file_extension": ".py",
   "mimetype": "text/x-python",
   "name": "python",
   "nbconvert_exporter": "python",
   "pygments_lexer": "ipython3",
   "version": "3.6.9"
  }
 },
 "nbformat": 4,
 "nbformat_minor": 2
}
