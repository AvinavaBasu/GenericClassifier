{
 "cells": [
  {
   "cell_type": "code",
   "execution_count": 1,
   "metadata": {},
   "outputs": [],
   "source": [
    "data_path = '../datasets/grants.train.xml'"
   ]
  },
  {
   "cell_type": "code",
   "execution_count": 2,
   "metadata": {},
   "outputs": [
    {
     "name": "stdout",
     "output_type": "stream",
     "text": [
      "Requirement already satisfied: lxml in /anaconda2/envs/generic-classifier/lib/python3.6/site-packages (4.4.1)\r\n"
     ]
    }
   ],
   "source": [
    "!pip install lxml"
   ]
  },
  {
   "cell_type": "code",
   "execution_count": 3,
   "metadata": {},
   "outputs": [],
   "source": [
    "%matplotlib inline\n",
    "import pandas as pd\n",
    "from lxml import objectify\n",
    "import io"
   ]
  },
  {
   "cell_type": "markdown",
   "metadata": {},
   "source": [
    "# Explore the data"
   ]
  },
  {
   "cell_type": "code",
   "execution_count": 4,
   "metadata": {},
   "outputs": [],
   "source": [
    "def fix_line(line):\n",
    "    fields = line.split('\\t', 5)\n",
    "    assert len(fields) <= 6\n",
    "    fields[-1] = fields[-1].replace('\\t', ' ')\n",
    "    return '\\t'.join(fields)\n",
    "\n",
    "def fix_data_file(path):\n",
    "    with open(path) as f:\n",
    "        lines = [fix_line(l.rstrip()) for l in f]\n",
    "    print(repr('\\n'.join(lines)[:2000]))\n",
    "    return io.StringIO('\\n'.join(lines))"
   ]
  },
  {
   "cell_type": "code",
   "execution_count": 5,
   "metadata": {},
   "outputs": [],
   "source": [
    "column_names = ['id1', 'id2', 'freq', 'org_xml1', 'org_xml2', 'matched_id', 'matched_name']\n",
    "grants_df = pd.read_csv(data_path, header=None, names=column_names, sep='\\t', dtype=str)"
   ]
  },
  {
   "cell_type": "code",
   "execution_count": 6,
   "metadata": {},
   "outputs": [
    {
     "data": {
      "text/html": [
       "<div>\n",
       "<style scoped>\n",
       "    .dataframe tbody tr th:only-of-type {\n",
       "        vertical-align: middle;\n",
       "    }\n",
       "\n",
       "    .dataframe tbody tr th {\n",
       "        vertical-align: top;\n",
       "    }\n",
       "\n",
       "    .dataframe thead th {\n",
       "        text-align: right;\n",
       "    }\n",
       "</style>\n",
       "<table border=\"1\" class=\"dataframe\">\n",
       "  <thead>\n",
       "    <tr style=\"text-align: right;\">\n",
       "      <th></th>\n",
       "      <th>id1</th>\n",
       "      <th>id2</th>\n",
       "      <th>freq</th>\n",
       "      <th>org_xml1</th>\n",
       "      <th>org_xml2</th>\n",
       "      <th>matched_id</th>\n",
       "      <th>matched_name</th>\n",
       "    </tr>\n",
       "  </thead>\n",
       "  <tbody>\n",
       "    <tr>\n",
       "      <th>42</th>\n",
       "      <td>70</td>\n",
       "      <td>92115922202</td>\n",
       "      <td>1</td>\n",
       "      <td>&lt;affiliation country=\"us\"&gt;HEART, LUNG, AND BLO...</td>\n",
       "      <td>&lt;affiliation country=\"us\"&gt;&lt;org type=\"\" id=\"600...</td>\n",
       "      <td>60005281</td>\n",
       "      <td>National Heart, Lung, and Blood Institute</td>\n",
       "    </tr>\n",
       "    <tr>\n",
       "      <th>528</th>\n",
       "      <td>766</td>\n",
       "      <td>90761784802</td>\n",
       "      <td>1</td>\n",
       "      <td>&lt;affiliation country=\"us\"&gt;GEORGIA HEALTH SCIEN...</td>\n",
       "      <td>&lt;affiliation country=\"us\"&gt;&lt;org type=\"\" id=\"600...</td>\n",
       "      <td>60024399</td>\n",
       "      <td>Medical College of Georgia</td>\n",
       "    </tr>\n",
       "    <tr>\n",
       "      <th>1387</th>\n",
       "      <td>1943</td>\n",
       "      <td>90752998802</td>\n",
       "      <td>1</td>\n",
       "      <td>&lt;affiliation country=\"us\"&gt;IHC Health Services,...</td>\n",
       "      <td>&lt;affiliation country=\"us\"&gt;&lt;org type=\"\" id=\"0\"&gt;...</td>\n",
       "      <td>NaN</td>\n",
       "      <td>NaN</td>\n",
       "    </tr>\n",
       "    <tr>\n",
       "      <th>418</th>\n",
       "      <td>598</td>\n",
       "      <td>70916021002</td>\n",
       "      <td>1</td>\n",
       "      <td>&lt;affiliation country=\"us\"&gt;New York State Depar...</td>\n",
       "      <td>&lt;affiliation country=\"us\"&gt;&lt;org type=\"\" id=\"600...</td>\n",
       "      <td>60013040</td>\n",
       "      <td>New York State Department of Transportation</td>\n",
       "    </tr>\n",
       "    <tr>\n",
       "      <th>1436</th>\n",
       "      <td>2008</td>\n",
       "      <td>70424722802</td>\n",
       "      <td>1</td>\n",
       "      <td>&lt;affiliation country=\"us\"&gt;KS Dept of Health &amp;a...</td>\n",
       "      <td>&lt;affiliation country=\"us\"&gt;&lt;org type=\"\" id=\"600...</td>\n",
       "      <td>60014903</td>\n",
       "      <td>Kansas Department of Health and Environment</td>\n",
       "    </tr>\n",
       "    <tr>\n",
       "      <th>1394</th>\n",
       "      <td>1953</td>\n",
       "      <td>82210688802</td>\n",
       "      <td>1</td>\n",
       "      <td>&lt;affiliation country=\"us\"&gt;Miami University, 50...</td>\n",
       "      <td>&lt;affiliation country=\"us\"&gt;&lt;org type=\"\" id=\"600...</td>\n",
       "      <td>60032706</td>\n",
       "      <td>Miami University Oxford</td>\n",
       "    </tr>\n",
       "    <tr>\n",
       "      <th>2723</th>\n",
       "      <td>3864SD</td>\n",
       "      <td>68957929302</td>\n",
       "      <td>1</td>\n",
       "      <td>&lt;affiliation country=\"us\"&gt;MICHIGAN DEPARTMENT ...</td>\n",
       "      <td>&lt;affiliation country=\"us\"&gt;&lt;org type=\"\" id=\"0\"&gt;...</td>\n",
       "      <td>NaN</td>\n",
       "      <td>NaN</td>\n",
       "    </tr>\n",
       "    <tr>\n",
       "      <th>467</th>\n",
       "      <td>677</td>\n",
       "      <td>94670987502</td>\n",
       "      <td>17</td>\n",
       "      <td>&lt;affiliation country=\"de\"&gt;HELMHOLTZ-ZENTRUM GE...</td>\n",
       "      <td>&lt;affiliation country=\"de\"&gt;&lt;org type=\"\" id=\"0\"&gt;...</td>\n",
       "      <td>NaN</td>\n",
       "      <td>NaN</td>\n",
       "    </tr>\n",
       "    <tr>\n",
       "      <th>372</th>\n",
       "      <td>523</td>\n",
       "      <td>70007976602</td>\n",
       "      <td>1</td>\n",
       "      <td>&lt;affiliation country=\"us\"&gt;UNIVERSITY OF ARKANS...</td>\n",
       "      <td>&lt;affiliation country=\"us\"&gt;&lt;org type=\"\" id=\"600...</td>\n",
       "      <td>60024885</td>\n",
       "      <td>University of Arkansas for Medical Sciences</td>\n",
       "    </tr>\n",
       "    <tr>\n",
       "      <th>3188</th>\n",
       "      <td>4531</td>\n",
       "      <td>64090341402</td>\n",
       "      <td>1</td>\n",
       "      <td>&lt;affiliation country=\"us\"&gt;CITY OF DURHAM HOUSI...</td>\n",
       "      <td>&lt;affiliation country=\"us\"&gt;&lt;org type=\"\" id=\"0\"&gt;...</td>\n",
       "      <td>NaN</td>\n",
       "      <td>NaN</td>\n",
       "    </tr>\n",
       "  </tbody>\n",
       "</table>\n",
       "</div>"
      ],
      "text/plain": [
       "         id1          id2 freq  \\\n",
       "42        70  92115922202    1   \n",
       "528      766  90761784802    1   \n",
       "1387    1943  90752998802    1   \n",
       "418      598  70916021002    1   \n",
       "1436    2008  70424722802    1   \n",
       "1394    1953  82210688802    1   \n",
       "2723  3864SD  68957929302    1   \n",
       "467      677  94670987502   17   \n",
       "372      523  70007976602    1   \n",
       "3188    4531  64090341402    1   \n",
       "\n",
       "                                               org_xml1  \\\n",
       "42    <affiliation country=\"us\">HEART, LUNG, AND BLO...   \n",
       "528   <affiliation country=\"us\">GEORGIA HEALTH SCIEN...   \n",
       "1387  <affiliation country=\"us\">IHC Health Services,...   \n",
       "418   <affiliation country=\"us\">New York State Depar...   \n",
       "1436  <affiliation country=\"us\">KS Dept of Health &a...   \n",
       "1394  <affiliation country=\"us\">Miami University, 50...   \n",
       "2723  <affiliation country=\"us\">MICHIGAN DEPARTMENT ...   \n",
       "467   <affiliation country=\"de\">HELMHOLTZ-ZENTRUM GE...   \n",
       "372   <affiliation country=\"us\">UNIVERSITY OF ARKANS...   \n",
       "3188  <affiliation country=\"us\">CITY OF DURHAM HOUSI...   \n",
       "\n",
       "                                               org_xml2 matched_id  \\\n",
       "42    <affiliation country=\"us\"><org type=\"\" id=\"600...   60005281   \n",
       "528   <affiliation country=\"us\"><org type=\"\" id=\"600...   60024399   \n",
       "1387  <affiliation country=\"us\"><org type=\"\" id=\"0\">...        NaN   \n",
       "418   <affiliation country=\"us\"><org type=\"\" id=\"600...   60013040   \n",
       "1436  <affiliation country=\"us\"><org type=\"\" id=\"600...   60014903   \n",
       "1394  <affiliation country=\"us\"><org type=\"\" id=\"600...   60032706   \n",
       "2723  <affiliation country=\"us\"><org type=\"\" id=\"0\">...        NaN   \n",
       "467   <affiliation country=\"de\"><org type=\"\" id=\"0\">...        NaN   \n",
       "372   <affiliation country=\"us\"><org type=\"\" id=\"600...   60024885   \n",
       "3188  <affiliation country=\"us\"><org type=\"\" id=\"0\">...        NaN   \n",
       "\n",
       "                                     matched_name  \n",
       "42      National Heart, Lung, and Blood Institute  \n",
       "528                    Medical College of Georgia  \n",
       "1387                                          NaN  \n",
       "418   New York State Department of Transportation  \n",
       "1436  Kansas Department of Health and Environment  \n",
       "1394                      Miami University Oxford  \n",
       "2723                                          NaN  \n",
       "467                                           NaN  \n",
       "372   University of Arkansas for Medical Sciences  \n",
       "3188                                          NaN  "
      ]
     },
     "execution_count": 6,
     "metadata": {},
     "output_type": "execute_result"
    }
   ],
   "source": [
    "grants_df.sample(10)"
   ]
  },
  {
   "cell_type": "code",
   "execution_count": 7,
   "metadata": {},
   "outputs": [
    {
     "data": {
      "image/png": "[encoded data removed]",
      "text/plain": [
       "<Figure size 432x288 with 1 Axes>"
      ]
     },
     "metadata": {
      "needs_background": "light"
     },
     "output_type": "display_data"
    }
   ],
   "source": [
    "_ = grants_df.freq.astype(int).plot.hist()"
   ]
  },
  {
   "cell_type": "code",
   "execution_count": 8,
   "metadata": {},
   "outputs": [
    {
     "data": {
      "text/html": [
       "<div>\n",
       "<style scoped>\n",
       "    .dataframe tbody tr th:only-of-type {\n",
       "        vertical-align: middle;\n",
       "    }\n",
       "\n",
       "    .dataframe tbody tr th {\n",
       "        vertical-align: top;\n",
       "    }\n",
       "\n",
       "    .dataframe thead th {\n",
       "        text-align: right;\n",
       "    }\n",
       "</style>\n",
       "<table border=\"1\" class=\"dataframe\">\n",
       "  <thead>\n",
       "    <tr style=\"text-align: right;\">\n",
       "      <th></th>\n",
       "      <th>id1</th>\n",
       "      <th>id2</th>\n",
       "      <th>freq</th>\n",
       "      <th>org_xml1</th>\n",
       "      <th>org_xml2</th>\n",
       "      <th>matched_id</th>\n",
       "      <th>matched_name</th>\n",
       "    </tr>\n",
       "  </thead>\n",
       "  <tbody>\n",
       "    <tr>\n",
       "      <th>count</th>\n",
       "      <td>3512</td>\n",
       "      <td>3512</td>\n",
       "      <td>3512</td>\n",
       "      <td>3512</td>\n",
       "      <td>3512</td>\n",
       "      <td>2059</td>\n",
       "      <td>2059</td>\n",
       "    </tr>\n",
       "    <tr>\n",
       "      <th>unique</th>\n",
       "      <td>3512</td>\n",
       "      <td>3512</td>\n",
       "      <td>21</td>\n",
       "      <td>3040</td>\n",
       "      <td>3095</td>\n",
       "      <td>795</td>\n",
       "      <td>795</td>\n",
       "    </tr>\n",
       "    <tr>\n",
       "      <th>top</th>\n",
       "      <td>4016</td>\n",
       "      <td>90749932702</td>\n",
       "      <td>1</td>\n",
       "      <td>&lt;affiliation&gt;World&lt;/affiliation&gt;</td>\n",
       "      <td>&lt;affiliation&gt;World&lt;/affiliation&gt;</td>\n",
       "      <td>60005248</td>\n",
       "      <td>Johns Hopkins University</td>\n",
       "    </tr>\n",
       "    <tr>\n",
       "      <th>freq</th>\n",
       "      <td>1</td>\n",
       "      <td>1</td>\n",
       "      <td>3248</td>\n",
       "      <td>16</td>\n",
       "      <td>16</td>\n",
       "      <td>32</td>\n",
       "      <td>32</td>\n",
       "    </tr>\n",
       "  </tbody>\n",
       "</table>\n",
       "</div>"
      ],
      "text/plain": [
       "         id1          id2  freq                          org_xml1  \\\n",
       "count   3512         3512  3512                              3512   \n",
       "unique  3512         3512    21                              3040   \n",
       "top     4016  90749932702     1  <affiliation>World</affiliation>   \n",
       "freq       1            1  3248                                16   \n",
       "\n",
       "                                org_xml2 matched_id              matched_name  \n",
       "count                               3512       2059                      2059  \n",
       "unique                              3095        795                       795  \n",
       "top     <affiliation>World</affiliation>   60005248  Johns Hopkins University  \n",
       "freq                                  16         32                        32  "
      ]
     },
     "execution_count": 8,
     "metadata": {},
     "output_type": "execute_result"
    }
   ],
   "source": [
    "grants_df.describe()"
   ]
  },
  {
   "cell_type": "code",
   "execution_count": 9,
   "metadata": {},
   "outputs": [
    {
     "data": {
      "text/plain": [
       "Johns Hopkins University                                              32\n",
       "University of Pennsylvania                                            31\n",
       "University of California, Los Angeles                                 26\n",
       "University Michigan Ann Arbor                                         25\n",
       "Washington University in St. Louis                                    22\n",
       "                                                                      ..\n",
       "Community Connections                                                  1\n",
       "Stevens Institute of Technology                                        1\n",
       "Hope College                                                           1\n",
       "Veterans Health Administration, U.S. Department of Veteran Affairs     1\n",
       "University of Tennessee Health Science Center                          1\n",
       "Name: matched_name, Length: 795, dtype: int64"
      ]
     },
     "execution_count": 9,
     "metadata": {},
     "output_type": "execute_result"
    }
   ],
   "source": [
    "grants_df.matched_name.value_counts()"
   ]
  },
  {
   "cell_type": "code",
   "execution_count": 10,
   "metadata": {},
   "outputs": [],
   "source": [
    "def extract_org_str(org_xml):\n",
    "    xml_obj = objectify.parse(io.StringIO(org_xml))\n",
    "    return xml_obj.getroot().text\n",
    "\n",
    "grants_df['org_str'] = grants_df.org_xml1.apply(extract_org_str)"
   ]
  },
  {
   "cell_type": "code",
   "execution_count": 11,
   "metadata": {},
   "outputs": [
    {
     "name": "stdout",
     "output_type": "stream",
     "text": [
      "<affiliation country=\"us\">UNIVERSITY OF ROCHESTER, OBSTETRICS &amp; GYNECOLOGY, ROCHESTER, NY, 146270140</affiliation> \n",
      "--> UNIVERSITY OF ROCHESTER, OBSTETRICS & GYNECOLOGY, ROCHESTER, NY, 146270140\n",
      "<affiliation country=\"us\">INDIANA UNIV-PURDUE UNIV AT INDIANAPOLIS, EMERGENCY MEDICINE, INDIANAPOLIS, IN, 462022915</affiliation> \n",
      "--> INDIANA UNIV-PURDUE UNIV AT INDIANAPOLIS, EMERGENCY MEDICINE, INDIANAPOLIS, IN, 462022915\n",
      "<affiliation country=\"us\">Tides Center</affiliation> \n",
      "--> Tides Center\n",
      "<affiliation country=\"us\">CLINICAL SCIENCES</affiliation> \n",
      "--> CLINICAL SCIENCES\n",
      "<affiliation>Mental Health Advocacy Coalition</affiliation> \n",
      "--> Mental Health Advocacy Coalition\n",
      "<affiliation country=\"us\">York University</affiliation> \n",
      "--> York University\n",
      "<affiliation country=\"us\">Mclean County, 104 W. Front Street, Bloomington, IL, 61701</affiliation> \n",
      "--> Mclean County, 104 W. Front Street, Bloomington, IL, 61701\n",
      "<affiliation country=\"us\">Lehigh University</affiliation> \n",
      "--> Lehigh University\n",
      "<affiliation>University of Alberta, Mechanical Engineering</affiliation> \n",
      "--> University of Alberta, Mechanical Engineering\n",
      "<affiliation country=\"us\">WAYNE STATE UNIVERSITY, DETROIT, MI, 48202</affiliation> \n",
      "--> WAYNE STATE UNIVERSITY, DETROIT, MI, 48202\n"
     ]
    }
   ],
   "source": [
    "_ = grants_df[['org_xml1', 'org_str']].sample(10).apply(lambda row: print(row[0], '\\n-->', row[1]), axis=1)"
   ]
  },
  {
   "cell_type": "markdown",
   "metadata": {},
   "source": [
    "# Run generic classifier through the data"
   ]
  },
  {
   "cell_type": "code",
   "execution_count": 12,
   "metadata": {},
   "outputs": [],
   "source": [
    "import sys\n",
    "sys.path.append('../generic-classifier/')\n",
    "import classifyGenericModified"
   ]
  },
  {
   "cell_type": "code",
   "execution_count": 13,
   "metadata": {},
   "outputs": [
    {
     "name": "stdout",
     "output_type": "stream",
     "text": [
      "Loading dictionary...\n",
      "Loading dictionary done in 26.95 sec.\n"
     ]
    }
   ],
   "source": [
    "grants_df['prediction'] = grants_df.org_str.apply(classifyGenericModified.classifyOrg)"
   ]
  },
  {
   "cell_type": "code",
   "execution_count": 14,
   "metadata": {},
   "outputs": [
    {
     "name": "stdout",
     "output_type": "stream",
     "text": [
      "EMORY UNIVERSITY, ATLANTA, GA, 30322 --> SPE\n",
      "PONCE SCHOOL OF MEDICINE, BIOCHEMISTRY, PONCE, PR, 007327004 --> SPE\n",
      "CLINICAL CENTER --> GEN\n",
      "SOUTHWEST RESEARCH INSTITUTE --> GEN\n",
      "INDIANA UNIV-PURDUE UNIV AT INDIANAPOLIS, MICROBIOLOGY/IMMUN/VIROLOGY, INDIANAPOLIS, IN, 462025167 --> SPE\n",
      "Institut f𲠇eophysik ETH Z𲩣h --> GEN\n",
      "UNIVERSITY OF SOUTHERN CALIFORNIA, LOS ANGELES, CA, 90033 --> SPE\n",
      "CLEVELAND CLINIC FOUNDATION, CLEVELAND, OH, 44195 --> SPE\n",
      "CITY OF ROSWELL, 38 HILL Street, ROSWELL, GA, 300754537 --> SPE\n",
      "University of British Columbia, Electrical and Computer Engineering --> SPE\n"
     ]
    }
   ],
   "source": [
    "_ = grants_df[['org_str', 'prediction']].sample(10).apply(lambda row: print(row[0], '-->', row[1]), axis=1)"
   ]
  },
  {
   "cell_type": "code",
   "execution_count": 15,
   "metadata": {},
   "outputs": [
    {
     "data": {
      "text/plain": [
       "<matplotlib.axes._subplots.AxesSubplot at 0x20c80f828>"
      ]
     },
     "execution_count": 15,
     "metadata": {},
     "output_type": "execute_result"
    },
    {
     "data": {
      "image/png": "[encoded data removed]",
      "text/plain": [
       "<Figure size 432x288 with 1 Axes>"
      ]
     },
     "metadata": {
      "needs_background": "light"
     },
     "output_type": "display_data"
    }
   ],
   "source": [
    "grants_df.prediction.value_counts().plot.bar()"
   ]
  },
  {
   "cell_type": "markdown",
   "metadata": {},
   "source": [
    "Observations:\n",
    "\n",
    "- country names make it into the input: Zambia\n",
    "- zipcode address: \"FL, 33199-0001\", \"SC, 29501-0548\""
   ]
  },
  {
   "cell_type": "code",
   "execution_count": null,
   "metadata": {},
   "outputs": [],
   "source": []
  }
 ],
 "metadata": {
  "kernelspec": {
   "display_name": "Python [conda env:generic-classifier] *",
   "language": "python",
   "name": "conda-env-generic-classifier-py"
  },
  "language_info": {
   "codemirror_mode": {
    "name": "ipython",
    "version": 3
   },
   "file_extension": ".py",
   "mimetype": "text/x-python",
   "name": "python",
   "nbconvert_exporter": "python",
   "pygments_lexer": "ipython3",
   "version": "3.6.10"
  }
 },
 "nbformat": 4,
 "nbformat_minor": 2
}
